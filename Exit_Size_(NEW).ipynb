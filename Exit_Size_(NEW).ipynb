{
  "nbformat": 4,
  "nbformat_minor": 0,
  "metadata": {
    "kernelspec": {
      "display_name": "Python 3",
      "language": "python",
      "name": "python3"
    },
    "language_info": {
      "codemirror_mode": {
        "name": "ipython",
        "version": 3
      },
      "file_extension": ".py",
      "mimetype": "text/x-python",
      "name": "python",
      "nbconvert_exporter": "python",
      "pygments_lexer": "ipython3",
      "version": "3.8.5"
    },
    "colab": {
      "name": "Exit Size (NEW).ipynb",
      "provenance": [],
      "include_colab_link": true
    }
  },
  "cells": [
    {
      "cell_type": "markdown",
      "metadata": {
        "id": "view-in-github",
        "colab_type": "text"
      },
      "source": [
        "<a href=\"https://colab.research.google.com/github/Mayank-004/VC-Industry-Predictive-analysis/blob/main/Exit_Size_(NEW).ipynb\" target=\"_parent\"><img src=\"https://colab.research.google.com/assets/colab-badge.svg\" alt=\"Open In Colab\"/></a>"
      ]
    },
    {
      "cell_type": "markdown",
      "metadata": {
        "id": "bWUYm4mYUwIt"
      },
      "source": [
        "# imort modules"
      ]
    },
    {
      "cell_type": "code",
      "metadata": {
        "id": "lG8nobSOUwIu"
      },
      "source": [
        "import numpy as np\n",
        "import pandas as pd\n",
        "import matplotlib.pyplot as plt\n",
        "import seaborn as sn\n",
        "from sklearn.preprocessing import StandardScaler\n",
        "from sklearn.model_selection import GridSearchCV\n",
        "from sklearn.linear_model import LinearRegression\n",
        "from sklearn.linear_model import Ridge\n",
        "from sklearn.linear_model import Lasso\n",
        "from sklearn.linear_model import ElasticNet\n",
        "from xgboost.sklearn import XGBRegressor\n",
        "import xgboost as xgb\n",
        "from sklearn.ensemble import RandomForestRegressor\n",
        "from sklearn.model_selection import KFold\n",
        "from sklearn.metrics import mean_squared_error\n",
        "from sklearn.metrics import mean_absolute_error\n",
        "from sklearn.neighbors import KNeighborsRegressor\n",
        "from sklearn.svm import SVR\n",
        "from sklearn.preprocessing import LabelEncoder"
      ],
      "execution_count": null,
      "outputs": []
    },
    {
      "cell_type": "markdown",
      "metadata": {
        "id": "Pv1CdiXxUwIv"
      },
      "source": [
        "# Load data"
      ]
    },
    {
      "cell_type": "code",
      "metadata": {
        "id": "6klJqAlaUwIw"
      },
      "source": [
        "path1 = 'https://raw.githubusercontent.com/Carloszone/ALY-6080/main/NE%20%20VC%20Backed%20Exits%20DevOps%20(VC%20Exits).csv'\n",
        "path2 = 'https://raw.githubusercontent.com/Carloszone/ALY-6080/main/NE%20%20VC%20Backed%20Exits%20DevOps%20(return%20by%20series).csv'\n",
        "path3 = 'https://raw.githubusercontent.com/Carloszone/ALY-6080/main/NE%20Devops%20dataset%20all-fields.csv'\n",
        "\n",
        "df_vc = pd.read_csv(path1)\n",
        "df_return = pd.read_csv(path2)\n",
        "df_all = pd.read_csv(path3)\n",
        "\n"
      ],
      "execution_count": null,
      "outputs": []
    },
    {
      "cell_type": "code",
      "metadata": {
        "id": "5Vq00F_cUwIw"
      },
      "source": [
        "# rename the CompanyID in df_all\n",
        "df_all = df_all.rename(columns={\"Company ID\": \"Company PBID\"})"
      ],
      "execution_count": null,
      "outputs": []
    },
    {
      "cell_type": "markdown",
      "metadata": {
        "id": "0AUgBYPIUwIw"
      },
      "source": [
        "# Data processing"
      ]
    },
    {
      "cell_type": "code",
      "metadata": {
        "id": "Fx4C1QwpUwIx"
      },
      "source": [
        "# remove all NA in column Company PBID\n",
        "df_vc = df_vc.dropna(subset = ['Company PBID'])\n",
        "df_return = df_return.dropna(subset = ['Company PBID'])\n",
        "df_all = df_all.dropna(subset = ['Company PBID'])"
      ],
      "execution_count": null,
      "outputs": []
    },
    {
      "cell_type": "code",
      "metadata": {
        "id": "5amA-XcXUwIx"
      },
      "source": [
        "# remove the addiditonal signal for all availiavle values in df_vc\n",
        "df_vc['MOIC'][df_vc['MOIC'].notna()] = df_vc['MOIC'][df_vc['MOIC'].notna()].str.replace(\"x\",\"\")\n",
        "df_vc['Exit Size (millions)'][df_vc['Exit Size (millions)'].notna()] = df_vc['Exit Size (millions)'][df_vc['Exit Size (millions)'].notna()].str.replace(\"$\",\"\")\n",
        "df_vc['Pre Value (millions)'][df_vc['Pre Value (millions)'].notna()] = df_vc['Pre Value (millions)'][df_vc['Pre Value (millions)'].notna()].str.replace(\"$\",\"\")\n",
        "df_vc['Post Value (millions)'][df_vc['Post Value (millions)'].notna()] = df_vc['Post Value (millions)'][df_vc['Post Value (millions)'].notna()].str.replace(\"$\",\"\")\n",
        "df_vc['Total VC Capital Raised ($M)***'][df_vc['Total VC Capital Raised ($M)***'].notna()] = df_vc['Total VC Capital Raised ($M)***'][df_vc['Total VC Capital Raised ($M)***'].notna()].str.replace(\"$\",\"\")\n",
        "df_vc['Total Preferred Capital Raised ($M)*'][df_vc['Total Preferred Capital Raised ($M)*'].notna()] = df_vc['Total Preferred Capital Raised ($M)*'][df_vc['Total Preferred Capital Raised ($M)*'].notna()].str.replace(\"$\",\"\")\n",
        "df_vc['Total Preferred Capital Raised ($M) - Combination**'][df_vc['Total Preferred Capital Raised ($M) - Combination**'].notna()] = df_vc['Total Preferred Capital Raised ($M) - Combination**'][df_vc['Total Preferred Capital Raised ($M) - Combination**'].notna()].str.replace(\"$\",\"\")\n",
        "\n",
        "df_vc['Exit Size (millions)'][df_vc['Exit Size (millions)'].notna()] = df_vc['Exit Size (millions)'][df_vc['Exit Size (millions)'].notna()].str.replace(\",\",\"\")\n",
        "df_vc['Pre Value (millions)'][df_vc['Pre Value (millions)'].notna()] = df_vc['Pre Value (millions)'][df_vc['Pre Value (millions)'].notna()].str.replace(\",\",\"\")\n",
        "df_vc['Post Value (millions)'][df_vc['Post Value (millions)'].notna()] = df_vc['Post Value (millions)'][df_vc['Post Value (millions)'].notna()].str.replace(\",\",\"\")\n",
        "df_vc['Total VC Capital Raised ($M)***'][df_vc['Total VC Capital Raised ($M)***'].notna()] = df_vc['Total VC Capital Raised ($M)***'][df_vc['Total VC Capital Raised ($M)***'].notna()].str.replace(\",\",\"\")\n",
        "df_vc['Total Preferred Capital Raised ($M)*'][df_vc['Total Preferred Capital Raised ($M)*'].notna()] = df_vc['Total Preferred Capital Raised ($M)*'][df_vc['Total Preferred Capital Raised ($M)*'].notna()].str.replace(\",\",\"\")\n",
        "df_vc['Total Preferred Capital Raised ($M) - Combination**'][df_vc['Total Preferred Capital Raised ($M) - Combination**'].notna()] = df_vc['Total Preferred Capital Raised ($M) - Combination**'][df_vc['Total Preferred Capital Raised ($M) - Combination**'].notna()].str.replace(\",\",\"\")\n",
        "\n",
        "df_vc['% Preferred Capital Raised*'][df_vc['% Preferred Capital Raised*'].notna()] = df_vc['% Preferred Capital Raised*'][df_vc['% Preferred Capital Raised*'].notna()].str.replace(\"%\",\"\")\n",
        "df_vc['% Preferred Capital Raised - Combination**'][df_vc['% Preferred Capital Raised - Combination**'].notna()] = df_vc['% Preferred Capital Raised - Combination**'][df_vc['% Preferred Capital Raised - Combination**'].notna()].str.replace(\"%\",\"\")"
      ],
      "execution_count": null,
      "outputs": []
    },
    {
      "cell_type": "code",
      "metadata": {
        "id": "n-daSA4MUwIy"
      },
      "source": [
        "# # remove the addiditonal signal for all availiavle values in df_all\n",
        "df_all['Raised to Date'] = df_all['Raised to Date'].str.replace(\",\",\"\")\n",
        "df_all['Current Employees'] = df_all['Current Employees'].str.replace(\",\",\"\")\n"
      ],
      "execution_count": null,
      "outputs": []
    },
    {
      "cell_type": "code",
      "metadata": {
        "id": "d7iLEgw2UwIy"
      },
      "source": [
        "# transform data type in df_vc\n",
        "df_vc.loc[:,'Exit Size (millions)'] = df_vc.loc[:,'Exit Size (millions)'].astype(float)\n",
        "df_vc.loc[:,'Pre Value (millions)'] = df_vc.loc[:,'Pre Value (millions)'].astype(float)\n",
        "df_vc.loc[:,'Post Value (millions)'] = df_vc.loc[:,'Post Value (millions)'].astype(float)\n",
        "df_vc.loc[:,'Total VC Capital Raised ($M)***'] = df_vc.loc[:,'Total VC Capital Raised ($M)***'].astype(float)\n",
        "df_vc.loc[:,'Total Preferred Capital Raised ($M)*'] = df_vc.loc[:,'Total Preferred Capital Raised ($M)*'].astype(float)\n",
        "df_vc.loc[:,'% Preferred Capital Raised*'] = df_vc.loc[:,'% Preferred Capital Raised*'].astype(float)\n",
        "df_vc.loc[:,'Total Preferred Capital Raised ($M) - Combination**'] = df_vc.loc[:,'Total Preferred Capital Raised ($M) - Combination**'].astype(float)\n",
        "df_vc.loc[:,'% Preferred Capital Raised - Combination**'] = df_vc.loc[:,'% Preferred Capital Raised - Combination**'].astype(float)\n",
        "df_vc.loc[:,'MOIC'] = df_vc.loc[:,'MOIC'].astype(float)"
      ],
      "execution_count": null,
      "outputs": []
    },
    {
      "cell_type": "code",
      "metadata": {
        "id": "WIUQouaMUwIz"
      },
      "source": [
        "# transform data type in df_all\n",
        "df_all.loc[:,'Raised to Date'] = df_all.loc[:,'Raised to Date'].astype(float)\n",
        "df_all.loc[:,'Current Employees'] = df_all.loc[:,'Current Employees'].astype(float)\n"
      ],
      "execution_count": null,
      "outputs": []
    },
    {
      "cell_type": "markdown",
      "metadata": {
        "id": "MlfpUGgbUwIz"
      },
      "source": [
        "# merge datasets and create a new df"
      ]
    },
    {
      "cell_type": "code",
      "metadata": {
        "id": "FpNth1LlUwIz"
      },
      "source": [
        "# merge dataset\n",
        "df = df_all.merge(df_vc.loc[df_vc['Exit Size (millions)'].notna(),:], how = 'inner', on = 'Company PBID')"
      ],
      "execution_count": null,
      "outputs": []
    },
    {
      "cell_type": "code",
      "metadata": {
        "id": "HO4u0aOnUwIz"
      },
      "source": [
        "# set exit size as the first columns\n",
        "newcol = df['Exit Size (millions)']\n",
        "df = df.drop('Exit Size (millions)', axis = 1)\n",
        "df.insert(loc=0, column='Exit Size', value=newcol)\n"
      ],
      "execution_count": null,
      "outputs": []
    },
    {
      "cell_type": "code",
      "metadata": {
        "id": "TuiEvDJaUwI0"
      },
      "source": [
        "# locate and drop all columns that missing value percent >30%\n",
        "# check missing value in df\n",
        "missing = df.isna().sum().sort_values(ascending = False)\n",
        "percent_missing = ((missing / df.isnull().count()) * 100).sort_values(ascending = False)\n",
        "missing_df = pd.concat([missing,percent_missing], axis = 1, keys = ['Total', 'Percent'],sort = False)\n",
        "missing_df = missing_df.reset_index()\n",
        "over30 = list(missing_df.loc[missing_df['Percent'] >= 30,'index'])"
      ],
      "execution_count": null,
      "outputs": []
    },
    {
      "cell_type": "code",
      "metadata": {
        "id": "9QdpAGp1UwI0"
      },
      "source": [
        "# drop all columns that missing value percent is over 30%\n",
        "df = df.drop(over30, axis = 1)"
      ],
      "execution_count": null,
      "outputs": []
    },
    {
      "cell_type": "code",
      "metadata": {
        "id": "_ACyGoboUwI0",
        "outputId": "ddd6d0f7-6019-4a67-ea33-0d2eeec0ce3f"
      },
      "source": [
        "df.info"
      ],
      "execution_count": null,
      "outputs": [
        {
          "output_type": "execute_result",
          "data": {
            "text/plain": [
              "<bound method DataFrame.info of      Exit Size     Deal ID Company PBID Primary Industry Sector  \\\n",
              "0       166.00   46035-10T     81857-08  Information Technology   \n",
              "1        14.10   86566-96T    179890-84  Information Technology   \n",
              "2        14.10   86567-86T    179890-84  Information Technology   \n",
              "3        14.10   86568-58T    179890-84  Information Technology   \n",
              "4        14.10   86569-48T    179890-84  Information Technology   \n",
              "..         ...         ...          ...                     ...   \n",
              "154   12395.10  121347-82T     51156-64  Information Technology   \n",
              "155      40.00  109319-59T     42855-04  Information Technology   \n",
              "156      40.00   35583-94T     42855-04  Information Technology   \n",
              "157    8873.17   81215-92T     56017-63  Information Technology   \n",
              "158    8873.17   44245-45T     56017-63  Information Technology   \n",
              "\n",
              "    Primary Industry Group           Primary Industry Code  \\\n",
              "0                 Software  Business/Productivity Software   \n",
              "1                 Software            Application Software   \n",
              "2                 Software            Application Software   \n",
              "3                 Software            Application Software   \n",
              "4                 Software            Application Software   \n",
              "..                     ...                             ...   \n",
              "154               Software          Entertainment Software   \n",
              "155               Software          Communication Software   \n",
              "156               Software          Communication Software   \n",
              "157               Software          Communication Software   \n",
              "158               Software          Communication Software   \n",
              "\n",
              "                                        All Industries  \\\n",
              "0    Business/Productivity Software*, Social/Platfo...   \n",
              "1    Application Software*, Other Services (B2C Non...   \n",
              "2    Application Software*, Other Services (B2C Non...   \n",
              "3    Application Software*, Other Services (B2C Non...   \n",
              "4    Application Software*, Other Services (B2C Non...   \n",
              "..                                                 ...   \n",
              "154  Entertainment Software*, Software Development ...   \n",
              "155                            Communication Software*   \n",
              "156                            Communication Software*   \n",
              "157                            Communication Software*   \n",
              "158                            Communication Software*   \n",
              "\n",
              "                                           Verticals_x  \\\n",
              "0                             CloudTech & DevOps, SaaS   \n",
              "1    Big Data, CloudTech & DevOps, Industrials, Int...   \n",
              "2    Big Data, CloudTech & DevOps, Industrials, Int...   \n",
              "3    Big Data, CloudTech & DevOps, Industrials, Int...   \n",
              "4    Big Data, CloudTech & DevOps, Industrials, Int...   \n",
              "..                                                 ...   \n",
              "154  Augmented Reality, CloudTech & DevOps, Gaming,...   \n",
              "155                      CloudTech & DevOps, SaaS, TMT   \n",
              "156                      CloudTech & DevOps, SaaS, TMT   \n",
              "157              CloudTech & DevOps, Mobile, SaaS, TMT   \n",
              "158              CloudTech & DevOps, Mobile, SaaS, TMT   \n",
              "\n",
              "                                              Keywords  \\\n",
              "0    agile management, data sync, enterprise softwa...   \n",
              "1    alerts service, cellular technology, data anal...   \n",
              "2    alerts service, cellular technology, data anal...   \n",
              "3    alerts service, cellular technology, data anal...   \n",
              "4    alerts service, cellular technology, data anal...   \n",
              "..                                                 ...   \n",
              "154  3d games, 3d gaming, 3d project software, arch...   \n",
              "155  collaboration software, collaboration system, ...   \n",
              "156  collaboration software, collaboration system, ...   \n",
              "157  cloudtech and devops, enterprise video communi...   \n",
              "158  cloudtech and devops, enterprise video communi...   \n",
              "\n",
              "    Current Financing Status  ...           Exit Type Last VC Deal Type  \\\n",
              "0         Formerly VC-backed  ...  Merger/Acquisition    Early Stage VC   \n",
              "1         Formerly VC-backed  ...  Merger/Acquisition    Early Stage VC   \n",
              "2         Formerly VC-backed  ...  Merger/Acquisition    Early Stage VC   \n",
              "3         Formerly VC-backed  ...  Merger/Acquisition    Early Stage VC   \n",
              "4         Formerly VC-backed  ...  Merger/Acquisition    Early Stage VC   \n",
              "..                       ...  ...                 ...               ...   \n",
              "154       Formerly VC-backed  ...                 IPO    Later Stage VC   \n",
              "155       Formerly VC-backed  ...  Merger/Acquisition          Series F   \n",
              "156       Formerly VC-backed  ...  Merger/Acquisition          Series F   \n",
              "157       Formerly VC-backed  ...                 IPO          Series D   \n",
              "158       Formerly VC-backed  ...                 IPO          Series D   \n",
              "\n",
              "    Total VC Capital Raised ($M)***         Industry Sector  Industry Group  \\\n",
              "0                             10.10  Information Technology        Software   \n",
              "1                               NaN  Information Technology        Software   \n",
              "2                               NaN  Information Technology        Software   \n",
              "3                               NaN  Information Technology        Software   \n",
              "4                               NaN  Information Technology        Software   \n",
              "..                              ...                     ...             ...   \n",
              "154                          899.00  Information Technology        Software   \n",
              "155                          183.19  Information Technology        Software   \n",
              "156                          183.19  Information Technology        Software   \n",
              "157                          160.75  Information Technology        Software   \n",
              "158                          160.75  Information Technology        Software   \n",
              "\n",
              "                      Industry Code  \\\n",
              "0    Business/Productivity Software   \n",
              "1              Application Software   \n",
              "2              Application Software   \n",
              "3              Application Software   \n",
              "4              Application Software   \n",
              "..                              ...   \n",
              "154          Entertainment Software   \n",
              "155          Communication Software   \n",
              "156          Communication Software   \n",
              "157          Communication Software   \n",
              "158          Communication Software   \n",
              "\n",
              "                                           Verticals_y           City  \\\n",
              "0                             SaaS, CloudTech & DevOps     Georgetown   \n",
              "1    Mobile, LOHAS & Wellness, Big Data, Internet o...      Kitchener   \n",
              "2    Mobile, LOHAS & Wellness, Big Data, Internet o...      Kitchener   \n",
              "3    Mobile, LOHAS & Wellness, Big Data, Internet o...      Kitchener   \n",
              "4    Mobile, LOHAS & Wellness, Big Data, Internet o...      Kitchener   \n",
              "..                                                 ...            ...   \n",
              "154  Virtual Reality, Augmented Reality, Gaming, TM...  San Francisco   \n",
              "155                      SaaS, TMT, CloudTech & DevOps     Hackensack   \n",
              "156                      SaaS, TMT, CloudTech & DevOps     Hackensack   \n",
              "157              SaaS, Mobile, TMT, CloudTech & DevOps       San Jose   \n",
              "158              SaaS, Mobile, TMT, CloudTech & DevOps       San Jose   \n",
              "\n",
              "          State        Country  \n",
              "0         Texas  United States  \n",
              "1       Ontario         Canada  \n",
              "2       Ontario         Canada  \n",
              "3       Ontario         Canada  \n",
              "4       Ontario         Canada  \n",
              "..          ...            ...  \n",
              "154  California  United States  \n",
              "155  New Jersey  United States  \n",
              "156  New Jersey  United States  \n",
              "157  California  United States  \n",
              "158  California  United States  \n",
              "\n",
              "[159 rows x 52 columns]>"
            ]
          },
          "metadata": {
            "tags": []
          },
          "execution_count": 19
        }
      ]
    },
    {
      "cell_type": "code",
      "metadata": {
        "id": "05g7X02IUwI1",
        "outputId": "db56804e-1eb7-42d3-fa33-ccb0b0a690f9"
      },
      "source": [
        "df.columns"
      ],
      "execution_count": null,
      "outputs": [
        {
          "output_type": "execute_result",
          "data": {
            "text/plain": [
              "Index(['Exit Size', 'Deal ID', 'Company PBID', 'Primary Industry Sector',\n",
              "       'Primary Industry Group', 'Primary Industry Code', 'All Industries',\n",
              "       'Verticals_x', 'Keywords', 'Current Financing Status',\n",
              "       'Current Business Status', 'Universe', 'CEO PBId', 'CEO Education',\n",
              "       'Deal No.', 'Deal ID.1', 'Deal Date', 'Deal Size', 'Deal Size Status',\n",
              "       'Raised to Date', 'VC Round', 'Deal Type', 'Deal Type 2', 'Deal Class',\n",
              "       'Total Invested Equity', 'Deal Status', 'Business Status',\n",
              "       'Financing Status', '# Investors', '# New Investors',\n",
              "       'Current Employees', 'Native Currency of Deal', 'HQ Location',\n",
              "       'HQ Global Region', 'HQ Global Sub Region', 'Company City',\n",
              "       'Company State/Province', 'Company Post Code', 'Company Country',\n",
              "       'Year Founded', 'Exit Date', 'Post Value (millions)', 'Exit Type',\n",
              "       'Last VC Deal Type', 'Total VC Capital Raised ($M)***',\n",
              "       'Industry Sector', 'Industry Group', 'Industry Code', 'Verticals_y',\n",
              "       'City', 'State', 'Country'],\n",
              "      dtype='object')"
            ]
          },
          "metadata": {
            "tags": []
          },
          "execution_count": 20
        }
      ]
    },
    {
      "cell_type": "code",
      "metadata": {
        "id": "VoGxdEyvUwI1"
      },
      "source": [
        "# based on unqie value table, drop columns\n",
        "droplist = ['Deal ID', 'Company PBID', 'Primary Industry Code', 'All Industries', 'Keywords', \n",
        "            'CEO PBId', 'Deal ID.1', 'Deal Status', 'HQ Location', 'Company City','Company State/Province', \n",
        "            'Company Post Code', 'Industry Code', 'Verticals_y', 'City', 'State', 'Deal Type 2', 'VC Round']\n",
        "\n",
        "# drop columns\n",
        "df = df.drop(droplist, axis = 1)"
      ],
      "execution_count": null,
      "outputs": []
    },
    {
      "cell_type": "code",
      "metadata": {
        "id": "nLeWZvnOUwI1",
        "outputId": "101a6979-8f8e-4aa4-c7ad-89795646f817"
      },
      "source": [
        "df.columns"
      ],
      "execution_count": null,
      "outputs": [
        {
          "output_type": "execute_result",
          "data": {
            "text/plain": [
              "Index(['Exit Size', 'Primary Industry Sector', 'Primary Industry Group',\n",
              "       'Verticals_x', 'Current Financing Status', 'Current Business Status',\n",
              "       'Universe', 'CEO Education', 'Deal No.', 'Deal Date', 'Deal Size',\n",
              "       'Deal Size Status', 'Raised to Date', 'Deal Type', 'Deal Class',\n",
              "       'Total Invested Equity', 'Business Status', 'Financing Status',\n",
              "       '# Investors', '# New Investors', 'Current Employees',\n",
              "       'Native Currency of Deal', 'HQ Global Region', 'HQ Global Sub Region',\n",
              "       'Company Country', 'Year Founded', 'Exit Date', 'Post Value (millions)',\n",
              "       'Exit Type', 'Last VC Deal Type', 'Total VC Capital Raised ($M)***',\n",
              "       'Industry Sector', 'Industry Group', 'Country'],\n",
              "      dtype='object')"
            ]
          },
          "metadata": {
            "tags": []
          },
          "execution_count": 22
        }
      ]
    },
    {
      "cell_type": "markdown",
      "metadata": {
        "id": "jiTAZqzsUwI1"
      },
      "source": [
        "# Data processing: Fill missing value"
      ]
    },
    {
      "cell_type": "code",
      "metadata": {
        "id": "KTxiGgukUwI1",
        "outputId": "881042e0-7904-4351-c354-2ad5de28fc2c"
      },
      "source": [
        "# check missing value in df\n",
        "missing = df.isna().sum().sort_values(ascending = False)\n",
        "percent_missing = ((missing / df.isnull().count()) * 100).sort_values(ascending = False)\n",
        "missing_df = pd.concat([missing,percent_missing], axis = 1, keys = ['Total', 'Percent'],sort = False)\n",
        "missing_df[missing_df['Total'] >= 1]"
      ],
      "execution_count": null,
      "outputs": [
        {
          "output_type": "execute_result",
          "data": {
            "text/html": [
              "<div>\n",
              "<style scoped>\n",
              "    .dataframe tbody tr th:only-of-type {\n",
              "        vertical-align: middle;\n",
              "    }\n",
              "\n",
              "    .dataframe tbody tr th {\n",
              "        vertical-align: top;\n",
              "    }\n",
              "\n",
              "    .dataframe thead th {\n",
              "        text-align: right;\n",
              "    }\n",
              "</style>\n",
              "<table border=\"1\" class=\"dataframe\">\n",
              "  <thead>\n",
              "    <tr style=\"text-align: right;\">\n",
              "      <th></th>\n",
              "      <th>Total</th>\n",
              "      <th>Percent</th>\n",
              "    </tr>\n",
              "  </thead>\n",
              "  <tbody>\n",
              "    <tr>\n",
              "      <th>Total Invested Equity</th>\n",
              "      <td>34</td>\n",
              "      <td>21.383648</td>\n",
              "    </tr>\n",
              "    <tr>\n",
              "      <th>Deal Size Status</th>\n",
              "      <td>29</td>\n",
              "      <td>18.238994</td>\n",
              "    </tr>\n",
              "    <tr>\n",
              "      <th>Deal Size</th>\n",
              "      <td>29</td>\n",
              "      <td>18.238994</td>\n",
              "    </tr>\n",
              "    <tr>\n",
              "      <th># New Investors</th>\n",
              "      <td>27</td>\n",
              "      <td>16.981132</td>\n",
              "    </tr>\n",
              "    <tr>\n",
              "      <th>CEO Education</th>\n",
              "      <td>27</td>\n",
              "      <td>16.981132</td>\n",
              "    </tr>\n",
              "    <tr>\n",
              "      <th># Investors</th>\n",
              "      <td>21</td>\n",
              "      <td>13.207547</td>\n",
              "    </tr>\n",
              "    <tr>\n",
              "      <th>Current Employees</th>\n",
              "      <td>20</td>\n",
              "      <td>12.578616</td>\n",
              "    </tr>\n",
              "    <tr>\n",
              "      <th>Raised to Date</th>\n",
              "      <td>8</td>\n",
              "      <td>5.031447</td>\n",
              "    </tr>\n",
              "    <tr>\n",
              "      <th>Post Value (millions)</th>\n",
              "      <td>6</td>\n",
              "      <td>3.773585</td>\n",
              "    </tr>\n",
              "    <tr>\n",
              "      <th>Total VC Capital Raised ($M)***</th>\n",
              "      <td>4</td>\n",
              "      <td>2.515723</td>\n",
              "    </tr>\n",
              "    <tr>\n",
              "      <th>Year Founded</th>\n",
              "      <td>3</td>\n",
              "      <td>1.886792</td>\n",
              "    </tr>\n",
              "  </tbody>\n",
              "</table>\n",
              "</div>"
            ],
            "text/plain": [
              "                                 Total    Percent\n",
              "Total Invested Equity               34  21.383648\n",
              "Deal Size Status                    29  18.238994\n",
              "Deal Size                           29  18.238994\n",
              "# New Investors                     27  16.981132\n",
              "CEO Education                       27  16.981132\n",
              "# Investors                         21  13.207547\n",
              "Current Employees                   20  12.578616\n",
              "Raised to Date                       8   5.031447\n",
              "Post Value (millions)                6   3.773585\n",
              "Total VC Capital Raised ($M)***      4   2.515723\n",
              "Year Founded                         3   1.886792"
            ]
          },
          "metadata": {
            "tags": []
          },
          "execution_count": 23
        }
      ]
    },
    {
      "cell_type": "code",
      "metadata": {
        "id": "7wy-CaPnUwI2"
      },
      "source": [
        "# fill missing values\n",
        "df['Total Invested Equity'] = df['Total Invested Equity'].fillna(df['Total Invested Equity'].mean())\n",
        "df['Deal Size Status'] = df['Deal Size Status'].fillna('Missing')\n",
        "df['Deal Size'] = df['Deal Size'].fillna(df['Deal Size'].mean())\n",
        "df['CEO Education'] = df['CEO Education'].fillna('O')\n",
        "df['# New Investors'] = df['# New Investors'].fillna(int(df['# New Investors'].mean()))\n",
        "df['# Investors'] = df['# Investors'].fillna(int(df['# Investors'].mean()))\n",
        "df['Current Employees'] = df['Current Employees'].fillna(int(df['Current Employees'].mean()))\n",
        "\n",
        "df['Raised to Date'] = df['Raised to Date'].fillna(df['Raised to Date'].mean())\n",
        "df['Post Value (millions)'] = df['Post Value (millions)'].fillna(df['Post Value (millions)'].mean())\n",
        "df['Total VC Capital Raised ($M)***'] = df['Total VC Capital Raised ($M)***'].fillna(df['Total VC Capital Raised ($M)***'].mean())\n",
        "df['Year Founded'] = df['Year Founded'].fillna(2013)\n",
        "df['Last VC Deal Type'] = df['Last VC Deal Type'].apply(lambda x: \"Series A\" if( \"Series A\" in x or 'Series 1' in x) else \n",
        "                                                       \"Series B\" if (\"Series B\" in x or \"Series 2\" in x) else\n",
        "                                                       \"Series C\" if \"Series C\" in x else\n",
        "                                                       \"Series D\" if \"Series D\" in x else\n",
        "                                                       \"Series E\" if \"Series E\" in x else x)"
      ],
      "execution_count": null,
      "outputs": []
    },
    {
      "cell_type": "markdown",
      "metadata": {
        "id": "621IIZGIUwI2"
      },
      "source": [
        "# Data processinig: Data fransform"
      ]
    },
    {
      "cell_type": "code",
      "metadata": {
        "id": "OyZ0r4xvUwI2"
      },
      "source": [
        "#transform \"CEO Eduction\"\n",
        "df['CEO Education'] = df['CEO Education'].apply(lambda x: 3 if \"Doctor\" in x else \\\n",
        "                                               2 if \"Master\" in x else \\\n",
        "                                               1 if \"Bachelor\" in x else 0)\n",
        "#transform \"Deal Date\"\n",
        "df['Deal Date'] = df['Deal Date'].str.extract(pat='([0-9]+$)')\n",
        "df.loc[:,'Deal Date'] = df.loc[:,'Deal Date'].astype(float)\n",
        "#transform \"Exit Date\"\n",
        "df['Exit Date'] = df['Exit Date'].str.extract(pat='^([0-9]+)')\n",
        "\n",
        "df['CompanyAge'] = 2021 - df['Year Founded']\n"
      ],
      "execution_count": null,
      "outputs": []
    },
    {
      "cell_type": "code",
      "metadata": {
        "id": "MzcIYIRrUwI2"
      },
      "source": [
        "df = df.drop(['Native Currency of Deal', 'Deal Date','Year Founded'],axis = 1)"
      ],
      "execution_count": null,
      "outputs": []
    },
    {
      "cell_type": "code",
      "metadata": {
        "id": "V4tKgivZUwI2",
        "outputId": "ef6d2da3-cf82-4ae7-c1b8-61d5d7b9617e"
      },
      "source": [
        "df.head()"
      ],
      "execution_count": null,
      "outputs": [
        {
          "output_type": "execute_result",
          "data": {
            "text/html": [
              "<div>\n",
              "<style scoped>\n",
              "    .dataframe tbody tr th:only-of-type {\n",
              "        vertical-align: middle;\n",
              "    }\n",
              "\n",
              "    .dataframe tbody tr th {\n",
              "        vertical-align: top;\n",
              "    }\n",
              "\n",
              "    .dataframe thead th {\n",
              "        text-align: right;\n",
              "    }\n",
              "</style>\n",
              "<table border=\"1\" class=\"dataframe\">\n",
              "  <thead>\n",
              "    <tr style=\"text-align: right;\">\n",
              "      <th></th>\n",
              "      <th>Exit Size</th>\n",
              "      <th>Primary Industry Sector</th>\n",
              "      <th>Primary Industry Group</th>\n",
              "      <th>Verticals_x</th>\n",
              "      <th>Current Financing Status</th>\n",
              "      <th>Current Business Status</th>\n",
              "      <th>Universe</th>\n",
              "      <th>CEO Education</th>\n",
              "      <th>Deal No.</th>\n",
              "      <th>Deal Size</th>\n",
              "      <th>...</th>\n",
              "      <th>Company Country</th>\n",
              "      <th>Exit Date</th>\n",
              "      <th>Post Value (millions)</th>\n",
              "      <th>Exit Type</th>\n",
              "      <th>Last VC Deal Type</th>\n",
              "      <th>Total VC Capital Raised ($M)***</th>\n",
              "      <th>Industry Sector</th>\n",
              "      <th>Industry Group</th>\n",
              "      <th>Country</th>\n",
              "      <th>CompanyAge</th>\n",
              "    </tr>\n",
              "  </thead>\n",
              "  <tbody>\n",
              "    <tr>\n",
              "      <th>0</th>\n",
              "      <td>166.0</td>\n",
              "      <td>Information Technology</td>\n",
              "      <td>Software</td>\n",
              "      <td>CloudTech &amp; DevOps, SaaS</td>\n",
              "      <td>Formerly VC-backed</td>\n",
              "      <td>Generating Revenue</td>\n",
              "      <td>Venture Capital</td>\n",
              "      <td>2</td>\n",
              "      <td>1</td>\n",
              "      <td>10.100000</td>\n",
              "      <td>...</td>\n",
              "      <td>United States</td>\n",
              "      <td>2019</td>\n",
              "      <td>166.0</td>\n",
              "      <td>Merger/Acquisition</td>\n",
              "      <td>Early Stage VC</td>\n",
              "      <td>10.100000</td>\n",
              "      <td>Information Technology</td>\n",
              "      <td>Software</td>\n",
              "      <td>United States</td>\n",
              "      <td>8.0</td>\n",
              "    </tr>\n",
              "    <tr>\n",
              "      <th>1</th>\n",
              "      <td>14.1</td>\n",
              "      <td>Information Technology</td>\n",
              "      <td>Software</td>\n",
              "      <td>Big Data, CloudTech &amp; DevOps, Industrials, Int...</td>\n",
              "      <td>Formerly VC-backed</td>\n",
              "      <td>Generating Revenue</td>\n",
              "      <td>Venture Capital</td>\n",
              "      <td>2</td>\n",
              "      <td>1</td>\n",
              "      <td>0.070000</td>\n",
              "      <td>...</td>\n",
              "      <td>Canada</td>\n",
              "      <td>2018</td>\n",
              "      <td>14.1</td>\n",
              "      <td>Merger/Acquisition</td>\n",
              "      <td>Early Stage VC</td>\n",
              "      <td>236.812516</td>\n",
              "      <td>Information Technology</td>\n",
              "      <td>Software</td>\n",
              "      <td>Canada</td>\n",
              "      <td>6.0</td>\n",
              "    </tr>\n",
              "    <tr>\n",
              "      <th>2</th>\n",
              "      <td>14.1</td>\n",
              "      <td>Information Technology</td>\n",
              "      <td>Software</td>\n",
              "      <td>Big Data, CloudTech &amp; DevOps, Industrials, Int...</td>\n",
              "      <td>Formerly VC-backed</td>\n",
              "      <td>Generating Revenue</td>\n",
              "      <td>Venture Capital</td>\n",
              "      <td>2</td>\n",
              "      <td>2</td>\n",
              "      <td>62.619462</td>\n",
              "      <td>...</td>\n",
              "      <td>Canada</td>\n",
              "      <td>2018</td>\n",
              "      <td>14.1</td>\n",
              "      <td>Merger/Acquisition</td>\n",
              "      <td>Early Stage VC</td>\n",
              "      <td>236.812516</td>\n",
              "      <td>Information Technology</td>\n",
              "      <td>Software</td>\n",
              "      <td>Canada</td>\n",
              "      <td>6.0</td>\n",
              "    </tr>\n",
              "    <tr>\n",
              "      <th>3</th>\n",
              "      <td>14.1</td>\n",
              "      <td>Information Technology</td>\n",
              "      <td>Software</td>\n",
              "      <td>Big Data, CloudTech &amp; DevOps, Industrials, Int...</td>\n",
              "      <td>Formerly VC-backed</td>\n",
              "      <td>Generating Revenue</td>\n",
              "      <td>Venture Capital</td>\n",
              "      <td>2</td>\n",
              "      <td>3</td>\n",
              "      <td>0.100000</td>\n",
              "      <td>...</td>\n",
              "      <td>Canada</td>\n",
              "      <td>2018</td>\n",
              "      <td>14.1</td>\n",
              "      <td>Merger/Acquisition</td>\n",
              "      <td>Early Stage VC</td>\n",
              "      <td>236.812516</td>\n",
              "      <td>Information Technology</td>\n",
              "      <td>Software</td>\n",
              "      <td>Canada</td>\n",
              "      <td>6.0</td>\n",
              "    </tr>\n",
              "    <tr>\n",
              "      <th>4</th>\n",
              "      <td>14.1</td>\n",
              "      <td>Information Technology</td>\n",
              "      <td>Software</td>\n",
              "      <td>Big Data, CloudTech &amp; DevOps, Industrials, Int...</td>\n",
              "      <td>Formerly VC-backed</td>\n",
              "      <td>Generating Revenue</td>\n",
              "      <td>Venture Capital</td>\n",
              "      <td>2</td>\n",
              "      <td>4</td>\n",
              "      <td>62.619462</td>\n",
              "      <td>...</td>\n",
              "      <td>Canada</td>\n",
              "      <td>2018</td>\n",
              "      <td>14.1</td>\n",
              "      <td>Merger/Acquisition</td>\n",
              "      <td>Early Stage VC</td>\n",
              "      <td>236.812516</td>\n",
              "      <td>Information Technology</td>\n",
              "      <td>Software</td>\n",
              "      <td>Canada</td>\n",
              "      <td>6.0</td>\n",
              "    </tr>\n",
              "  </tbody>\n",
              "</table>\n",
              "<p>5 rows × 32 columns</p>\n",
              "</div>"
            ],
            "text/plain": [
              "   Exit Size Primary Industry Sector Primary Industry Group  \\\n",
              "0      166.0  Information Technology               Software   \n",
              "1       14.1  Information Technology               Software   \n",
              "2       14.1  Information Technology               Software   \n",
              "3       14.1  Information Technology               Software   \n",
              "4       14.1  Information Technology               Software   \n",
              "\n",
              "                                         Verticals_x Current Financing Status  \\\n",
              "0                           CloudTech & DevOps, SaaS       Formerly VC-backed   \n",
              "1  Big Data, CloudTech & DevOps, Industrials, Int...       Formerly VC-backed   \n",
              "2  Big Data, CloudTech & DevOps, Industrials, Int...       Formerly VC-backed   \n",
              "3  Big Data, CloudTech & DevOps, Industrials, Int...       Formerly VC-backed   \n",
              "4  Big Data, CloudTech & DevOps, Industrials, Int...       Formerly VC-backed   \n",
              "\n",
              "  Current Business Status         Universe  CEO Education  Deal No.  \\\n",
              "0      Generating Revenue  Venture Capital              2         1   \n",
              "1      Generating Revenue  Venture Capital              2         1   \n",
              "2      Generating Revenue  Venture Capital              2         2   \n",
              "3      Generating Revenue  Venture Capital              2         3   \n",
              "4      Generating Revenue  Venture Capital              2         4   \n",
              "\n",
              "   Deal Size  ... Company Country  Exit Date Post Value (millions)  \\\n",
              "0  10.100000  ...   United States       2019                 166.0   \n",
              "1   0.070000  ...          Canada       2018                  14.1   \n",
              "2  62.619462  ...          Canada       2018                  14.1   \n",
              "3   0.100000  ...          Canada       2018                  14.1   \n",
              "4  62.619462  ...          Canada       2018                  14.1   \n",
              "\n",
              "            Exit Type  Last VC Deal Type Total VC Capital Raised ($M)***  \\\n",
              "0  Merger/Acquisition     Early Stage VC                       10.100000   \n",
              "1  Merger/Acquisition     Early Stage VC                      236.812516   \n",
              "2  Merger/Acquisition     Early Stage VC                      236.812516   \n",
              "3  Merger/Acquisition     Early Stage VC                      236.812516   \n",
              "4  Merger/Acquisition     Early Stage VC                      236.812516   \n",
              "\n",
              "          Industry Sector  Industry Group        Country  CompanyAge  \n",
              "0  Information Technology        Software  United States         8.0  \n",
              "1  Information Technology        Software         Canada         6.0  \n",
              "2  Information Technology        Software         Canada         6.0  \n",
              "3  Information Technology        Software         Canada         6.0  \n",
              "4  Information Technology        Software         Canada         6.0  \n",
              "\n",
              "[5 rows x 32 columns]"
            ]
          },
          "metadata": {
            "tags": []
          },
          "execution_count": 27
        }
      ]
    },
    {
      "cell_type": "markdown",
      "metadata": {
        "id": "fjAPh42MUwI3"
      },
      "source": [
        "# EDA "
      ]
    },
    {
      "cell_type": "code",
      "metadata": {
        "id": "gSp2KEGBUwI3",
        "outputId": "83017e39-d20a-45ea-f2ae-07738103a491"
      },
      "source": [
        "# check MOIC's distribution\n",
        "sn.boxplot(y=df[\"Exit Size\"])\n",
        "plt.show()\n",
        "sn.histplot(df, x ='Exit Size')\n",
        "plt.show()"
      ],
      "execution_count": null,
      "outputs": [
        {
          "output_type": "display_data",
          "data": {
            "image/png": "[encoded data removed]",
            "text/plain": [
              "<Figure size 432x288 with 1 Axes>"
            ]
          },
          "metadata": {
            "tags": [],
            "needs_background": "light"
          }
        },
        {
          "output_type": "display_data",
          "data": {
            "image/png": "[encoded data removed]",
            "text/plain": [
              "<Figure size 432x288 with 1 Axes>"
            ]
          },
          "metadata": {
            "tags": [],
            "needs_background": "light"
          }
        }
      ]
    },
    {
      "cell_type": "code",
      "metadata": {
        "id": "NR7aqvM8UwI3",
        "outputId": "a9b899f2-2982-4e20-cee0-36eda552ece8"
      },
      "source": [
        "# create correlation metrix\n",
        "corrMatrix = df.loc[:,['Exit Size', 'Deal No.', 'Deal Size', 'Raised to Date', 'Total Invested Equity', '# Investors', \n",
        "                       '# New Investors', 'Post Value (millions)', 'Total VC Capital Raised ($M)***', 'Current Employees']].corr()\n",
        "sn.heatmap(corrMatrix, annot=True)\n",
        "plt.show()"
      ],
      "execution_count": null,
      "outputs": [
        {
          "output_type": "display_data",
          "data": {
            "image/png": "[encoded data removed]",
            "text/plain": [
              "<Figure size 432x288 with 2 Axes>"
            ]
          },
          "metadata": {
            "tags": [],
            "needs_background": "light"
          }
        }
      ]
    },
    {
      "cell_type": "code",
      "metadata": {
        "id": "yeREVIidUwI3"
      },
      "source": [
        "# drop 'Total VC Capital Raised ($M)***','# New Investors'，'# Investors','Deal No.' baaed on corr matrix (collinearity)\n",
        "df = df.drop(['Post Value (millions)', '# New Investors','# Investors','Deal No.'], axis = 1)\n",
        "\n",
        "# drop outliers\n",
        "df = df.loc[df['Exit Size']<15000,:].reset_index(drop=True)"
      ],
      "execution_count": null,
      "outputs": []
    },
    {
      "cell_type": "code",
      "metadata": {
        "id": "39-JhkEAUwI3"
      },
      "source": [
        "#new = pd.DataFrame({\n",
        "#    'feature':df.columns,\n",
        "#    'data type':df.dtypes\n",
        "#})\n",
        "#categorical = list(new.loc[new['data type'] == \"object\", 'feature'])"
      ],
      "execution_count": null,
      "outputs": []
    },
    {
      "cell_type": "markdown",
      "metadata": {
        "id": "FlF0RU_iUwI3"
      },
      "source": [
        "# Feature engineering"
      ]
    },
    {
      "cell_type": "code",
      "metadata": {
        "id": "xp4TrBLMUwI4"
      },
      "source": [
        "def generate_features(data):\n",
        "    le= LabelEncoder()\n",
        "    data = data.loc[:,['Exit Size', 'Primary Industry Sector', 'Current Employees', 'Country', 'CompanyAge', 'Last VC Deal Type',\n",
        "                                    'Total VC Capital Raised ($M)***',]]\n",
        "    data['Primary Industry Sector'] = le.fit_transform(data['Primary Industry Sector'])\n",
        "    data['Last VC Deal Type'] = le.fit_transform(data['Last VC Deal Type'])\n",
        "    data['Country'] = le.fit_transform(data['Country'])\n",
        "    return(data)"
      ],
      "execution_count": null,
      "outputs": []
    },
    {
      "cell_type": "code",
      "metadata": {
        "id": "Q_sb9e15UwI4"
      },
      "source": [
        "df = generate_features(df)"
      ],
      "execution_count": null,
      "outputs": []
    },
    {
      "cell_type": "code",
      "metadata": {
        "id": "G1UH9h8xUwI4"
      },
      "source": [
        "def error(y_true, y_pred):\n",
        "    pred_err_squared = mean_squared_error(y_true,y_pred,squared = 1, multioutput = 'raw_values')\n",
        "    total_err_squared = (y_true - np.mean(y_true)) ** 2\n",
        "    return(np.sqrt(np.sum(pred_err_squared)/np.sum(total_err_squared))*100)"
      ],
      "execution_count": null,
      "outputs": []
    },
    {
      "cell_type": "code",
      "metadata": {
        "id": "boP7-oL2UwI4"
      },
      "source": [
        "def scores(model_list,train_x, train_y, test_x, test_y):\n",
        "    model_names = []\n",
        "    train_score = []\n",
        "    model_score = []\n",
        "    train_mse = []\n",
        "    model_mse = []\n",
        "    train_mae = []\n",
        "    model_mae = []\n",
        "    train_error = []\n",
        "    test_error = []\n",
        "    train_x = np.array(train_x)\n",
        "    train_y = np.array(train_y)\n",
        "    test_x = np.array(test_x)\n",
        "    test_y = np.array(test_y)\n",
        "\n",
        "    for model in model_list:\n",
        "        model.fit(train_x, train_y)\n",
        "        model_names.append(model)\n",
        "        train_score.append(model.score(train_x, train_y))\n",
        "        model_score.append(model.score(test_x, test_y))\n",
        "        train_mse.append(mean_squared_error(train_y,model.predict(train_x),squared = 1))\n",
        "        model_mse.append(mean_squared_error(test_y,model.predict(test_x),squared = 1))\n",
        "        train_mae.append(mean_absolute_error(train_y, model.predict(train_x)))\n",
        "        model_mae.append(mean_absolute_error(test_y, model.predict(test_x)))\n",
        "        train_error.append(error(train_y,model.predict(train_x)))\n",
        "        test_error.append(error(test_y,model.predict(test_x)))\n",
        "    result = pd.DataFrame({'Name':model_names, 'Train_R^2': train_score, 'Test_R^2':model_score, 'Train_RMSE':train_mse,\n",
        "                           'Test_RMSE':model_mse, 'Train_MAE':train_mae, 'Test_MAE':model_mae, 'Train_ERR':train_error,\n",
        "                          'Test_ERR':test_error})\n",
        "    return result"
      ],
      "execution_count": null,
      "outputs": []
    },
    {
      "cell_type": "code",
      "metadata": {
        "id": "SIhOC8OrUwI4"
      },
      "source": [
        "X = df.iloc[:, 1:]\n",
        "\n",
        "Y = df.iloc[:, 0:1]"
      ],
      "execution_count": null,
      "outputs": []
    },
    {
      "cell_type": "code",
      "metadata": {
        "id": "D3zHuAfmUwI4"
      },
      "source": [
        "from sklearn.model_selection import train_test_split\n",
        "X_train, X_test, y_train, y_test = train_test_split(X, Y, test_size = 0.2, random_state = 2021)"
      ],
      "execution_count": null,
      "outputs": []
    },
    {
      "cell_type": "markdown",
      "metadata": {
        "id": "bH8_L1dHUwI5"
      },
      "source": [
        "# model selection"
      ]
    },
    {
      "cell_type": "code",
      "metadata": {
        "id": "a0_8C8HfUwI5"
      },
      "source": [
        "# def grid_search(x, y, model, parameters, cv):\n",
        "#    x = np.array(x)\n",
        "#    y = np.array(y)\n",
        "#    search_rf = GridSearchCV(estimator = model,\n",
        "#                             param_grid = parameters, \n",
        "#                             cv = cv,\n",
        "#                             n_jobs = -1,\n",
        "#                             verbose = 2)\n",
        "#    search_rf.fit(x, y)\n",
        "#    grid_result = search_rf.best_params_\n",
        "#    return  grid_result"
      ],
      "execution_count": null,
      "outputs": []
    },
    {
      "cell_type": "code",
      "metadata": {
        "id": "DUDxxCzoUwI5"
      },
      "source": [
        "# build model with the best parameters\n",
        "model_lr = LinearRegression()\n",
        "model_ridge = Ridge(solver = 'sparse_cg')\n",
        "model_xgb = XGBRegressor(n_estimators= 10, max_depth = 4, random_state = 2021)\n",
        "model_lasso = Lasso(random_state = 2021)\n",
        "model_en = ElasticNet()\n",
        "model_rf = RandomForestRegressor(n_estimators = 100, max_features = 2, random_state = 2021)"
      ],
      "execution_count": null,
      "outputs": []
    },
    {
      "cell_type": "code",
      "metadata": {
        "id": "7W6uKudmUwI5"
      },
      "source": [
        "# grid search for xgb\n",
        "#grid_xgb = {\n",
        "#    'booster':['gblinear'],\n",
        "#    'n_estimators':[3, 5, 7],\n",
        "#    'objective':['reg:linear'],\n",
        "#    'learning_rate': [.01, .03, .05, .07], \n",
        "#    'max_depth': [3, 5, 7],\n",
        "#    'min_child_weight': [1,3,5],\n",
        "#    'verbosity': [0],\n",
        "#    'subsample': [0.7,0.8],\n",
        "#    'colsample_bytree': [0.8],\n",
        "#    'random_state':[2021]\n",
        "#}\n",
        "\n",
        "#best_xgb = grid_search(X_train, y_train, model_xgb, grid_xgb, cv= 5)"
      ],
      "execution_count": null,
      "outputs": []
    },
    {
      "cell_type": "code",
      "metadata": {
        "id": "7-u-g-JOUwI5"
      },
      "source": [
        "#grid search for randomforest\n",
        "#grid_rf = {\n",
        "#    'n_estimators': [50,100,200,500],\n",
        "#    'min_samples_split':[2,4,6,8],\n",
        "#    'min_samples_leaf': [2,4,6],\n",
        "#    'max_depth': [1,3,5],\n",
        "#    'max_features': [2,3,4],\n",
        "#    'random_state': [9527]\n",
        "#}\n",
        "\n",
        "#best_rf = grid_search(X_train, y_train, model_rf, grid_rf, cv= 5)"
      ],
      "execution_count": null,
      "outputs": []
    },
    {
      "cell_type": "code",
      "metadata": {
        "id": "re7y_8jfUwI6"
      },
      "source": [
        "# build model with the best parameter\n",
        "#model_xgb = XGBRegressor(**best_xgb)\n",
        "#model_rf = RandomForestRegressor(**best_rf)"
      ],
      "execution_count": null,
      "outputs": []
    },
    {
      "cell_type": "code",
      "metadata": {
        "id": "hsNumI2XUwI6",
        "outputId": "1f482454-1773-473e-fdc2-e1ba75e6eb32"
      },
      "source": [
        "model_list = [model_lr, model_ridge, model_xgb, model_lasso, model_en, model_rf]\n",
        "scores(model_list, X_train, y_train, X_test, y_test)"
      ],
      "execution_count": null,
      "outputs": [
        {
          "output_type": "stream",
          "text": [
            "<ipython-input-50-42a25f0de0bc>:17: DataConversionWarning: A column-vector y was passed when a 1d array was expected. Please change the shape of y to (n_samples,), for example using ravel().\n",
            "  model.fit(train_x, train_y)\n"
          ],
          "name": "stderr"
        },
        {
          "output_type": "execute_result",
          "data": {
            "text/html": [
              "<div>\n",
              "<style scoped>\n",
              "    .dataframe tbody tr th:only-of-type {\n",
              "        vertical-align: middle;\n",
              "    }\n",
              "\n",
              "    .dataframe tbody tr th {\n",
              "        vertical-align: top;\n",
              "    }\n",
              "\n",
              "    .dataframe thead th {\n",
              "        text-align: right;\n",
              "    }\n",
              "</style>\n",
              "<table border=\"1\" class=\"dataframe\">\n",
              "  <thead>\n",
              "    <tr style=\"text-align: right;\">\n",
              "      <th></th>\n",
              "      <th>Name</th>\n",
              "      <th>Train_R^2</th>\n",
              "      <th>Test_R^2</th>\n",
              "      <th>Train_RMSE</th>\n",
              "      <th>Test_RMSE</th>\n",
              "      <th>Train_MAE</th>\n",
              "      <th>Test_MAE</th>\n",
              "      <th>Train_ERR</th>\n",
              "      <th>Test_ERR</th>\n",
              "    </tr>\n",
              "  </thead>\n",
              "  <tbody>\n",
              "    <tr>\n",
              "      <th>0</th>\n",
              "      <td>LinearRegression()</td>\n",
              "      <td>0.550869</td>\n",
              "      <td>0.729750</td>\n",
              "      <td>2.545035e+06</td>\n",
              "      <td>4.094002e+06</td>\n",
              "      <td>963.577597</td>\n",
              "      <td>1242.191032</td>\n",
              "      <td>6.169440</td>\n",
              "      <td>9.491216</td>\n",
              "    </tr>\n",
              "    <tr>\n",
              "      <th>1</th>\n",
              "      <td>Ridge(solver='sparse_cg')</td>\n",
              "      <td>0.529980</td>\n",
              "      <td>0.705478</td>\n",
              "      <td>2.663400e+06</td>\n",
              "      <td>4.461710e+06</td>\n",
              "      <td>923.483904</td>\n",
              "      <td>1248.173142</td>\n",
              "      <td>6.311274</td>\n",
              "      <td>9.908285</td>\n",
              "    </tr>\n",
              "    <tr>\n",
              "      <th>2</th>\n",
              "      <td>XGBRegressor(base_score=0.5, booster='gbtree',...</td>\n",
              "      <td>0.978340</td>\n",
              "      <td>0.933166</td>\n",
              "      <td>1.227359e+05</td>\n",
              "      <td>1.012473e+06</td>\n",
              "      <td>156.166725</td>\n",
              "      <td>424.168072</td>\n",
              "      <td>1.354830</td>\n",
              "      <td>4.719974</td>\n",
              "    </tr>\n",
              "    <tr>\n",
              "      <th>3</th>\n",
              "      <td>Lasso(random_state=2021)</td>\n",
              "      <td>0.550846</td>\n",
              "      <td>0.729838</td>\n",
              "      <td>2.545161e+06</td>\n",
              "      <td>4.092671e+06</td>\n",
              "      <td>964.242856</td>\n",
              "      <td>1241.012718</td>\n",
              "      <td>6.169592</td>\n",
              "      <td>9.489673</td>\n",
              "    </tr>\n",
              "    <tr>\n",
              "      <th>4</th>\n",
              "      <td>ElasticNet()</td>\n",
              "      <td>0.550760</td>\n",
              "      <td>0.728502</td>\n",
              "      <td>2.545649e+06</td>\n",
              "      <td>4.112923e+06</td>\n",
              "      <td>961.017983</td>\n",
              "      <td>1242.229287</td>\n",
              "      <td>6.170184</td>\n",
              "      <td>9.513122</td>\n",
              "    </tr>\n",
              "    <tr>\n",
              "      <th>5</th>\n",
              "      <td>(DecisionTreeRegressor(max_features=2, random_...</td>\n",
              "      <td>0.977413</td>\n",
              "      <td>0.974575</td>\n",
              "      <td>1.279913e+05</td>\n",
              "      <td>3.851553e+05</td>\n",
              "      <td>159.802295</td>\n",
              "      <td>308.868353</td>\n",
              "      <td>1.383531</td>\n",
              "      <td>2.911158</td>\n",
              "    </tr>\n",
              "  </tbody>\n",
              "</table>\n",
              "</div>"
            ],
            "text/plain": [
              "                                                Name  Train_R^2  Test_R^2  \\\n",
              "0                                 LinearRegression()   0.550869  0.729750   \n",
              "1                          Ridge(solver='sparse_cg')   0.529980  0.705478   \n",
              "2  XGBRegressor(base_score=0.5, booster='gbtree',...   0.978340  0.933166   \n",
              "3                           Lasso(random_state=2021)   0.550846  0.729838   \n",
              "4                                       ElasticNet()   0.550760  0.728502   \n",
              "5  (DecisionTreeRegressor(max_features=2, random_...   0.977413  0.974575   \n",
              "\n",
              "     Train_RMSE     Test_RMSE   Train_MAE     Test_MAE  Train_ERR  Test_ERR  \n",
              "0  2.545035e+06  4.094002e+06  963.577597  1242.191032   6.169440  9.491216  \n",
              "1  2.663400e+06  4.461710e+06  923.483904  1248.173142   6.311274  9.908285  \n",
              "2  1.227359e+05  1.012473e+06  156.166725   424.168072   1.354830  4.719974  \n",
              "3  2.545161e+06  4.092671e+06  964.242856  1241.012718   6.169592  9.489673  \n",
              "4  2.545649e+06  4.112923e+06  961.017983  1242.229287   6.170184  9.513122  \n",
              "5  1.279913e+05  3.851553e+05  159.802295   308.868353   1.383531  2.911158  "
            ]
          },
          "metadata": {
            "tags": []
          },
          "execution_count": 60
        }
      ]
    },
    {
      "cell_type": "code",
      "metadata": {
        "id": "BMFA6V9UUwI6",
        "outputId": "8139ae0a-ef4c-420f-a770-f29dba99041a"
      },
      "source": [
        "train_x = np.array(X_train)\n",
        "train_y = np.array(y_train)\n",
        "model = model_rf.fit(train_x, train_y)"
      ],
      "execution_count": null,
      "outputs": [
        {
          "output_type": "stream",
          "text": [
            "<ipython-input-44-86dff656840c>:3: DataConversionWarning: A column-vector y was passed when a 1d array was expected. Please change the shape of y to (n_samples,), for example using ravel().\n",
            "  model = model_rf.fit(train_x, train_y)\n"
          ],
          "name": "stderr"
        }
      ]
    },
    {
      "cell_type": "code",
      "metadata": {
        "id": "3YemZeXEUwI6",
        "outputId": "06d64166-e0c4-473b-d4f2-29e7def41a20"
      },
      "source": [
        "pd.DataFrame({\n",
        "    'features': X.columns,\n",
        "    'importance': model.feature_importances_\n",
        "}).sort_values(by=['importance'],ascending=False).reset_index(drop = True)"
      ],
      "execution_count": null,
      "outputs": [
        {
          "output_type": "execute_result",
          "data": {
            "text/html": [
              "<div>\n",
              "<style scoped>\n",
              "    .dataframe tbody tr th:only-of-type {\n",
              "        vertical-align: middle;\n",
              "    }\n",
              "\n",
              "    .dataframe tbody tr th {\n",
              "        vertical-align: top;\n",
              "    }\n",
              "\n",
              "    .dataframe thead th {\n",
              "        text-align: right;\n",
              "    }\n",
              "</style>\n",
              "<table border=\"1\" class=\"dataframe\">\n",
              "  <thead>\n",
              "    <tr style=\"text-align: right;\">\n",
              "      <th></th>\n",
              "      <th>features</th>\n",
              "      <th>importance</th>\n",
              "    </tr>\n",
              "  </thead>\n",
              "  <tbody>\n",
              "    <tr>\n",
              "      <th>0</th>\n",
              "      <td>Current Employees</td>\n",
              "      <td>0.367303</td>\n",
              "    </tr>\n",
              "    <tr>\n",
              "      <th>1</th>\n",
              "      <td>Total VC Capital Raised ($M)***</td>\n",
              "      <td>0.338868</td>\n",
              "    </tr>\n",
              "    <tr>\n",
              "      <th>2</th>\n",
              "      <td>CompanyAge</td>\n",
              "      <td>0.202081</td>\n",
              "    </tr>\n",
              "    <tr>\n",
              "      <th>3</th>\n",
              "      <td>Last VC Deal Type</td>\n",
              "      <td>0.075187</td>\n",
              "    </tr>\n",
              "    <tr>\n",
              "      <th>4</th>\n",
              "      <td>Country</td>\n",
              "      <td>0.016516</td>\n",
              "    </tr>\n",
              "    <tr>\n",
              "      <th>5</th>\n",
              "      <td>Primary Industry Sector</td>\n",
              "      <td>0.000045</td>\n",
              "    </tr>\n",
              "  </tbody>\n",
              "</table>\n",
              "</div>"
            ],
            "text/plain": [
              "                          features  importance\n",
              "0                Current Employees    0.367303\n",
              "1  Total VC Capital Raised ($M)***    0.338868\n",
              "2                       CompanyAge    0.202081\n",
              "3                Last VC Deal Type    0.075187\n",
              "4                          Country    0.016516\n",
              "5          Primary Industry Sector    0.000045"
            ]
          },
          "metadata": {
            "tags": []
          },
          "execution_count": 45
        }
      ]
    },
    {
      "cell_type": "code",
      "metadata": {
        "id": "xkQnTNFtUwI6"
      },
      "source": [
        ""
      ],
      "execution_count": null,
      "outputs": []
    }
  ]
}
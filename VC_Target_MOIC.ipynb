{
  "nbformat": 4,
  "nbformat_minor": 0,
  "metadata": {
    "colab": {
      "name": "VC_Target_MOIC.ipynb",
      "provenance": [],
      "collapsed_sections": [],
      "include_colab_link": true
    },
    "kernelspec": {
      "name": "python3",
      "display_name": "Python 3"
    }
  },
  "cells": [
    {
      "cell_type": "markdown",
      "metadata": {
        "id": "view-in-github",
        "colab_type": "text"
      },
      "source": [
        "<a href=\"https://colab.research.google.com/github/Mayank-004/VC-Industry-Predictive-analysis/blob/main/VC_Target_MOIC.ipynb\" target=\"_parent\"><img src=\"https://colab.research.google.com/assets/colab-badge.svg\" alt=\"Open In Colab\"/></a>"
      ]
    },
    {
      "cell_type": "markdown",
      "metadata": {
        "id": "37puETfgRzzg"
      },
      "source": [
        "# Data Preprocessing \n",
        "\n",
        "\n"
      ]
    },
    {
      "cell_type": "markdown",
      "metadata": {
        "id": "EoRP98MpR-qj"
      },
      "source": [
        "## Importing the libraries"
      ]
    },
    {
      "cell_type": "code",
      "metadata": {
        "id": "N-qiINBQSK2g"
      },
      "source": [
        "import random\n",
        "\n",
        "import numpy as np\n",
        "import matplotlib.pyplot as plt\n",
        "import pandas as pd\n",
        "import seaborn as sn\n",
        "from sklearn.preprocessing import LabelEncoder\n",
        "random.seed(786)\n"
      ],
      "execution_count": 115,
      "outputs": []
    },
    {
      "cell_type": "markdown",
      "metadata": {
        "id": "RopL7tUZSQkT"
      },
      "source": [
        "## Importing the dataset\n",
        "\n",
        "\n",
        "\n",
        "\n",
        "\n"
      ]
    },
    {
      "cell_type": "code",
      "metadata": {
        "id": "SKDP3vj9coit",
        "colab": {
          "base_uri": "https://localhost:8080/",
          "height": 381
        },
        "outputId": "14909727-2fb2-4acc-8b69-305044f20dbb"
      },
      "source": [
        "url1 = 'https://raw.githubusercontent.com/Mayank-004/Project-in-python/main/VC_Exits.csv'\n",
        "dataset1 = pd.read_csv(url1, error_bad_lines=False)\n",
        "\n",
        "#url2 = 'https://raw.githubusercontent.com/Mayank-004/Project-in-python/main/VCExit2.csv'\n",
        "#dataset2 = pd.read_csv(url2, error_bad_lines=False)\n",
        "\n",
        "url3 = 'https://raw.githubusercontent.com/Mayank-004/Project-in-python/main/VCData2.csv'\n",
        "dataset3 = pd.read_csv(url3, error_bad_lines=False)\n",
        "\n",
        "dataset = pd.merge(dataset1,dataset3,left_on=[\"Company PBID\"],right_on=[\"Company ID\"])\n",
        "\n",
        "\n",
        "\n",
        "dataset.head(2)\n"
      ],
      "execution_count": 116,
      "outputs": [
        {
          "output_type": "execute_result",
          "data": {
            "text/html": [
              "<div>\n",
              "<style scoped>\n",
              "    .dataframe tbody tr th:only-of-type {\n",
              "        vertical-align: middle;\n",
              "    }\n",
              "\n",
              "    .dataframe tbody tr th {\n",
              "        vertical-align: top;\n",
              "    }\n",
              "\n",
              "    .dataframe thead th {\n",
              "        text-align: right;\n",
              "    }\n",
              "</style>\n",
              "<table border=\"1\" class=\"dataframe\">\n",
              "  <thead>\n",
              "    <tr style=\"text-align: right;\">\n",
              "      <th></th>\n",
              "      <th>Company PBID</th>\n",
              "      <th>Exit Date</th>\n",
              "      <th>Exit Size (millions)</th>\n",
              "      <th>Pre Value (millions)</th>\n",
              "      <th>Post Value (millions)</th>\n",
              "      <th>Exit Type</th>\n",
              "      <th>Last VC Deal Type</th>\n",
              "      <th>Total VC Capital Raised ($M)***</th>\n",
              "      <th>Total Preferred Capital Raised ($M)*</th>\n",
              "      <th>% Preferred Capital Raised*</th>\n",
              "      <th>Total Preferred Capital Raised ($M) - Combination**</th>\n",
              "      <th>% Preferred Capital Raised - Combination**</th>\n",
              "      <th>MOIC</th>\n",
              "      <th>Industry Sector</th>\n",
              "      <th>Industry Group</th>\n",
              "      <th>Industry Code</th>\n",
              "      <th>Verticals_x</th>\n",
              "      <th>City</th>\n",
              "      <th>State</th>\n",
              "      <th>Country</th>\n",
              "      <th>Deal ID</th>\n",
              "      <th>Company ID</th>\n",
              "      <th>Primary Industry Sector</th>\n",
              "      <th>Primary Industry Group</th>\n",
              "      <th>Primary Industry Code</th>\n",
              "      <th>All Industries</th>\n",
              "      <th>Verticals_y</th>\n",
              "      <th>Keywords</th>\n",
              "      <th>Current Financing Status</th>\n",
              "      <th>Current Business Status</th>\n",
              "      <th>Universe</th>\n",
              "      <th>CEO PBId</th>\n",
              "      <th>CEO Education</th>\n",
              "      <th>Deal No.</th>\n",
              "      <th>Deal ID.1</th>\n",
              "      <th>Announced Date</th>\n",
              "      <th>Deal Date</th>\n",
              "      <th>Deal Size</th>\n",
              "      <th>Deal Size Status</th>\n",
              "      <th>Pre-money Valuation</th>\n",
              "      <th>...</th>\n",
              "      <th># Investors</th>\n",
              "      <th># New Investors</th>\n",
              "      <th># Follow-on Investors</th>\n",
              "      <th>Implied EV</th>\n",
              "      <th>Revenue</th>\n",
              "      <th>Revenue Growth since last debt deal</th>\n",
              "      <th>Gross Profit</th>\n",
              "      <th>Net Income</th>\n",
              "      <th>EBITDA</th>\n",
              "      <th>EBIT</th>\n",
              "      <th>Total Debt (from financials)</th>\n",
              "      <th>Fiscal Year</th>\n",
              "      <th>Valuation/EBITDA</th>\n",
              "      <th>Valuation/EBIT</th>\n",
              "      <th>Valuation/Net Income</th>\n",
              "      <th>Valuation/Revenue</th>\n",
              "      <th>Valuation/Cash Flow</th>\n",
              "      <th>Deal Size/EBITDA</th>\n",
              "      <th>Deal Size/EBIT</th>\n",
              "      <th>Deal Size/Net Income</th>\n",
              "      <th>Deal Size/Revenue</th>\n",
              "      <th>Deal Size/Cash Flow</th>\n",
              "      <th>Debt/EBITDA</th>\n",
              "      <th>Debt/Equity</th>\n",
              "      <th>Implied EV/EBITDA</th>\n",
              "      <th>Implied EV/EBIT</th>\n",
              "      <th>Implied EV/Net Income</th>\n",
              "      <th>Implied EV/Revenue</th>\n",
              "      <th>Implied EV/Cash Flow</th>\n",
              "      <th>EBITDA Margin %</th>\n",
              "      <th>Current Employees</th>\n",
              "      <th>Native Currency of Deal</th>\n",
              "      <th>HQ Location</th>\n",
              "      <th>HQ Global Region</th>\n",
              "      <th>HQ Global Sub Region</th>\n",
              "      <th>Company City</th>\n",
              "      <th>Company State/Province</th>\n",
              "      <th>Company Post Code</th>\n",
              "      <th>Company Country</th>\n",
              "      <th>Year Founded</th>\n",
              "    </tr>\n",
              "  </thead>\n",
              "  <tbody>\n",
              "    <tr>\n",
              "      <th>0</th>\n",
              "      <td>155748-70</td>\n",
              "      <td>11/15/17</td>\n",
              "      <td>NaN</td>\n",
              "      <td>NaN</td>\n",
              "      <td>NaN</td>\n",
              "      <td>Merger/Acquisition</td>\n",
              "      <td>Early Stage VC</td>\n",
              "      <td>NaN</td>\n",
              "      <td>NaN</td>\n",
              "      <td>NaN</td>\n",
              "      <td>NaN</td>\n",
              "      <td>NaN</td>\n",
              "      <td>NaN</td>\n",
              "      <td>Information Technology</td>\n",
              "      <td>Software</td>\n",
              "      <td>Other Software</td>\n",
              "      <td>3D Printing, TMT, CloudTech &amp; DevOps</td>\n",
              "      <td>Park City</td>\n",
              "      <td>Utah</td>\n",
              "      <td>United States</td>\n",
              "      <td>67911-49T</td>\n",
              "      <td>155748-70</td>\n",
              "      <td>Information Technology</td>\n",
              "      <td>Software</td>\n",
              "      <td>Other Software</td>\n",
              "      <td>Business/Productivity Software, Other Software*</td>\n",
              "      <td>3D Printing, CloudTech &amp; DevOps, TMT</td>\n",
              "      <td>additives manufacturing software, additives pr...</td>\n",
              "      <td>Formerly VC-backed</td>\n",
              "      <td>Generating Revenue</td>\n",
              "      <td>Venture Capital</td>\n",
              "      <td>131029-48P</td>\n",
              "      <td>Texas A&amp;M University, Ph.D. (Doctor of Philoso...</td>\n",
              "      <td>1</td>\n",
              "      <td>67911-49T</td>\n",
              "      <td>NaN</td>\n",
              "      <td>01-Jan-2015</td>\n",
              "      <td>0.33</td>\n",
              "      <td>Actual</td>\n",
              "      <td>NaN</td>\n",
              "      <td>...</td>\n",
              "      <td>3.0</td>\n",
              "      <td>3.0</td>\n",
              "      <td>NaN</td>\n",
              "      <td>NaN</td>\n",
              "      <td>NaN</td>\n",
              "      <td>NaN</td>\n",
              "      <td>NaN</td>\n",
              "      <td>NaN</td>\n",
              "      <td>NaN</td>\n",
              "      <td>NaN</td>\n",
              "      <td>NaN</td>\n",
              "      <td>NaN</td>\n",
              "      <td>NaN</td>\n",
              "      <td>NaN</td>\n",
              "      <td>NaN</td>\n",
              "      <td>NaN</td>\n",
              "      <td>NaN</td>\n",
              "      <td>NaN</td>\n",
              "      <td>NaN</td>\n",
              "      <td>NaN</td>\n",
              "      <td>NaN</td>\n",
              "      <td>NaN</td>\n",
              "      <td>NaN</td>\n",
              "      <td>NaN</td>\n",
              "      <td>NaN</td>\n",
              "      <td>NaN</td>\n",
              "      <td>NaN</td>\n",
              "      <td>NaN</td>\n",
              "      <td>NaN</td>\n",
              "      <td>NaN</td>\n",
              "      <td>14</td>\n",
              "      <td>US Dollars (USD)</td>\n",
              "      <td>Park City, UT</td>\n",
              "      <td>Americas</td>\n",
              "      <td>North America</td>\n",
              "      <td>Park City</td>\n",
              "      <td>Utah</td>\n",
              "      <td>84098</td>\n",
              "      <td>United States</td>\n",
              "      <td>2014.0</td>\n",
              "    </tr>\n",
              "    <tr>\n",
              "      <th>1</th>\n",
              "      <td>155748-70</td>\n",
              "      <td>11/15/17</td>\n",
              "      <td>NaN</td>\n",
              "      <td>NaN</td>\n",
              "      <td>NaN</td>\n",
              "      <td>Merger/Acquisition</td>\n",
              "      <td>Early Stage VC</td>\n",
              "      <td>NaN</td>\n",
              "      <td>NaN</td>\n",
              "      <td>NaN</td>\n",
              "      <td>NaN</td>\n",
              "      <td>NaN</td>\n",
              "      <td>NaN</td>\n",
              "      <td>Information Technology</td>\n",
              "      <td>Software</td>\n",
              "      <td>Other Software</td>\n",
              "      <td>3D Printing, TMT, CloudTech &amp; DevOps</td>\n",
              "      <td>Park City</td>\n",
              "      <td>Utah</td>\n",
              "      <td>United States</td>\n",
              "      <td>122433-04T</td>\n",
              "      <td>155748-70</td>\n",
              "      <td>Information Technology</td>\n",
              "      <td>Software</td>\n",
              "      <td>Other Software</td>\n",
              "      <td>Business/Productivity Software, Other Software*</td>\n",
              "      <td>3D Printing, CloudTech &amp; DevOps, TMT</td>\n",
              "      <td>additives manufacturing software, additives pr...</td>\n",
              "      <td>Formerly VC-backed</td>\n",
              "      <td>Generating Revenue</td>\n",
              "      <td>Venture Capital</td>\n",
              "      <td>131029-48P</td>\n",
              "      <td>Texas A&amp;M University, Ph.D. (Doctor of Philoso...</td>\n",
              "      <td>2</td>\n",
              "      <td>122433-04T</td>\n",
              "      <td>NaN</td>\n",
              "      <td>26-May-2015</td>\n",
              "      <td>NaN</td>\n",
              "      <td>NaN</td>\n",
              "      <td>NaN</td>\n",
              "      <td>...</td>\n",
              "      <td>1.0</td>\n",
              "      <td>1.0</td>\n",
              "      <td>NaN</td>\n",
              "      <td>NaN</td>\n",
              "      <td>NaN</td>\n",
              "      <td>NaN</td>\n",
              "      <td>NaN</td>\n",
              "      <td>NaN</td>\n",
              "      <td>NaN</td>\n",
              "      <td>NaN</td>\n",
              "      <td>NaN</td>\n",
              "      <td>NaN</td>\n",
              "      <td>NaN</td>\n",
              "      <td>NaN</td>\n",
              "      <td>NaN</td>\n",
              "      <td>NaN</td>\n",
              "      <td>NaN</td>\n",
              "      <td>NaN</td>\n",
              "      <td>NaN</td>\n",
              "      <td>NaN</td>\n",
              "      <td>NaN</td>\n",
              "      <td>NaN</td>\n",
              "      <td>NaN</td>\n",
              "      <td>NaN</td>\n",
              "      <td>NaN</td>\n",
              "      <td>NaN</td>\n",
              "      <td>NaN</td>\n",
              "      <td>NaN</td>\n",
              "      <td>NaN</td>\n",
              "      <td>NaN</td>\n",
              "      <td>14</td>\n",
              "      <td>US Dollars (USD)</td>\n",
              "      <td>Park City, UT</td>\n",
              "      <td>Americas</td>\n",
              "      <td>North America</td>\n",
              "      <td>Park City</td>\n",
              "      <td>Utah</td>\n",
              "      <td>84098</td>\n",
              "      <td>United States</td>\n",
              "      <td>2014.0</td>\n",
              "    </tr>\n",
              "  </tbody>\n",
              "</table>\n",
              "<p>2 rows × 105 columns</p>\n",
              "</div>"
            ],
            "text/plain": [
              "  Company PBID Exit Date  ... Company Country Year Founded\n",
              "0    155748-70  11/15/17  ...   United States       2014.0\n",
              "1    155748-70  11/15/17  ...   United States       2014.0\n",
              "\n",
              "[2 rows x 105 columns]"
            ]
          },
          "metadata": {
            "tags": []
          },
          "execution_count": 116
        }
      ]
    },
    {
      "cell_type": "code",
      "metadata": {
        "id": "6_X4UcdfdL78",
        "colab": {
          "base_uri": "https://localhost:8080/",
          "height": 351
        },
        "outputId": "051f8273-b507-48e5-f1cc-0dd18994185e"
      },
      "source": [
        "dataset.describe()"
      ],
      "execution_count": 117,
      "outputs": [
        {
          "output_type": "execute_result",
          "data": {
            "text/html": [
              "<div>\n",
              "<style scoped>\n",
              "    .dataframe tbody tr th:only-of-type {\n",
              "        vertical-align: middle;\n",
              "    }\n",
              "\n",
              "    .dataframe tbody tr th {\n",
              "        vertical-align: top;\n",
              "    }\n",
              "\n",
              "    .dataframe thead th {\n",
              "        text-align: right;\n",
              "    }\n",
              "</style>\n",
              "<table border=\"1\" class=\"dataframe\">\n",
              "  <thead>\n",
              "    <tr style=\"text-align: right;\">\n",
              "      <th></th>\n",
              "      <th>Deal No.</th>\n",
              "      <th>Deal Size</th>\n",
              "      <th>Total Invested Equity</th>\n",
              "      <th>Debt Type 3</th>\n",
              "      <th>Debt Amount 1</th>\n",
              "      <th>Debt Amount 2</th>\n",
              "      <th>Debt Amount 3</th>\n",
              "      <th>Debt Raised in Round</th>\n",
              "      <th>Contingent Payout</th>\n",
              "      <th># Investors</th>\n",
              "      <th># New Investors</th>\n",
              "      <th># Follow-on Investors</th>\n",
              "      <th>Implied EV</th>\n",
              "      <th>Revenue</th>\n",
              "      <th>Total Debt (from financials)</th>\n",
              "      <th>Fiscal Year</th>\n",
              "      <th>Implied EV/EBITDA</th>\n",
              "      <th>Implied EV/EBIT</th>\n",
              "      <th>Implied EV/Net Income</th>\n",
              "      <th>Implied EV/Revenue</th>\n",
              "      <th>Implied EV/Cash Flow</th>\n",
              "      <th>Year Founded</th>\n",
              "    </tr>\n",
              "  </thead>\n",
              "  <tbody>\n",
              "    <tr>\n",
              "      <th>count</th>\n",
              "      <td>305.000000</td>\n",
              "      <td>244.000000</td>\n",
              "      <td>229.000000</td>\n",
              "      <td>0.0</td>\n",
              "      <td>12.000000</td>\n",
              "      <td>1.0</td>\n",
              "      <td>0.0</td>\n",
              "      <td>12.000000</td>\n",
              "      <td>0.0</td>\n",
              "      <td>267.000000</td>\n",
              "      <td>246.000000</td>\n",
              "      <td>140.000000</td>\n",
              "      <td>0.0</td>\n",
              "      <td>81.000000</td>\n",
              "      <td>37.000000</td>\n",
              "      <td>91.000000</td>\n",
              "      <td>0.0</td>\n",
              "      <td>0.0</td>\n",
              "      <td>0.0</td>\n",
              "      <td>0.0</td>\n",
              "      <td>0.0</td>\n",
              "      <td>300.000000</td>\n",
              "    </tr>\n",
              "    <tr>\n",
              "      <th>mean</th>\n",
              "      <td>4.072131</td>\n",
              "      <td>38.641844</td>\n",
              "      <td>39.056201</td>\n",
              "      <td>NaN</td>\n",
              "      <td>23.090833</td>\n",
              "      <td>5.0</td>\n",
              "      <td>NaN</td>\n",
              "      <td>23.507500</td>\n",
              "      <td>NaN</td>\n",
              "      <td>3.883895</td>\n",
              "      <td>2.605691</td>\n",
              "      <td>2.792857</td>\n",
              "      <td>NaN</td>\n",
              "      <td>98.809877</td>\n",
              "      <td>22.639730</td>\n",
              "      <td>2016.274725</td>\n",
              "      <td>NaN</td>\n",
              "      <td>NaN</td>\n",
              "      <td>NaN</td>\n",
              "      <td>NaN</td>\n",
              "      <td>NaN</td>\n",
              "      <td>2011.023333</td>\n",
              "    </tr>\n",
              "    <tr>\n",
              "      <th>std</th>\n",
              "      <td>2.399570</td>\n",
              "      <td>84.661816</td>\n",
              "      <td>83.502049</td>\n",
              "      <td>NaN</td>\n",
              "      <td>57.814106</td>\n",
              "      <td>NaN</td>\n",
              "      <td>NaN</td>\n",
              "      <td>57.666114</td>\n",
              "      <td>NaN</td>\n",
              "      <td>3.423383</td>\n",
              "      <td>2.421630</td>\n",
              "      <td>1.867929</td>\n",
              "      <td>NaN</td>\n",
              "      <td>161.597687</td>\n",
              "      <td>64.688232</td>\n",
              "      <td>1.686982</td>\n",
              "      <td>NaN</td>\n",
              "      <td>NaN</td>\n",
              "      <td>NaN</td>\n",
              "      <td>NaN</td>\n",
              "      <td>NaN</td>\n",
              "      <td>3.928643</td>\n",
              "    </tr>\n",
              "    <tr>\n",
              "      <th>min</th>\n",
              "      <td>1.000000</td>\n",
              "      <td>0.030000</td>\n",
              "      <td>0.020000</td>\n",
              "      <td>NaN</td>\n",
              "      <td>0.040000</td>\n",
              "      <td>5.0</td>\n",
              "      <td>NaN</td>\n",
              "      <td>0.040000</td>\n",
              "      <td>NaN</td>\n",
              "      <td>1.000000</td>\n",
              "      <td>1.000000</td>\n",
              "      <td>1.000000</td>\n",
              "      <td>NaN</td>\n",
              "      <td>0.020000</td>\n",
              "      <td>0.000000</td>\n",
              "      <td>2014.000000</td>\n",
              "      <td>NaN</td>\n",
              "      <td>NaN</td>\n",
              "      <td>NaN</td>\n",
              "      <td>NaN</td>\n",
              "      <td>NaN</td>\n",
              "      <td>1997.000000</td>\n",
              "    </tr>\n",
              "    <tr>\n",
              "      <th>25%</th>\n",
              "      <td>2.000000</td>\n",
              "      <td>2.000000</td>\n",
              "      <td>2.500000</td>\n",
              "      <td>NaN</td>\n",
              "      <td>0.212500</td>\n",
              "      <td>5.0</td>\n",
              "      <td>NaN</td>\n",
              "      <td>0.212500</td>\n",
              "      <td>NaN</td>\n",
              "      <td>1.000000</td>\n",
              "      <td>1.000000</td>\n",
              "      <td>1.000000</td>\n",
              "      <td>NaN</td>\n",
              "      <td>6.730000</td>\n",
              "      <td>0.000000</td>\n",
              "      <td>2015.000000</td>\n",
              "      <td>NaN</td>\n",
              "      <td>NaN</td>\n",
              "      <td>NaN</td>\n",
              "      <td>NaN</td>\n",
              "      <td>NaN</td>\n",
              "      <td>2009.000000</td>\n",
              "    </tr>\n",
              "    <tr>\n",
              "      <th>50%</th>\n",
              "      <td>4.000000</td>\n",
              "      <td>8.400000</td>\n",
              "      <td>10.000000</td>\n",
              "      <td>NaN</td>\n",
              "      <td>1.500000</td>\n",
              "      <td>5.0</td>\n",
              "      <td>NaN</td>\n",
              "      <td>2.090000</td>\n",
              "      <td>NaN</td>\n",
              "      <td>3.000000</td>\n",
              "      <td>2.000000</td>\n",
              "      <td>2.000000</td>\n",
              "      <td>NaN</td>\n",
              "      <td>32.460000</td>\n",
              "      <td>0.000000</td>\n",
              "      <td>2016.000000</td>\n",
              "      <td>NaN</td>\n",
              "      <td>NaN</td>\n",
              "      <td>NaN</td>\n",
              "      <td>NaN</td>\n",
              "      <td>NaN</td>\n",
              "      <td>2012.000000</td>\n",
              "    </tr>\n",
              "    <tr>\n",
              "      <th>75%</th>\n",
              "      <td>5.000000</td>\n",
              "      <td>30.775000</td>\n",
              "      <td>31.000000</td>\n",
              "      <td>NaN</td>\n",
              "      <td>6.250000</td>\n",
              "      <td>5.0</td>\n",
              "      <td>NaN</td>\n",
              "      <td>7.750000</td>\n",
              "      <td>NaN</td>\n",
              "      <td>5.000000</td>\n",
              "      <td>3.000000</td>\n",
              "      <td>4.000000</td>\n",
              "      <td>NaN</td>\n",
              "      <td>100.000000</td>\n",
              "      <td>5.020000</td>\n",
              "      <td>2018.000000</td>\n",
              "      <td>NaN</td>\n",
              "      <td>NaN</td>\n",
              "      <td>NaN</td>\n",
              "      <td>NaN</td>\n",
              "      <td>NaN</td>\n",
              "      <td>2014.000000</td>\n",
              "    </tr>\n",
              "    <tr>\n",
              "      <th>max</th>\n",
              "      <td>14.000000</td>\n",
              "      <td>720.000000</td>\n",
              "      <td>720.000000</td>\n",
              "      <td>NaN</td>\n",
              "      <td>200.000000</td>\n",
              "      <td>5.0</td>\n",
              "      <td>NaN</td>\n",
              "      <td>200.000000</td>\n",
              "      <td>NaN</td>\n",
              "      <td>22.000000</td>\n",
              "      <td>16.000000</td>\n",
              "      <td>8.000000</td>\n",
              "      <td>NaN</td>\n",
              "      <td>844.800000</td>\n",
              "      <td>257.200000</td>\n",
              "      <td>2021.000000</td>\n",
              "      <td>NaN</td>\n",
              "      <td>NaN</td>\n",
              "      <td>NaN</td>\n",
              "      <td>NaN</td>\n",
              "      <td>NaN</td>\n",
              "      <td>2017.000000</td>\n",
              "    </tr>\n",
              "  </tbody>\n",
              "</table>\n",
              "</div>"
            ],
            "text/plain": [
              "         Deal No.   Deal Size  ...  Implied EV/Cash Flow  Year Founded\n",
              "count  305.000000  244.000000  ...                   0.0    300.000000\n",
              "mean     4.072131   38.641844  ...                   NaN   2011.023333\n",
              "std      2.399570   84.661816  ...                   NaN      3.928643\n",
              "min      1.000000    0.030000  ...                   NaN   1997.000000\n",
              "25%      2.000000    2.000000  ...                   NaN   2009.000000\n",
              "50%      4.000000    8.400000  ...                   NaN   2012.000000\n",
              "75%      5.000000   30.775000  ...                   NaN   2014.000000\n",
              "max     14.000000  720.000000  ...                   NaN   2017.000000\n",
              "\n",
              "[8 rows x 22 columns]"
            ]
          },
          "metadata": {
            "tags": []
          },
          "execution_count": 117
        }
      ]
    },
    {
      "cell_type": "markdown",
      "metadata": {
        "id": "V3cbGg6jVn0r"
      },
      "source": [
        "Filling missing values of Target column MOIC"
      ]
    },
    {
      "cell_type": "code",
      "metadata": {
        "id": "3ZykrI2YVmQD"
      },
      "source": [
        "# target column MOIC is derived by Exit Size divided by Total VC capital raised\n",
        "dataset['Total VC Capital Raised ($M)***']= dataset['Total VC Capital Raised ($M)***'].str.replace(\"$\",\"\") # removing $ from Total VC capital\n",
        "dataset['Total VC Capital Raised ($M)***']= dataset['Total VC Capital Raised ($M)***'].str.replace(\",\",\"\") # removing \",\" from Total VC capital\n",
        "dataset.loc[:,'Total VC Capital Raised ($M)***'] = dataset.loc[:,'Total VC Capital Raised ($M)***'].astype(float) # converting Total VC capital to float from string\n",
        "dataset['Total VC Capital Raised ($M)***']\n",
        "dataset['Exit Size (millions)']= dataset['Exit Size (millions)'].str.replace(\"$\",\"\") # removing $ from Exit Size\n",
        "dataset['Exit Size (millions)']= dataset['Exit Size (millions)'].str.replace(\",\",\"\") # removing \",\" from Exit Size\n",
        "dataset.loc[:,'Exit Size (millions)'] = dataset.loc[:,'Exit Size (millions)'].astype(float) # converting Total VC capital to float from string\n",
        "\n",
        "dataset['MOIC']= dataset['MOIC'].str.replace(\"x\",\"\") # removing $ from MOIC\n",
        "dataset['MOIC']= dataset['MOIC'].str.replace(\",\",\"\") # removing ',' from MOIC\n",
        "dataset.loc[:,'MOIC'] = dataset.loc[:,'MOIC'].astype(float) # converting MOIC to float from string\n",
        "\n",
        "# drop rows which does not have a value for MOIC\n",
        "dataset.dropna(subset = [\"MOIC\"], inplace=True) # Drop rows with no values from Target column\n"
      ],
      "execution_count": 118,
      "outputs": []
    },
    {
      "cell_type": "code",
      "metadata": {
        "colab": {
          "base_uri": "https://localhost:8080/",
          "height": 419
        },
        "id": "jggYvyeVeLrj",
        "outputId": "ef52a6f7-652f-4046-864b-37713890fc48"
      },
      "source": [
        "# check missing value in dataset\n",
        "missing = dataset.isna().sum().sort_values(ascending = False)\n",
        "percent_missing = ((missing / dataset.isnull().count()) * 100).sort_values(ascending = False)\n",
        "missing_df = pd.concat([missing,percent_missing], axis = 1, keys = ['Total', 'Percent'],sort = False)\n",
        "missing_df[missing_df['Total'] >= 1]"
      ],
      "execution_count": 119,
      "outputs": [
        {
          "output_type": "execute_result",
          "data": {
            "text/html": [
              "<div>\n",
              "<style scoped>\n",
              "    .dataframe tbody tr th:only-of-type {\n",
              "        vertical-align: middle;\n",
              "    }\n",
              "\n",
              "    .dataframe tbody tr th {\n",
              "        vertical-align: top;\n",
              "    }\n",
              "\n",
              "    .dataframe thead th {\n",
              "        text-align: right;\n",
              "    }\n",
              "</style>\n",
              "<table border=\"1\" class=\"dataframe\">\n",
              "  <thead>\n",
              "    <tr style=\"text-align: right;\">\n",
              "      <th></th>\n",
              "      <th>Total</th>\n",
              "      <th>Percent</th>\n",
              "    </tr>\n",
              "  </thead>\n",
              "  <tbody>\n",
              "    <tr>\n",
              "      <th>Implied EV/Cash Flow</th>\n",
              "      <td>108</td>\n",
              "      <td>100.000000</td>\n",
              "    </tr>\n",
              "    <tr>\n",
              "      <th>Implied EV/EBIT</th>\n",
              "      <td>108</td>\n",
              "      <td>100.000000</td>\n",
              "    </tr>\n",
              "    <tr>\n",
              "      <th>Debt Amount 3</th>\n",
              "      <td>108</td>\n",
              "      <td>100.000000</td>\n",
              "    </tr>\n",
              "    <tr>\n",
              "      <th>Contingent Payout</th>\n",
              "      <td>108</td>\n",
              "      <td>100.000000</td>\n",
              "    </tr>\n",
              "    <tr>\n",
              "      <th>Implied EV</th>\n",
              "      <td>108</td>\n",
              "      <td>100.000000</td>\n",
              "    </tr>\n",
              "    <tr>\n",
              "      <th>...</th>\n",
              "      <td>...</td>\n",
              "      <td>...</td>\n",
              "    </tr>\n",
              "    <tr>\n",
              "      <th>Deal Size Status</th>\n",
              "      <td>9</td>\n",
              "      <td>8.333333</td>\n",
              "    </tr>\n",
              "    <tr>\n",
              "      <th>CEO PBId</th>\n",
              "      <td>5</td>\n",
              "      <td>4.629630</td>\n",
              "    </tr>\n",
              "    <tr>\n",
              "      <th>Post Value (millions)</th>\n",
              "      <td>4</td>\n",
              "      <td>3.703704</td>\n",
              "    </tr>\n",
              "    <tr>\n",
              "      <th>Raised to Date</th>\n",
              "      <td>4</td>\n",
              "      <td>3.703704</td>\n",
              "    </tr>\n",
              "    <tr>\n",
              "      <th>Year Founded</th>\n",
              "      <td>1</td>\n",
              "      <td>0.925926</td>\n",
              "    </tr>\n",
              "  </tbody>\n",
              "</table>\n",
              "<p>67 rows × 2 columns</p>\n",
              "</div>"
            ],
            "text/plain": [
              "                       Total     Percent\n",
              "Implied EV/Cash Flow     108  100.000000\n",
              "Implied EV/EBIT          108  100.000000\n",
              "Debt Amount 3            108  100.000000\n",
              "Contingent Payout        108  100.000000\n",
              "Implied EV               108  100.000000\n",
              "...                      ...         ...\n",
              "Deal Size Status           9    8.333333\n",
              "CEO PBId                   5    4.629630\n",
              "Post Value (millions)      4    3.703704\n",
              "Raised to Date             4    3.703704\n",
              "Year Founded               1    0.925926\n",
              "\n",
              "[67 rows x 2 columns]"
            ]
          },
          "metadata": {
            "tags": []
          },
          "execution_count": 119
        }
      ]
    },
    {
      "cell_type": "markdown",
      "metadata": {
        "id": "Enp6_iyYefm2"
      },
      "source": [
        "Drop Column which has missing values more than 30%"
      ]
    },
    {
      "cell_type": "code",
      "metadata": {
        "id": "bGRu8iEm-miP"
      },
      "source": [
        "missing_df = missing_df.reset_index()\n",
        "over30 = list(missing_df.loc[missing_df['Percent'] >= 30,'index'])\n",
        "dataset = dataset.drop(over30, axis = 1)"
      ],
      "execution_count": 120,
      "outputs": []
    },
    {
      "cell_type": "code",
      "metadata": {
        "id": "oJ-oAw-fo4jl"
      },
      "source": [
        "# Drop Column intuitively which may not have significant impact\n",
        "dataset=dataset.drop(columns=['Native Currency of Deal','Company PBID','Exit Date','Exit Size (millions)','Series','Post Value (millions)','Total Preferred Capital Raised ($M)*','% Preferred Capital Raised*','Total Preferred Capital Raised ($M) - Combination**','% Preferred Capital Raised - Combination**','Total VC Capital Raised ($M)***','Keywords','Deal No.','Deal ID.1','Deal Date','Deal Size Status','Deal Type 2','Deal Class','Deal Status','CEO PBId'])\n",
        "\n",
        "# Drop duplicate columns  \n",
        "\n",
        "dataset=dataset.drop(columns=['Deal ID','Company ID','Primary Industry Sector','Primary Industry Group','Primary Industry Code','All Industries','Verticals_y','HQ Location','HQ Global Region','HQ Global Sub Region','Company City',\t'Company State/Province',\t'Company Post Code',\t'Company Country'])\n",
        "\n",
        "\n",
        "\n"
      ],
      "execution_count": 121,
      "outputs": []
    },
    {
      "cell_type": "code",
      "metadata": {
        "id": "2DmOIlUm0_xc"
      },
      "source": [
        "# calculating total working duration of company\n",
        "\n",
        "\n",
        "from datetime import date \n",
        "todays_date = date.today() \n",
        "\n",
        "ts =todays_date.year\n",
        "\n",
        "dataset['Total duration for Company'] = ts - dataset['Year Founded']\n",
        "\n",
        "dataset=dataset.drop(columns=['Year Founded'])\n",
        "\n",
        "dataset['Total duration for Company'] \n",
        "\n",
        "# adding investors and new investors column together\n",
        "\n",
        "dataset['# Investors']= dataset['# Investors']+dataset['# New Investors']\n",
        "dataset=dataset.drop(columns=['# New Investors'])"
      ],
      "execution_count": 122,
      "outputs": []
    },
    {
      "cell_type": "markdown",
      "metadata": {
        "id": "lQ-E1asq08Wj"
      },
      "source": [
        "## Filling Missing Values"
      ]
    },
    {
      "cell_type": "code",
      "metadata": {
        "colab": {
          "base_uri": "https://localhost:8080/",
          "height": 328
        },
        "id": "jYL6fkM3FkjX",
        "outputId": "c9bdf33d-bf18-45dd-fec2-bea28c95575f"
      },
      "source": [
        "# check missing value in df\n",
        "missing = dataset.isna().sum().sort_values(ascending = False)\n",
        "percent_missing = ((missing / dataset.isnull().count()) * 100).sort_values(ascending = False)\n",
        "missing_df = pd.concat([missing,percent_missing], axis = 1, keys = ['Total', 'Percent'],sort = False)\n",
        "missing_df[missing_df['Total'] >= 1]"
      ],
      "execution_count": 123,
      "outputs": [
        {
          "output_type": "execute_result",
          "data": {
            "text/html": [
              "<div>\n",
              "<style scoped>\n",
              "    .dataframe tbody tr th:only-of-type {\n",
              "        vertical-align: middle;\n",
              "    }\n",
              "\n",
              "    .dataframe tbody tr th {\n",
              "        vertical-align: top;\n",
              "    }\n",
              "\n",
              "    .dataframe thead th {\n",
              "        text-align: right;\n",
              "    }\n",
              "</style>\n",
              "<table border=\"1\" class=\"dataframe\">\n",
              "  <thead>\n",
              "    <tr style=\"text-align: right;\">\n",
              "      <th></th>\n",
              "      <th>Total</th>\n",
              "      <th>Percent</th>\n",
              "    </tr>\n",
              "  </thead>\n",
              "  <tbody>\n",
              "    <tr>\n",
              "      <th>CEO Education</th>\n",
              "      <td>24</td>\n",
              "      <td>22.222222</td>\n",
              "    </tr>\n",
              "    <tr>\n",
              "      <th>State</th>\n",
              "      <td>21</td>\n",
              "      <td>19.444444</td>\n",
              "    </tr>\n",
              "    <tr>\n",
              "      <th># Investors</th>\n",
              "      <td>17</td>\n",
              "      <td>15.740741</td>\n",
              "    </tr>\n",
              "    <tr>\n",
              "      <th>Total Invested Equity</th>\n",
              "      <td>14</td>\n",
              "      <td>12.962963</td>\n",
              "    </tr>\n",
              "    <tr>\n",
              "      <th>VC Round</th>\n",
              "      <td>14</td>\n",
              "      <td>12.962963</td>\n",
              "    </tr>\n",
              "    <tr>\n",
              "      <th>Current Employees</th>\n",
              "      <td>14</td>\n",
              "      <td>12.962963</td>\n",
              "    </tr>\n",
              "    <tr>\n",
              "      <th>Deal Size</th>\n",
              "      <td>9</td>\n",
              "      <td>8.333333</td>\n",
              "    </tr>\n",
              "    <tr>\n",
              "      <th>Raised to Date</th>\n",
              "      <td>4</td>\n",
              "      <td>3.703704</td>\n",
              "    </tr>\n",
              "    <tr>\n",
              "      <th>Total duration for Company</th>\n",
              "      <td>1</td>\n",
              "      <td>0.925926</td>\n",
              "    </tr>\n",
              "  </tbody>\n",
              "</table>\n",
              "</div>"
            ],
            "text/plain": [
              "                            Total    Percent\n",
              "CEO Education                  24  22.222222\n",
              "State                          21  19.444444\n",
              "# Investors                    17  15.740741\n",
              "Total Invested Equity          14  12.962963\n",
              "VC Round                       14  12.962963\n",
              "Current Employees              14  12.962963\n",
              "Deal Size                       9   8.333333\n",
              "Raised to Date                  4   3.703704\n",
              "Total duration for Company      1   0.925926"
            ]
          },
          "metadata": {
            "tags": []
          },
          "execution_count": 123
        }
      ]
    },
    {
      "cell_type": "code",
      "metadata": {
        "id": "6G6ApzT5lB8p"
      },
      "source": [
        "# filling dataset missing values in columns State, CEO Education and VC round\n",
        "dataset= dataset.fillna({\n",
        "'State' : 'NOT IN USA' ,\n",
        "'CEO Education': 'No Known Education',\n",
        "'VC Round' : 'not known'\n",
        "})\n",
        "\n",
        "# filling Investors missing value by mean of other row values\n",
        "dataset['# Investors'] = dataset['# Investors'].fillna((dataset['# Investors'].mean()))\n",
        "\n",
        "# filling missing values in Raised to date column with mean \n",
        "\n",
        "dataset['Raised to Date']= dataset['Raised to Date'].str.replace(\",\",\"\")\n",
        "\n",
        "dataset.loc[:,'Raised to Date'] = dataset.loc[:,'Raised to Date'].astype(float)\n",
        "\n",
        "dataset['Raised to Date'] = dataset['Raised to Date'].fillna((dataset['Raised to Date'].mean()))\n",
        "\n",
        "# filling missing values in Total duration for Company column with mean \n",
        "\n",
        "dataset['Total duration for Company'] = dataset['Total duration for Company'].fillna((dataset['Total duration for Company'].mean()))\n",
        "\n",
        "# filling missing values in Raised to date column with mean \n",
        "\n",
        "dataset['Current Employees']= dataset['Current Employees'].str.replace(\",\",\"\")\n",
        "dataset.loc[:,'Current Employees'] = dataset.loc[:,'Current Employees'].astype(float)\n",
        "\n",
        "dataset['Current Employees'] = dataset['Current Employees'].fillna((dataset['Current Employees'].mean()))\n",
        "\n",
        "# filling missing values in all other columns with mean \n",
        "\n",
        "dataset = dataset.fillna((dataset.mean()))\n"
      ],
      "execution_count": 124,
      "outputs": []
    },
    {
      "cell_type": "code",
      "metadata": {
        "id": "RORI5Fhpp1qc",
        "colab": {
          "base_uri": "https://localhost:8080/",
          "height": 1000
        },
        "outputId": "9a3ad74f-edb0-40db-9065-024962147c9b"
      },
      "source": [
        "# check MOIC's distribution\n",
        "import seaborn as sn\n",
        "\n",
        "sn.boxplot(y=dataset[\"MOIC\"])\n",
        "plt.show()\n",
        "sn.histplot(dataset, x ='MOIC')\n",
        "plt.show()\n",
        "\n",
        "\n",
        "# check the relationship between MOIC and Primary Industry Sector\n",
        "v1 = sn.violinplot(x=\"Industry Sector\", y=\"MOIC\", data=dataset, size=6)\n",
        "v1.set_xticklabels(v1.get_xticklabels(),rotation=90)\n",
        "\n",
        "#Primary Industry Sector can be encoded into 2 types\n",
        "\n",
        "# check the relationship between MOIC and Current Financing Status\n",
        "v2 = sn.violinplot(x=\"Current Financing Status\", y=\"MOIC\", data=dataset, size=6)\n",
        "v2.set_xticklabels(v2.get_xticklabels(),rotation=90)\n",
        "\n",
        "#Current Financing Status can be encoded into 4 types\n",
        "\n",
        "# check the relationship between MOIC and Current Business Status\n",
        "v3 = sn.violinplot(x=\"Current Business Status\", y=\"MOIC\", data=dataset, size=6)\n",
        "v3.set_xticklabels(v3.get_xticklabels(),rotation=90)\n",
        "\n",
        "# Current Business Status can be encoded into 2 types\n",
        "\n",
        "# check the relationship between MOIC and Universe\n",
        "v4 = sn.violinplot(x=\"Universe\", y=\"MOIC\", data=dataset, size=6)\n",
        "v4.set_xticklabels(v4.get_xticklabels(),rotation=90)\n",
        "\n",
        "#Universe can be encoded into 4 types\n",
        "\n",
        "# check the relationship between MOIC and VC Round\n",
        "v5 = sn.violinplot(x=\"VC Round\", y=\"MOIC\", data=dataset, size=6)\n",
        "v5.set_xticklabels(v5.get_xticklabels(),rotation=90)\n",
        "\n",
        "# VC Round Status can be encoded into 2 types\n",
        "\n",
        "# check the relationship between MOIC and Business Status\n",
        "v7 = sn.violinplot(x=\"Business Status\", y=\"MOIC\", data=dataset, size=6)\n",
        "v7.set_xticklabels(v7.get_xticklabels(),rotation=90)\n",
        "\n",
        "#Business Status can be encoded into 3 types\n",
        "\n"
      ],
      "execution_count": 125,
      "outputs": [
        {
          "output_type": "display_data",
          "data": {
            "image/png": "[encoded data removed]",
            "text/plain": [
              "<Figure size 432x288 with 1 Axes>"
            ]
          },
          "metadata": {
            "tags": [],
            "needs_background": "light"
          }
        },
        {
          "output_type": "display_data",
          "data": {
            "image/png": "[encoded data removed]",
            "text/plain": [
              "<Figure size 432x288 with 1 Axes>"
            ]
          },
          "metadata": {
            "tags": [],
            "needs_background": "light"
          }
        },
        {
          "output_type": "execute_result",
          "data": {
            "text/plain": [
              "[Text(0, 0, 'Generating Revenue'),\n",
              " Text(0, 0, 'Stealth'),\n",
              " Text(0, 0, 'Generating Revenue/Not Profitable'),\n",
              " Text(0, 0, 'Startup'),\n",
              " Text(0, 0, 'Profitable')]"
            ]
          },
          "metadata": {
            "tags": []
          },
          "execution_count": 125
        },
        {
          "output_type": "display_data",
          "data": {
            "image/png": "[encoded data removed]",
            "text/plain": [
              "<Figure size 432x288 with 1 Axes>"
            ]
          },
          "metadata": {
            "tags": [],
            "needs_background": "light"
          }
        }
      ]
    },
    {
      "cell_type": "markdown",
      "metadata": {
        "id": "CriG6VzVSjcK"
      },
      "source": [
        "## Encoding categorical data"
      ]
    },
    {
      "cell_type": "markdown",
      "metadata": {
        "id": "kwjqT3isMf_k"
      },
      "source": [
        "Label Encoding of Categorical Variable"
      ]
    },
    {
      "cell_type": "code",
      "metadata": {
        "colab": {
          "base_uri": "https://localhost:8080/",
          "height": 524
        },
        "id": "Se2TbGGzlrs-",
        "outputId": "3870eeb7-8d3b-4b26-ade8-f9940a3d5944"
      },
      "source": [
        "from sklearn.preprocessing import LabelEncoder\n",
        "le= LabelEncoder()\n",
        "\n",
        "\n",
        "dataset[['Exit Type']] = le.fit_transform(dataset[['Exit Type']].astype(str))\n",
        "\n",
        "dataset[['Last VC Deal Type']] = le.fit_transform(dataset[['Last VC Deal Type']].astype(str))\n",
        "\n",
        "dataset[['Industry Sector']] = le.fit_transform(dataset[['Industry Sector']].astype(str))\n",
        "\n",
        "dataset[['Industry Group']] = le.fit_transform(dataset[['Industry Group']].astype(str))\n",
        "\n",
        "dataset[['Industry Code']] = le.fit_transform(dataset[['Industry Code']].astype(str))\n",
        "\n",
        "dataset[['Verticals_x']] = le.fit_transform(dataset[['Verticals_x']].astype(str))\n",
        "\n",
        "dataset[['City']] = le.fit_transform(dataset[['City']].astype(str))\n",
        "\n",
        "dataset[['State']] = le.fit_transform(dataset[['State']].astype(str))\n",
        "dataset[['Deal Type']] = le.fit_transform(dataset[['Deal Type']].astype(str))\n",
        "\n",
        "dataset[['Country']] = le.fit_transform(dataset[['Country']].astype(str))\n",
        "dataset[['Current Financing Status']] = le.fit_transform(dataset[['Current Financing Status']].astype(str))\n",
        "dataset[['Current Business Status']] = le.fit_transform(dataset[['Current Business Status']].astype(str))\n",
        "dataset[['Universe']] = le.fit_transform(dataset[['Universe']].astype(str))\n",
        "dataset[['CEO Education']] = le.fit_transform(dataset[['CEO Education']].astype(str))\n",
        "dataset[['VC Round']] = le.fit_transform(dataset[['VC Round']].astype(str))\n",
        "dataset[['Business Status']] = le.fit_transform(dataset[['Business Status']].astype(str))\n",
        "dataset[['Financing Status']] = le.fit_transform(dataset[['Financing Status']].astype(str))\n",
        "\n",
        "\n",
        "dataset"
      ],
      "execution_count": 126,
      "outputs": [
        {
          "output_type": "stream",
          "text": [
            "/usr/local/lib/python3.7/dist-packages/sklearn/preprocessing/_label.py:251: DataConversionWarning: A column-vector y was passed when a 1d array was expected. Please change the shape of y to (n_samples, ), for example using ravel().\n",
            "  y = column_or_1d(y, warn=True)\n"
          ],
          "name": "stderr"
        },
        {
          "output_type": "execute_result",
          "data": {
            "text/html": [
              "<div>\n",
              "<style scoped>\n",
              "    .dataframe tbody tr th:only-of-type {\n",
              "        vertical-align: middle;\n",
              "    }\n",
              "\n",
              "    .dataframe tbody tr th {\n",
              "        vertical-align: top;\n",
              "    }\n",
              "\n",
              "    .dataframe thead th {\n",
              "        text-align: right;\n",
              "    }\n",
              "</style>\n",
              "<table border=\"1\" class=\"dataframe\">\n",
              "  <thead>\n",
              "    <tr style=\"text-align: right;\">\n",
              "      <th></th>\n",
              "      <th>Exit Type</th>\n",
              "      <th>Last VC Deal Type</th>\n",
              "      <th>MOIC</th>\n",
              "      <th>Industry Sector</th>\n",
              "      <th>Industry Group</th>\n",
              "      <th>Industry Code</th>\n",
              "      <th>Verticals_x</th>\n",
              "      <th>City</th>\n",
              "      <th>State</th>\n",
              "      <th>Country</th>\n",
              "      <th>Current Financing Status</th>\n",
              "      <th>Current Business Status</th>\n",
              "      <th>Universe</th>\n",
              "      <th>CEO Education</th>\n",
              "      <th>Deal Size</th>\n",
              "      <th>Raised to Date</th>\n",
              "      <th>VC Round</th>\n",
              "      <th>Deal Type</th>\n",
              "      <th>Total Invested Equity</th>\n",
              "      <th>Business Status</th>\n",
              "      <th>Financing Status</th>\n",
              "      <th># Investors</th>\n",
              "      <th>Current Employees</th>\n",
              "      <th>Total duration for Company</th>\n",
              "    </tr>\n",
              "  </thead>\n",
              "  <tbody>\n",
              "    <tr>\n",
              "      <th>3</th>\n",
              "      <td>2</td>\n",
              "      <td>1</td>\n",
              "      <td>16.44</td>\n",
              "      <td>1</td>\n",
              "      <td>3</td>\n",
              "      <td>2</td>\n",
              "      <td>13</td>\n",
              "      <td>9</td>\n",
              "      <td>10</td>\n",
              "      <td>7</td>\n",
              "      <td>1</td>\n",
              "      <td>0</td>\n",
              "      <td>7</td>\n",
              "      <td>5</td>\n",
              "      <td>10.10</td>\n",
              "      <td>10.10</td>\n",
              "      <td>1</td>\n",
              "      <td>2</td>\n",
              "      <td>10.10</td>\n",
              "      <td>0</td>\n",
              "      <td>4</td>\n",
              "      <td>2.000000</td>\n",
              "      <td>6.000000</td>\n",
              "      <td>8.0</td>\n",
              "    </tr>\n",
              "    <tr>\n",
              "      <th>17</th>\n",
              "      <td>2</td>\n",
              "      <td>6</td>\n",
              "      <td>3.81</td>\n",
              "      <td>1</td>\n",
              "      <td>3</td>\n",
              "      <td>9</td>\n",
              "      <td>1</td>\n",
              "      <td>20</td>\n",
              "      <td>0</td>\n",
              "      <td>7</td>\n",
              "      <td>1</td>\n",
              "      <td>0</td>\n",
              "      <td>7</td>\n",
              "      <td>12</td>\n",
              "      <td>3.30</td>\n",
              "      <td>3.30</td>\n",
              "      <td>1</td>\n",
              "      <td>5</td>\n",
              "      <td>3.30</td>\n",
              "      <td>4</td>\n",
              "      <td>4</td>\n",
              "      <td>6.000000</td>\n",
              "      <td>660.553191</td>\n",
              "      <td>6.0</td>\n",
              "    </tr>\n",
              "    <tr>\n",
              "      <th>18</th>\n",
              "      <td>2</td>\n",
              "      <td>6</td>\n",
              "      <td>3.81</td>\n",
              "      <td>1</td>\n",
              "      <td>3</td>\n",
              "      <td>9</td>\n",
              "      <td>1</td>\n",
              "      <td>20</td>\n",
              "      <td>0</td>\n",
              "      <td>7</td>\n",
              "      <td>1</td>\n",
              "      <td>0</td>\n",
              "      <td>7</td>\n",
              "      <td>12</td>\n",
              "      <td>14.50</td>\n",
              "      <td>17.80</td>\n",
              "      <td>2</td>\n",
              "      <td>2</td>\n",
              "      <td>14.50</td>\n",
              "      <td>0</td>\n",
              "      <td>4</td>\n",
              "      <td>3.000000</td>\n",
              "      <td>660.553191</td>\n",
              "      <td>6.0</td>\n",
              "    </tr>\n",
              "    <tr>\n",
              "      <th>19</th>\n",
              "      <td>2</td>\n",
              "      <td>6</td>\n",
              "      <td>3.81</td>\n",
              "      <td>1</td>\n",
              "      <td>3</td>\n",
              "      <td>9</td>\n",
              "      <td>1</td>\n",
              "      <td>20</td>\n",
              "      <td>0</td>\n",
              "      <td>7</td>\n",
              "      <td>1</td>\n",
              "      <td>0</td>\n",
              "      <td>7</td>\n",
              "      <td>25</td>\n",
              "      <td>20.00</td>\n",
              "      <td>37.80</td>\n",
              "      <td>3</td>\n",
              "      <td>2</td>\n",
              "      <td>20.00</td>\n",
              "      <td>0</td>\n",
              "      <td>4</td>\n",
              "      <td>8.000000</td>\n",
              "      <td>660.553191</td>\n",
              "      <td>6.0</td>\n",
              "    </tr>\n",
              "    <tr>\n",
              "      <th>21</th>\n",
              "      <td>2</td>\n",
              "      <td>12</td>\n",
              "      <td>8.94</td>\n",
              "      <td>1</td>\n",
              "      <td>3</td>\n",
              "      <td>2</td>\n",
              "      <td>18</td>\n",
              "      <td>19</td>\n",
              "      <td>0</td>\n",
              "      <td>7</td>\n",
              "      <td>1</td>\n",
              "      <td>0</td>\n",
              "      <td>0</td>\n",
              "      <td>9</td>\n",
              "      <td>158.00</td>\n",
              "      <td>335.00</td>\n",
              "      <td>6</td>\n",
              "      <td>4</td>\n",
              "      <td>158.00</td>\n",
              "      <td>0</td>\n",
              "      <td>4</td>\n",
              "      <td>20.000000</td>\n",
              "      <td>2062.000000</td>\n",
              "      <td>13.0</td>\n",
              "    </tr>\n",
              "    <tr>\n",
              "      <th>...</th>\n",
              "      <td>...</td>\n",
              "      <td>...</td>\n",
              "      <td>...</td>\n",
              "      <td>...</td>\n",
              "      <td>...</td>\n",
              "      <td>...</td>\n",
              "      <td>...</td>\n",
              "      <td>...</td>\n",
              "      <td>...</td>\n",
              "      <td>...</td>\n",
              "      <td>...</td>\n",
              "      <td>...</td>\n",
              "      <td>...</td>\n",
              "      <td>...</td>\n",
              "      <td>...</td>\n",
              "      <td>...</td>\n",
              "      <td>...</td>\n",
              "      <td>...</td>\n",
              "      <td>...</td>\n",
              "      <td>...</td>\n",
              "      <td>...</td>\n",
              "      <td>...</td>\n",
              "      <td>...</td>\n",
              "      <td>...</td>\n",
              "    </tr>\n",
              "    <tr>\n",
              "      <th>291</th>\n",
              "      <td>1</td>\n",
              "      <td>12</td>\n",
              "      <td>0.60</td>\n",
              "      <td>1</td>\n",
              "      <td>3</td>\n",
              "      <td>2</td>\n",
              "      <td>18</td>\n",
              "      <td>22</td>\n",
              "      <td>0</td>\n",
              "      <td>7</td>\n",
              "      <td>1</td>\n",
              "      <td>0</td>\n",
              "      <td>6</td>\n",
              "      <td>45</td>\n",
              "      <td>124.55</td>\n",
              "      <td>260.00</td>\n",
              "      <td>6</td>\n",
              "      <td>4</td>\n",
              "      <td>124.55</td>\n",
              "      <td>0</td>\n",
              "      <td>4</td>\n",
              "      <td>14.000000</td>\n",
              "      <td>200.000000</td>\n",
              "      <td>13.0</td>\n",
              "    </tr>\n",
              "    <tr>\n",
              "      <th>297</th>\n",
              "      <td>2</td>\n",
              "      <td>12</td>\n",
              "      <td>0.22</td>\n",
              "      <td>1</td>\n",
              "      <td>3</td>\n",
              "      <td>3</td>\n",
              "      <td>18</td>\n",
              "      <td>11</td>\n",
              "      <td>7</td>\n",
              "      <td>7</td>\n",
              "      <td>1</td>\n",
              "      <td>0</td>\n",
              "      <td>2</td>\n",
              "      <td>10</td>\n",
              "      <td>12.13</td>\n",
              "      <td>165.10</td>\n",
              "      <td>9</td>\n",
              "      <td>4</td>\n",
              "      <td>12.13</td>\n",
              "      <td>0</td>\n",
              "      <td>4</td>\n",
              "      <td>6.879121</td>\n",
              "      <td>660.553191</td>\n",
              "      <td>16.0</td>\n",
              "    </tr>\n",
              "    <tr>\n",
              "      <th>298</th>\n",
              "      <td>2</td>\n",
              "      <td>12</td>\n",
              "      <td>0.22</td>\n",
              "      <td>1</td>\n",
              "      <td>3</td>\n",
              "      <td>3</td>\n",
              "      <td>18</td>\n",
              "      <td>11</td>\n",
              "      <td>7</td>\n",
              "      <td>7</td>\n",
              "      <td>1</td>\n",
              "      <td>0</td>\n",
              "      <td>2</td>\n",
              "      <td>7</td>\n",
              "      <td>51.35</td>\n",
              "      <td>139.00</td>\n",
              "      <td>8</td>\n",
              "      <td>4</td>\n",
              "      <td>51.35</td>\n",
              "      <td>0</td>\n",
              "      <td>4</td>\n",
              "      <td>18.000000</td>\n",
              "      <td>660.553191</td>\n",
              "      <td>16.0</td>\n",
              "    </tr>\n",
              "    <tr>\n",
              "      <th>303</th>\n",
              "      <td>1</td>\n",
              "      <td>9</td>\n",
              "      <td>55.20</td>\n",
              "      <td>1</td>\n",
              "      <td>3</td>\n",
              "      <td>3</td>\n",
              "      <td>16</td>\n",
              "      <td>20</td>\n",
              "      <td>0</td>\n",
              "      <td>7</td>\n",
              "      <td>1</td>\n",
              "      <td>2</td>\n",
              "      <td>6</td>\n",
              "      <td>25</td>\n",
              "      <td>114.97</td>\n",
              "      <td>160.75</td>\n",
              "      <td>5</td>\n",
              "      <td>4</td>\n",
              "      <td>114.97</td>\n",
              "      <td>0</td>\n",
              "      <td>4</td>\n",
              "      <td>12.000000</td>\n",
              "      <td>3871.000000</td>\n",
              "      <td>10.0</td>\n",
              "    </tr>\n",
              "    <tr>\n",
              "      <th>304</th>\n",
              "      <td>1</td>\n",
              "      <td>9</td>\n",
              "      <td>55.20</td>\n",
              "      <td>1</td>\n",
              "      <td>3</td>\n",
              "      <td>3</td>\n",
              "      <td>16</td>\n",
              "      <td>20</td>\n",
              "      <td>0</td>\n",
              "      <td>7</td>\n",
              "      <td>1</td>\n",
              "      <td>2</td>\n",
              "      <td>6</td>\n",
              "      <td>25</td>\n",
              "      <td>30.00</td>\n",
              "      <td>45.79</td>\n",
              "      <td>4</td>\n",
              "      <td>4</td>\n",
              "      <td>30.00</td>\n",
              "      <td>3</td>\n",
              "      <td>4</td>\n",
              "      <td>14.000000</td>\n",
              "      <td>3871.000000</td>\n",
              "      <td>10.0</td>\n",
              "    </tr>\n",
              "  </tbody>\n",
              "</table>\n",
              "<p>108 rows × 24 columns</p>\n",
              "</div>"
            ],
            "text/plain": [
              "     Exit Type  ...  Total duration for Company\n",
              "3            2  ...                         8.0\n",
              "17           2  ...                         6.0\n",
              "18           2  ...                         6.0\n",
              "19           2  ...                         6.0\n",
              "21           2  ...                        13.0\n",
              "..         ...  ...                         ...\n",
              "291          1  ...                        13.0\n",
              "297          2  ...                        16.0\n",
              "298          2  ...                        16.0\n",
              "303          1  ...                        10.0\n",
              "304          1  ...                        10.0\n",
              "\n",
              "[108 rows x 24 columns]"
            ]
          },
          "metadata": {
            "tags": []
          },
          "execution_count": 126
        }
      ]
    },
    {
      "cell_type": "markdown",
      "metadata": {
        "id": "7GwdcugiTfl0"
      },
      "source": [
        "Changing Data type of Column to perform correlation matrix"
      ]
    },
    {
      "cell_type": "code",
      "metadata": {
        "colab": {
          "base_uri": "https://localhost:8080/",
          "height": 993
        },
        "id": "FpC-npjIlugQ",
        "outputId": "89fdaa0e-6f98-4c66-bc0f-3b83aead82ae"
      },
      "source": [
        "\n",
        "corrMatrix= dataset.corr()\n",
        "\n",
        "fig, ax = plt.subplots(figsize=(15,15))         # Sample figsize in inches\n",
        "\n",
        "sn.heatmap(corrMatrix, annot=True,linewidth=0.8)\n",
        "plt.show()"
      ],
      "execution_count": 127,
      "outputs": [
        {
          "output_type": "display_data",
          "data": {
            "image/png": "[encoded data removed]",
            "text/plain": [
              "<Figure size 1080x1080 with 2 Axes>"
            ]
          },
          "metadata": {
            "tags": [],
            "needs_background": "light"
          }
        }
      ]
    },
    {
      "cell_type": "markdown",
      "metadata": {
        "id": "S7Pj--w2jMZH"
      },
      "source": [
        "Removal of The columns which are highly related to other columns"
      ]
    },
    {
      "cell_type": "code",
      "metadata": {
        "id": "z0MkIidIjKWG"
      },
      "source": [
        "dataset=dataset.drop(columns=['Deal Size'])"
      ],
      "execution_count": 128,
      "outputs": []
    },
    {
      "cell_type": "code",
      "metadata": {
        "colab": {
          "base_uri": "https://localhost:8080/",
          "height": 265
        },
        "id": "N_H4UsHBH-HR",
        "outputId": "df9f36ba-2cf7-42ab-f4d9-69200a157a55"
      },
      "source": [
        "# histogram plot\n",
        "from matplotlib import pyplot\n",
        "\n",
        "pyplot.hist(dataset['MOIC'])\n",
        "pyplot.show()"
      ],
      "execution_count": 129,
      "outputs": [
        {
          "output_type": "display_data",
          "data": {
            "image/png": "[encoded data removed]",
            "text/plain": [
              "<Figure size 432x288 with 1 Axes>"
            ]
          },
          "metadata": {
            "tags": [],
            "needs_background": "light"
          }
        }
      ]
    },
    {
      "cell_type": "code",
      "metadata": {
        "colab": {
          "base_uri": "https://localhost:8080/",
          "height": 490
        },
        "id": "Z2rKRI-B0Skf",
        "outputId": "75094c48-6ba8-4099-db62-6bdfef569b61"
      },
      "source": [
        "dataset"
      ],
      "execution_count": 130,
      "outputs": [
        {
          "output_type": "execute_result",
          "data": {
            "text/html": [
              "<div>\n",
              "<style scoped>\n",
              "    .dataframe tbody tr th:only-of-type {\n",
              "        vertical-align: middle;\n",
              "    }\n",
              "\n",
              "    .dataframe tbody tr th {\n",
              "        vertical-align: top;\n",
              "    }\n",
              "\n",
              "    .dataframe thead th {\n",
              "        text-align: right;\n",
              "    }\n",
              "</style>\n",
              "<table border=\"1\" class=\"dataframe\">\n",
              "  <thead>\n",
              "    <tr style=\"text-align: right;\">\n",
              "      <th></th>\n",
              "      <th>Exit Type</th>\n",
              "      <th>Last VC Deal Type</th>\n",
              "      <th>MOIC</th>\n",
              "      <th>Industry Sector</th>\n",
              "      <th>Industry Group</th>\n",
              "      <th>Industry Code</th>\n",
              "      <th>Verticals_x</th>\n",
              "      <th>City</th>\n",
              "      <th>State</th>\n",
              "      <th>Country</th>\n",
              "      <th>Current Financing Status</th>\n",
              "      <th>Current Business Status</th>\n",
              "      <th>Universe</th>\n",
              "      <th>CEO Education</th>\n",
              "      <th>Raised to Date</th>\n",
              "      <th>VC Round</th>\n",
              "      <th>Deal Type</th>\n",
              "      <th>Total Invested Equity</th>\n",
              "      <th>Business Status</th>\n",
              "      <th>Financing Status</th>\n",
              "      <th># Investors</th>\n",
              "      <th>Current Employees</th>\n",
              "      <th>Total duration for Company</th>\n",
              "    </tr>\n",
              "  </thead>\n",
              "  <tbody>\n",
              "    <tr>\n",
              "      <th>3</th>\n",
              "      <td>2</td>\n",
              "      <td>1</td>\n",
              "      <td>16.44</td>\n",
              "      <td>1</td>\n",
              "      <td>3</td>\n",
              "      <td>2</td>\n",
              "      <td>13</td>\n",
              "      <td>9</td>\n",
              "      <td>10</td>\n",
              "      <td>7</td>\n",
              "      <td>1</td>\n",
              "      <td>0</td>\n",
              "      <td>7</td>\n",
              "      <td>5</td>\n",
              "      <td>10.10</td>\n",
              "      <td>1</td>\n",
              "      <td>2</td>\n",
              "      <td>10.10</td>\n",
              "      <td>0</td>\n",
              "      <td>4</td>\n",
              "      <td>2.000000</td>\n",
              "      <td>6.000000</td>\n",
              "      <td>8.0</td>\n",
              "    </tr>\n",
              "    <tr>\n",
              "      <th>17</th>\n",
              "      <td>2</td>\n",
              "      <td>6</td>\n",
              "      <td>3.81</td>\n",
              "      <td>1</td>\n",
              "      <td>3</td>\n",
              "      <td>9</td>\n",
              "      <td>1</td>\n",
              "      <td>20</td>\n",
              "      <td>0</td>\n",
              "      <td>7</td>\n",
              "      <td>1</td>\n",
              "      <td>0</td>\n",
              "      <td>7</td>\n",
              "      <td>12</td>\n",
              "      <td>3.30</td>\n",
              "      <td>1</td>\n",
              "      <td>5</td>\n",
              "      <td>3.30</td>\n",
              "      <td>4</td>\n",
              "      <td>4</td>\n",
              "      <td>6.000000</td>\n",
              "      <td>660.553191</td>\n",
              "      <td>6.0</td>\n",
              "    </tr>\n",
              "    <tr>\n",
              "      <th>18</th>\n",
              "      <td>2</td>\n",
              "      <td>6</td>\n",
              "      <td>3.81</td>\n",
              "      <td>1</td>\n",
              "      <td>3</td>\n",
              "      <td>9</td>\n",
              "      <td>1</td>\n",
              "      <td>20</td>\n",
              "      <td>0</td>\n",
              "      <td>7</td>\n",
              "      <td>1</td>\n",
              "      <td>0</td>\n",
              "      <td>7</td>\n",
              "      <td>12</td>\n",
              "      <td>17.80</td>\n",
              "      <td>2</td>\n",
              "      <td>2</td>\n",
              "      <td>14.50</td>\n",
              "      <td>0</td>\n",
              "      <td>4</td>\n",
              "      <td>3.000000</td>\n",
              "      <td>660.553191</td>\n",
              "      <td>6.0</td>\n",
              "    </tr>\n",
              "    <tr>\n",
              "      <th>19</th>\n",
              "      <td>2</td>\n",
              "      <td>6</td>\n",
              "      <td>3.81</td>\n",
              "      <td>1</td>\n",
              "      <td>3</td>\n",
              "      <td>9</td>\n",
              "      <td>1</td>\n",
              "      <td>20</td>\n",
              "      <td>0</td>\n",
              "      <td>7</td>\n",
              "      <td>1</td>\n",
              "      <td>0</td>\n",
              "      <td>7</td>\n",
              "      <td>25</td>\n",
              "      <td>37.80</td>\n",
              "      <td>3</td>\n",
              "      <td>2</td>\n",
              "      <td>20.00</td>\n",
              "      <td>0</td>\n",
              "      <td>4</td>\n",
              "      <td>8.000000</td>\n",
              "      <td>660.553191</td>\n",
              "      <td>6.0</td>\n",
              "    </tr>\n",
              "    <tr>\n",
              "      <th>21</th>\n",
              "      <td>2</td>\n",
              "      <td>12</td>\n",
              "      <td>8.94</td>\n",
              "      <td>1</td>\n",
              "      <td>3</td>\n",
              "      <td>2</td>\n",
              "      <td>18</td>\n",
              "      <td>19</td>\n",
              "      <td>0</td>\n",
              "      <td>7</td>\n",
              "      <td>1</td>\n",
              "      <td>0</td>\n",
              "      <td>0</td>\n",
              "      <td>9</td>\n",
              "      <td>335.00</td>\n",
              "      <td>6</td>\n",
              "      <td>4</td>\n",
              "      <td>158.00</td>\n",
              "      <td>0</td>\n",
              "      <td>4</td>\n",
              "      <td>20.000000</td>\n",
              "      <td>2062.000000</td>\n",
              "      <td>13.0</td>\n",
              "    </tr>\n",
              "    <tr>\n",
              "      <th>...</th>\n",
              "      <td>...</td>\n",
              "      <td>...</td>\n",
              "      <td>...</td>\n",
              "      <td>...</td>\n",
              "      <td>...</td>\n",
              "      <td>...</td>\n",
              "      <td>...</td>\n",
              "      <td>...</td>\n",
              "      <td>...</td>\n",
              "      <td>...</td>\n",
              "      <td>...</td>\n",
              "      <td>...</td>\n",
              "      <td>...</td>\n",
              "      <td>...</td>\n",
              "      <td>...</td>\n",
              "      <td>...</td>\n",
              "      <td>...</td>\n",
              "      <td>...</td>\n",
              "      <td>...</td>\n",
              "      <td>...</td>\n",
              "      <td>...</td>\n",
              "      <td>...</td>\n",
              "      <td>...</td>\n",
              "    </tr>\n",
              "    <tr>\n",
              "      <th>291</th>\n",
              "      <td>1</td>\n",
              "      <td>12</td>\n",
              "      <td>0.60</td>\n",
              "      <td>1</td>\n",
              "      <td>3</td>\n",
              "      <td>2</td>\n",
              "      <td>18</td>\n",
              "      <td>22</td>\n",
              "      <td>0</td>\n",
              "      <td>7</td>\n",
              "      <td>1</td>\n",
              "      <td>0</td>\n",
              "      <td>6</td>\n",
              "      <td>45</td>\n",
              "      <td>260.00</td>\n",
              "      <td>6</td>\n",
              "      <td>4</td>\n",
              "      <td>124.55</td>\n",
              "      <td>0</td>\n",
              "      <td>4</td>\n",
              "      <td>14.000000</td>\n",
              "      <td>200.000000</td>\n",
              "      <td>13.0</td>\n",
              "    </tr>\n",
              "    <tr>\n",
              "      <th>297</th>\n",
              "      <td>2</td>\n",
              "      <td>12</td>\n",
              "      <td>0.22</td>\n",
              "      <td>1</td>\n",
              "      <td>3</td>\n",
              "      <td>3</td>\n",
              "      <td>18</td>\n",
              "      <td>11</td>\n",
              "      <td>7</td>\n",
              "      <td>7</td>\n",
              "      <td>1</td>\n",
              "      <td>0</td>\n",
              "      <td>2</td>\n",
              "      <td>10</td>\n",
              "      <td>165.10</td>\n",
              "      <td>9</td>\n",
              "      <td>4</td>\n",
              "      <td>12.13</td>\n",
              "      <td>0</td>\n",
              "      <td>4</td>\n",
              "      <td>6.879121</td>\n",
              "      <td>660.553191</td>\n",
              "      <td>16.0</td>\n",
              "    </tr>\n",
              "    <tr>\n",
              "      <th>298</th>\n",
              "      <td>2</td>\n",
              "      <td>12</td>\n",
              "      <td>0.22</td>\n",
              "      <td>1</td>\n",
              "      <td>3</td>\n",
              "      <td>3</td>\n",
              "      <td>18</td>\n",
              "      <td>11</td>\n",
              "      <td>7</td>\n",
              "      <td>7</td>\n",
              "      <td>1</td>\n",
              "      <td>0</td>\n",
              "      <td>2</td>\n",
              "      <td>7</td>\n",
              "      <td>139.00</td>\n",
              "      <td>8</td>\n",
              "      <td>4</td>\n",
              "      <td>51.35</td>\n",
              "      <td>0</td>\n",
              "      <td>4</td>\n",
              "      <td>18.000000</td>\n",
              "      <td>660.553191</td>\n",
              "      <td>16.0</td>\n",
              "    </tr>\n",
              "    <tr>\n",
              "      <th>303</th>\n",
              "      <td>1</td>\n",
              "      <td>9</td>\n",
              "      <td>55.20</td>\n",
              "      <td>1</td>\n",
              "      <td>3</td>\n",
              "      <td>3</td>\n",
              "      <td>16</td>\n",
              "      <td>20</td>\n",
              "      <td>0</td>\n",
              "      <td>7</td>\n",
              "      <td>1</td>\n",
              "      <td>2</td>\n",
              "      <td>6</td>\n",
              "      <td>25</td>\n",
              "      <td>160.75</td>\n",
              "      <td>5</td>\n",
              "      <td>4</td>\n",
              "      <td>114.97</td>\n",
              "      <td>0</td>\n",
              "      <td>4</td>\n",
              "      <td>12.000000</td>\n",
              "      <td>3871.000000</td>\n",
              "      <td>10.0</td>\n",
              "    </tr>\n",
              "    <tr>\n",
              "      <th>304</th>\n",
              "      <td>1</td>\n",
              "      <td>9</td>\n",
              "      <td>55.20</td>\n",
              "      <td>1</td>\n",
              "      <td>3</td>\n",
              "      <td>3</td>\n",
              "      <td>16</td>\n",
              "      <td>20</td>\n",
              "      <td>0</td>\n",
              "      <td>7</td>\n",
              "      <td>1</td>\n",
              "      <td>2</td>\n",
              "      <td>6</td>\n",
              "      <td>25</td>\n",
              "      <td>45.79</td>\n",
              "      <td>4</td>\n",
              "      <td>4</td>\n",
              "      <td>30.00</td>\n",
              "      <td>3</td>\n",
              "      <td>4</td>\n",
              "      <td>14.000000</td>\n",
              "      <td>3871.000000</td>\n",
              "      <td>10.0</td>\n",
              "    </tr>\n",
              "  </tbody>\n",
              "</table>\n",
              "<p>108 rows × 23 columns</p>\n",
              "</div>"
            ],
            "text/plain": [
              "     Exit Type  ...  Total duration for Company\n",
              "3            2  ...                         8.0\n",
              "17           2  ...                         6.0\n",
              "18           2  ...                         6.0\n",
              "19           2  ...                         6.0\n",
              "21           2  ...                        13.0\n",
              "..         ...  ...                         ...\n",
              "291          1  ...                        13.0\n",
              "297          2  ...                        16.0\n",
              "298          2  ...                        16.0\n",
              "303          1  ...                        10.0\n",
              "304          1  ...                        10.0\n",
              "\n",
              "[108 rows x 23 columns]"
            ]
          },
          "metadata": {
            "tags": []
          },
          "execution_count": 130
        }
      ]
    },
    {
      "cell_type": "code",
      "metadata": {
        "id": "vyKs3_IdNlZ0"
      },
      "source": [
        "X = dataset.loc[:,dataset.columns!='MOIC']\n",
        "Y = dataset['MOIC']\n",
        "#X1 = dataset.iloc[:, 0:2]\n",
        "#X2 = dataset.iloc[:, 3:-1]\n",
        "#X= pd.concat([X1,X2],axis=1)\n",
        "#Y = dataset.iloc[:,2:3]"
      ],
      "execution_count": 131,
      "outputs": []
    },
    {
      "cell_type": "code",
      "metadata": {
        "colab": {
          "base_uri": "https://localhost:8080/"
        },
        "id": "Sc93XWtttFog",
        "outputId": "ab41f55d-7555-4ad9-8fd4-7b43d01bec22"
      },
      "source": [
        "type(Y)"
      ],
      "execution_count": 132,
      "outputs": [
        {
          "output_type": "execute_result",
          "data": {
            "text/plain": [
              "pandas.core.series.Series"
            ]
          },
          "metadata": {
            "tags": []
          },
          "execution_count": 132
        }
      ]
    },
    {
      "cell_type": "markdown",
      "metadata": {
        "id": "qb_vcgm3qZKW"
      },
      "source": [
        "## Splitting the dataset into the Training set and Test set"
      ]
    },
    {
      "cell_type": "code",
      "metadata": {
        "id": "pXgA6CzlqbCl"
      },
      "source": [
        "from sklearn.model_selection import train_test_split\n",
        "X_train, X_test, y_train, y_test = train_test_split(X, Y, test_size = 0.2, random_state = 1)"
      ],
      "execution_count": 133,
      "outputs": []
    },
    {
      "cell_type": "code",
      "metadata": {
        "colab": {
          "base_uri": "https://localhost:8080/"
        },
        "id": "_Qx0d1A2oir0",
        "outputId": "51e11284-d5ad-4774-dced-82467e53146b"
      },
      "source": [
        "type(y_test)"
      ],
      "execution_count": 134,
      "outputs": [
        {
          "output_type": "execute_result",
          "data": {
            "text/plain": [
              "pandas.core.series.Series"
            ]
          },
          "metadata": {
            "tags": []
          },
          "execution_count": 134
        }
      ]
    },
    {
      "cell_type": "markdown",
      "metadata": {
        "id": "97yXmXM0H6rt"
      },
      "source": [
        "### Building Models"
      ]
    },
    {
      "cell_type": "markdown",
      "metadata": {
        "id": "ojqNmZfLMzX5"
      },
      "source": [
        "Defining Function for Model Performance evaluation"
      ]
    },
    {
      "cell_type": "code",
      "metadata": {
        "id": "-arlHI2Mjq56"
      },
      "source": [
        "def eval_result(y_train,y_predtrain,y_test,y_predtest):\n",
        "\n",
        "    from sklearn.metrics import mean_squared_error\n",
        "    from sklearn.metrics import mean_absolute_error\n",
        "\n",
        "    rmse_train = mean_squared_error(y_train, y_predtrain, squared=False)\n",
        "    print( f\"RMSE Train error is {rmse_train}\")\n",
        "    rmse_test = mean_squared_error(y_test, y_predtest, squared=False)\n",
        "    print( f\"RMSE Test error is {rmse_test}\")\n",
        "    \n",
        "    mae_train= mean_absolute_error(y_train, y_predtrain)\n",
        "    print( f\"MAE Train error is {mae_train}\")\n",
        "    mae_test= mean_absolute_error(y_test, y_predtest)\n",
        "    print( f\"MAE Test error is {mae_test}\")\n",
        "\n",
        "    RRSE_train = np.sqrt(np.mean((np.square(y_train-y_predtrain))/(np.square(np.mean(y_train)-y_train))))\n",
        "    print( f\"Root relative squared Train error is {rmspe_train}\")\n",
        "    RRSE_test = np.sqrt(np.mean((np.square(y_test-y_predtest))/(np.square(np.mean(y_test)-y_test))))\n",
        "    print( f\"Root relative squared Test error is {rmspe_test}\")\n",
        "\n",
        "\n",
        "    pr1=pd.DataFrame(y_predtest,columns=[\"Pred\"])\n",
        "\n",
        "    #pr1[\"Actual\"]=y_test[\"MOIC\"].values\n",
        "    #print(f\"{pr1}\")\n",
        "    pr1=pd.DataFrame(y_predtest,columns=[\"Pred\"])\n",
        "\n",
        "    pr1[\"Actual\"]=y_test.values\n",
        "\n",
        "    pr1['Percentage error']=((pr1['Actual']-pr1['Pred'])/pr1['Actual'])*100\n",
        "    print(f\"{pr1}\")\n",
        "\n",
        "   \n",
        "  "
      ],
      "execution_count": 135,
      "outputs": []
    },
    {
      "cell_type": "markdown",
      "metadata": {
        "id": "SbzaaNsbuyVn"
      },
      "source": [
        "Linear Regression"
      ]
    },
    {
      "cell_type": "code",
      "metadata": {
        "colab": {
          "base_uri": "https://localhost:8080/"
        },
        "id": "HLrL86Riu0wj",
        "outputId": "1e8b12c5-bad0-43a9-e00c-2883b12aafe2"
      },
      "source": [
        "from sklearn.linear_model import LinearRegression\n",
        "multlin_model = LinearRegression()\n",
        "multlin_model.fit(X_train,y_train)\n",
        "\n"
      ],
      "execution_count": 136,
      "outputs": [
        {
          "output_type": "execute_result",
          "data": {
            "text/plain": [
              "LinearRegression(copy_X=True, fit_intercept=True, n_jobs=None, normalize=False)"
            ]
          },
          "metadata": {
            "tags": []
          },
          "execution_count": 136
        }
      ]
    },
    {
      "cell_type": "markdown",
      "metadata": {
        "id": "3f9hOkC998Rt"
      },
      "source": [
        "Predicting result"
      ]
    },
    {
      "cell_type": "code",
      "metadata": {
        "id": "AhYO5lIb9-WZ"
      },
      "source": [
        "y_predtest= multlin_model.predict(X_test)\n",
        "\n",
        "y_predtrain = multlin_model.predict(X_train)\n"
      ],
      "execution_count": 137,
      "outputs": []
    },
    {
      "cell_type": "code",
      "metadata": {
        "colab": {
          "base_uri": "https://localhost:8080/"
        },
        "id": "wEXeNnSiYo5H",
        "outputId": "f624af5a-f3aa-48a1-eb84-b9a68e6403b3"
      },
      "source": [
        "y_predtrain.mean(axis=0)"
      ],
      "execution_count": 138,
      "outputs": [
        {
          "output_type": "execute_result",
          "data": {
            "text/plain": [
              "8.667906976744165"
            ]
          },
          "metadata": {
            "tags": []
          },
          "execution_count": 138
        }
      ]
    },
    {
      "cell_type": "markdown",
      "metadata": {
        "id": "stovwINEICNA"
      },
      "source": [
        "evaluating model performance"
      ]
    },
    {
      "cell_type": "code",
      "metadata": {
        "id": "KnLXVo77Q_U1",
        "colab": {
          "base_uri": "https://localhost:8080/"
        },
        "outputId": "22351082-4436-4cda-b7fc-f17c21ac11f7"
      },
      "source": [
        "eval_result(y_train,y_predtrain,y_test,y_predtest)"
      ],
      "execution_count": 139,
      "outputs": [
        {
          "output_type": "stream",
          "text": [
            "RMSE Train error is 6.096230397961335\n",
            "RMSE Test error is 10.758711723493198\n",
            "MAE Train error is 4.605051916708601\n",
            "MAE Test error is 7.714563504409602\n",
            "Root relative squared Train error is 4.029004775077014\n",
            "Root relative squared Test error is 0.9876880928218881\n",
            "         Pred  Actual  Percentage error\n",
            "0    3.553646    5.35         33.576715\n",
            "1    5.590401    9.00         37.884430\n",
            "2   33.024396   57.08         42.143666\n",
            "3    2.336881    3.90         40.079974\n",
            "4    4.774070    5.35         10.765052\n",
            "5    8.852016   12.39         28.555161\n",
            "6    6.761261   12.25         44.806036\n",
            "7    5.498576   12.39         55.620856\n",
            "8    8.591213    5.97        -43.906408\n",
            "9    3.664191    0.73       -401.943999\n",
            "10  42.814568   58.00         26.181780\n",
            "11  12.071336    3.81       -216.832963\n",
            "12   5.858539   12.25         52.175194\n",
            "13   5.863414    5.35         -9.596516\n",
            "14   7.649725   12.39         38.258878\n",
            "15  16.321271   21.29         23.338323\n",
            "16  43.306684   55.20         21.545862\n",
            "17  28.413203   48.52         41.440224\n",
            "18 -26.067157    0.98       2759.913975\n",
            "19  -0.099837    0.22        145.380511\n",
            "20   0.867418    5.81         85.070263\n",
            "21   8.814097   21.29         58.599826\n"
          ],
          "name": "stdout"
        }
      ]
    },
    {
      "cell_type": "code",
      "metadata": {
        "colab": {
          "base_uri": "https://localhost:8080/"
        },
        "id": "m3nAoyVvX010",
        "outputId": "d5c03384-20a5-4f3d-f5ac-34192cd6bf1d"
      },
      "source": [
        "# get importance\n",
        "importance_lin = multlin_model.coef_\n",
        "print(multlin_model.coef_,X.columns)\n",
        "coef_dict = dict(zip(X.columns,importance_lin))\n",
        "\n"
      ],
      "execution_count": 141,
      "outputs": [
        {
          "output_type": "stream",
          "text": [
            "[ 1.18494910e+01 -4.57263247e-02  3.89894362e+00  3.33022849e+00\n",
            " -1.86060352e-01  3.19578315e-01  2.85550160e-01 -1.75924092e-01\n",
            "  1.54726631e-01  2.23765642e+01  9.11316053e+00  3.75818866e-01\n",
            "  6.88499328e-02 -1.08080812e-02 -2.22683062e-01 -1.27947128e+00\n",
            "  1.12109466e-02 -6.36935677e-01  6.76802212e-01 -2.01235088e-01\n",
            "  8.61818501e-03 -4.61086113e-01] Index(['Exit Type', 'Last VC Deal Type', 'Industry Sector', 'Industry Group',\n",
            "       'Industry Code', 'Verticals_x', 'City', 'State', 'Country',\n",
            "       'Current Financing Status', 'Current Business Status', 'Universe',\n",
            "       'CEO Education', 'Raised to Date', 'VC Round', 'Deal Type',\n",
            "       'Total Invested Equity', 'Business Status', 'Financing Status',\n",
            "       '# Investors', 'Current Employees', 'Total duration for Company'],\n",
            "      dtype='object')\n"
          ],
          "name": "stdout"
        }
      ]
    },
    {
      "cell_type": "markdown",
      "metadata": {
        "id": "6ihUtG8Zmw3G"
      },
      "source": [
        "Ridge Regression\n",
        "\n",
        "---\n",
        "\n"
      ]
    },
    {
      "cell_type": "code",
      "metadata": {
        "id": "K8ZJpuYBmmky"
      },
      "source": [
        "from sklearn.metrics import r2_score\n",
        "from sklearn.linear_model import Ridge\n",
        "#from sklearn.model_selection import cross_val_score\n",
        "#from sklearn.model_selection import RepeatedKFold\n",
        "from sklearn.model_selection import GridSearchCV\n",
        "\n",
        "from numpy import absolute\n",
        "from numpy import mean\n",
        "from numpy import std\n",
        "import numpy as np\n",
        "import math\n",
        "\n",
        "\n",
        "# define grid\n",
        "grid = dict()\n",
        "grid['alpha'] = np.arange(0, 1, 0.01)\n",
        "\n",
        "# ridge regression\n",
        "\n",
        "ridge_model= Ridge()\n",
        "\n",
        "\n",
        "ridge_regressor=GridSearchCV(ridge_model, grid, scoring='neg_mean_squared_error',cv=10, return_train_score=True, verbose=0)\n",
        "results=ridge_regressor.fit(X_train,y_train)"
      ],
      "execution_count": 142,
      "outputs": []
    },
    {
      "cell_type": "code",
      "metadata": {
        "id": "Bw5rypy7gsIS",
        "colab": {
          "base_uri": "https://localhost:8080/"
        },
        "outputId": "db04b6cc-bc59-4fac-fdda-f8a050b86ef7"
      },
      "source": [
        "print('RMSE: %.3f' % math.sqrt(abs(results.best_score_))) ##  mean square error\n",
        "print('Config: %s' % results.best_params_)   # printing best alpha"
      ],
      "execution_count": 143,
      "outputs": [
        {
          "output_type": "stream",
          "text": [
            "RMSE: 10.706\n",
            "Config: {'alpha': 0.99}\n"
          ],
          "name": "stdout"
        }
      ]
    },
    {
      "cell_type": "code",
      "metadata": {
        "id": "hppNb9euk26G"
      },
      "source": [
        "\n",
        "ridge_model= Ridge(alpha=0.11)\n",
        "ridge_model.fit(X_train,y_train)\n",
        "y_predtrain= ridge_model.predict(X_train)\n",
        "\n",
        "\n"
      ],
      "execution_count": 144,
      "outputs": []
    },
    {
      "cell_type": "code",
      "metadata": {
        "id": "9oqPqZ_OnBbA"
      },
      "source": [
        "y_predtest= ridge_model.predict(X_test)\n",
        "\n"
      ],
      "execution_count": 145,
      "outputs": []
    },
    {
      "cell_type": "markdown",
      "metadata": {
        "id": "_fqBNhQKIHr1"
      },
      "source": [
        "Evaluating model performance"
      ]
    },
    {
      "cell_type": "code",
      "metadata": {
        "colab": {
          "base_uri": "https://localhost:8080/"
        },
        "id": "aQEJ_G2-kwug",
        "outputId": "79218314-e1e8-4725-a299-b1d85b2f9747"
      },
      "source": [
        "eval_result(y_train,y_predtrain,y_test,y_predtest)"
      ],
      "execution_count": 146,
      "outputs": [
        {
          "output_type": "stream",
          "text": [
            "RMSE Train error is 6.101051041584977\n",
            "RMSE Test error is 10.609737930184194\n",
            "MAE Train error is 4.608689677679898\n",
            "MAE Test error is 7.656352179188264\n",
            "Root relative squared Train error is 3.8475864259867447\n",
            "Root relative squared Test error is 0.9811007246113815\n",
            "         Pred  Actual  Percentage error\n",
            "0    3.669189    5.35         31.417022\n",
            "1    5.634262    9.00         37.397090\n",
            "2   32.671146   57.08         42.762533\n",
            "3    2.694515    3.90         30.909879\n",
            "4    4.941280    5.35          7.639617\n",
            "5    9.347642   12.39         24.554944\n",
            "6    6.575765   12.25         46.320286\n",
            "7    5.711736   12.39         53.900439\n",
            "8    8.730691    5.97        -46.242725\n",
            "9    3.792903    0.73       -419.575692\n",
            "10  42.048898   58.00         27.501900\n",
            "11  11.991540    3.81       -214.738575\n",
            "12   5.786730   12.25         52.761387\n",
            "13   6.081004    5.35        -13.663630\n",
            "14   7.992382   12.39         35.493283\n",
            "15  16.084123   21.29         24.452215\n",
            "16  43.117037   55.20         21.889426\n",
            "17  27.842136   48.52         42.617198\n",
            "18 -23.300490    0.98       2477.600992\n",
            "19  -0.285994    0.22        229.997449\n",
            "20   0.983298    5.81         83.075763\n",
            "21   8.442733   21.29         60.344139\n"
          ],
          "name": "stdout"
        }
      ]
    },
    {
      "cell_type": "code",
      "metadata": {
        "colab": {
          "base_uri": "https://localhost:8080/"
        },
        "id": "XXshft1tfL6e",
        "outputId": "0d0b95c9-7bb2-4ba5-f9f2-64b6dd534746"
      },
      "source": [
        "# get importance\n",
        "importance_ridge = ridge_model.coef_\n",
        "print(ridge_model.coef_,X.columns)\n",
        "coef_dict = dict(zip(X.columns,importance_ridge))\n",
        "\n"
      ],
      "execution_count": 147,
      "outputs": [
        {
          "output_type": "stream",
          "text": [
            "[ 1.06754367e+01 -5.43067999e-02  3.76064442e+00  3.30635708e+00\n",
            " -1.52303585e-01  3.32867778e-01  2.72880279e-01 -1.78096790e-01\n",
            "  1.40501227e-01  2.09498279e+01  8.76585489e+00  2.98128217e-01\n",
            "  6.37307043e-02 -1.14875772e-02 -2.20321734e-01 -1.33484702e+00\n",
            "  1.15667373e-02 -5.98605342e-01  7.42204302e-01 -1.92971775e-01\n",
            "  8.48170912e-03 -5.16011123e-01] Index(['Exit Type', 'Last VC Deal Type', 'Industry Sector', 'Industry Group',\n",
            "       'Industry Code', 'Verticals_x', 'City', 'State', 'Country',\n",
            "       'Current Financing Status', 'Current Business Status', 'Universe',\n",
            "       'CEO Education', 'Raised to Date', 'VC Round', 'Deal Type',\n",
            "       'Total Invested Equity', 'Business Status', 'Financing Status',\n",
            "       '# Investors', 'Current Employees', 'Total duration for Company'],\n",
            "      dtype='object')\n"
          ],
          "name": "stdout"
        }
      ]
    },
    {
      "cell_type": "code",
      "metadata": {
        "id": "9Ly_3soIs6gA"
      },
      "source": [
        "#ridge_regressor.cv_results_"
      ],
      "execution_count": 148,
      "outputs": []
    },
    {
      "cell_type": "markdown",
      "metadata": {
        "id": "V6-2q0mdzKdM"
      },
      "source": [
        "### Lasso Regression"
      ]
    },
    {
      "cell_type": "code",
      "metadata": {
        "id": "rHBheeFomSoe",
        "colab": {
          "base_uri": "https://localhost:8080/"
        },
        "outputId": "8722a2c7-6786-4ec0-84d0-47f5be27a7d4"
      },
      "source": [
        "from sklearn.linear_model import Lasso\n",
        "\n",
        "\n",
        "lasso_model= Lasso()\n",
        "\n",
        "\n",
        "lasso_regressor=GridSearchCV(lasso_model, grid, scoring='neg_mean_squared_error',cv=10, return_train_score=True, verbose=0)\n",
        "results=lasso_regressor.fit(X_train,y_train)"
      ],
      "execution_count": 149,
      "outputs": [
        {
          "output_type": "stream",
          "text": [
            "/usr/local/lib/python3.7/dist-packages/sklearn/model_selection/_validation.py:515: UserWarning: With alpha=0, this algorithm does not converge well. You are advised to use the LinearRegression estimator\n",
            "  estimator.fit(X_train, y_train, **fit_params)\n",
            "/usr/local/lib/python3.7/dist-packages/sklearn/linear_model/_coordinate_descent.py:476: UserWarning: Coordinate descent with no regularization may lead to unexpected results and is discouraged.\n",
            "  positive)\n",
            "/usr/local/lib/python3.7/dist-packages/sklearn/linear_model/_coordinate_descent.py:476: ConvergenceWarning: Objective did not converge. You might want to increase the number of iterations. Duality gap: 1357.6079877490313, tolerance: 0.6950177651948053\n",
            "  positive)\n",
            "/usr/local/lib/python3.7/dist-packages/sklearn/model_selection/_validation.py:515: UserWarning: With alpha=0, this algorithm does not converge well. You are advised to use the LinearRegression estimator\n",
            "  estimator.fit(X_train, y_train, **fit_params)\n",
            "/usr/local/lib/python3.7/dist-packages/sklearn/linear_model/_coordinate_descent.py:476: UserWarning: Coordinate descent with no regularization may lead to unexpected results and is discouraged.\n",
            "  positive)\n",
            "/usr/local/lib/python3.7/dist-packages/sklearn/linear_model/_coordinate_descent.py:476: ConvergenceWarning: Objective did not converge. You might want to increase the number of iterations. Duality gap: 1447.528287227188, tolerance: 0.9245065051948056\n",
            "  positive)\n",
            "/usr/local/lib/python3.7/dist-packages/sklearn/model_selection/_validation.py:515: UserWarning: With alpha=0, this algorithm does not converge well. You are advised to use the LinearRegression estimator\n",
            "  estimator.fit(X_train, y_train, **fit_params)\n",
            "/usr/local/lib/python3.7/dist-packages/sklearn/linear_model/_coordinate_descent.py:476: UserWarning: Coordinate descent with no regularization may lead to unexpected results and is discouraged.\n",
            "  positive)\n",
            "/usr/local/lib/python3.7/dist-packages/sklearn/linear_model/_coordinate_descent.py:476: ConvergenceWarning: Objective did not converge. You might want to increase the number of iterations. Duality gap: 1465.4791091591774, tolerance: 0.9265250553246753\n",
            "  positive)\n",
            "/usr/local/lib/python3.7/dist-packages/sklearn/model_selection/_validation.py:515: UserWarning: With alpha=0, this algorithm does not converge well. You are advised to use the LinearRegression estimator\n",
            "  estimator.fit(X_train, y_train, **fit_params)\n",
            "/usr/local/lib/python3.7/dist-packages/sklearn/linear_model/_coordinate_descent.py:476: UserWarning: Coordinate descent with no regularization may lead to unexpected results and is discouraged.\n",
            "  positive)\n",
            "/usr/local/lib/python3.7/dist-packages/sklearn/linear_model/_coordinate_descent.py:476: ConvergenceWarning: Objective did not converge. You might want to increase the number of iterations. Duality gap: 1263.8776036789475, tolerance: 0.7460483467532468\n",
            "  positive)\n",
            "/usr/local/lib/python3.7/dist-packages/sklearn/model_selection/_validation.py:515: UserWarning: With alpha=0, this algorithm does not converge well. You are advised to use the LinearRegression estimator\n",
            "  estimator.fit(X_train, y_train, **fit_params)\n",
            "/usr/local/lib/python3.7/dist-packages/sklearn/linear_model/_coordinate_descent.py:476: UserWarning: Coordinate descent with no regularization may lead to unexpected results and is discouraged.\n",
            "  positive)\n",
            "/usr/local/lib/python3.7/dist-packages/sklearn/linear_model/_coordinate_descent.py:476: ConvergenceWarning: Objective did not converge. You might want to increase the number of iterations. Duality gap: 1431.6164613574501, tolerance: 0.703725118181818\n",
            "  positive)\n",
            "/usr/local/lib/python3.7/dist-packages/sklearn/model_selection/_validation.py:515: UserWarning: With alpha=0, this algorithm does not converge well. You are advised to use the LinearRegression estimator\n",
            "  estimator.fit(X_train, y_train, **fit_params)\n",
            "/usr/local/lib/python3.7/dist-packages/sklearn/linear_model/_coordinate_descent.py:476: UserWarning: Coordinate descent with no regularization may lead to unexpected results and is discouraged.\n",
            "  positive)\n",
            "/usr/local/lib/python3.7/dist-packages/sklearn/linear_model/_coordinate_descent.py:476: ConvergenceWarning: Objective did not converge. You might want to increase the number of iterations. Duality gap: 1216.7149847785533, tolerance: 0.8994155545454547\n",
            "  positive)\n",
            "/usr/local/lib/python3.7/dist-packages/sklearn/model_selection/_validation.py:515: UserWarning: With alpha=0, this algorithm does not converge well. You are advised to use the LinearRegression estimator\n",
            "  estimator.fit(X_train, y_train, **fit_params)\n",
            "/usr/local/lib/python3.7/dist-packages/sklearn/linear_model/_coordinate_descent.py:476: UserWarning: Coordinate descent with no regularization may lead to unexpected results and is discouraged.\n",
            "  positive)\n",
            "/usr/local/lib/python3.7/dist-packages/sklearn/linear_model/_coordinate_descent.py:476: ConvergenceWarning: Objective did not converge. You might want to increase the number of iterations. Duality gap: 1515.7232358994615, tolerance: 0.9135966133333335\n",
            "  positive)\n",
            "/usr/local/lib/python3.7/dist-packages/sklearn/model_selection/_validation.py:515: UserWarning: With alpha=0, this algorithm does not converge well. You are advised to use the LinearRegression estimator\n",
            "  estimator.fit(X_train, y_train, **fit_params)\n",
            "/usr/local/lib/python3.7/dist-packages/sklearn/linear_model/_coordinate_descent.py:476: UserWarning: Coordinate descent with no regularization may lead to unexpected results and is discouraged.\n",
            "  positive)\n",
            "/usr/local/lib/python3.7/dist-packages/sklearn/linear_model/_coordinate_descent.py:476: ConvergenceWarning: Objective did not converge. You might want to increase the number of iterations. Duality gap: 1072.3239261456713, tolerance: 0.9287871600000001\n",
            "  positive)\n",
            "/usr/local/lib/python3.7/dist-packages/sklearn/model_selection/_validation.py:515: UserWarning: With alpha=0, this algorithm does not converge well. You are advised to use the LinearRegression estimator\n",
            "  estimator.fit(X_train, y_train, **fit_params)\n",
            "/usr/local/lib/python3.7/dist-packages/sklearn/linear_model/_coordinate_descent.py:476: UserWarning: Coordinate descent with no regularization may lead to unexpected results and is discouraged.\n",
            "  positive)\n",
            "/usr/local/lib/python3.7/dist-packages/sklearn/linear_model/_coordinate_descent.py:476: ConvergenceWarning: Objective did not converge. You might want to increase the number of iterations. Duality gap: 1222.7668857174854, tolerance: 0.923707748846154\n",
            "  positive)\n",
            "/usr/local/lib/python3.7/dist-packages/sklearn/model_selection/_validation.py:515: UserWarning: With alpha=0, this algorithm does not converge well. You are advised to use the LinearRegression estimator\n",
            "  estimator.fit(X_train, y_train, **fit_params)\n",
            "/usr/local/lib/python3.7/dist-packages/sklearn/linear_model/_coordinate_descent.py:476: UserWarning: Coordinate descent with no regularization may lead to unexpected results and is discouraged.\n",
            "  positive)\n",
            "/usr/local/lib/python3.7/dist-packages/sklearn/linear_model/_coordinate_descent.py:476: ConvergenceWarning: Objective did not converge. You might want to increase the number of iterations. Duality gap: 1444.8756292253665, tolerance: 0.9172602621794872\n",
            "  positive)\n"
          ],
          "name": "stderr"
        }
      ]
    },
    {
      "cell_type": "code",
      "metadata": {
        "id": "KANY6gFmosAJ",
        "colab": {
          "base_uri": "https://localhost:8080/"
        },
        "outputId": "79ac8401-3e46-458f-b7d3-86548472281e"
      },
      "source": [
        "print('MSE: %.3f' % math.sqrt(abs(results.best_score_)))  ## mean square error\n",
        "print(' %s' % results.best_params_)   # printing best alpha"
      ],
      "execution_count": 150,
      "outputs": [
        {
          "output_type": "stream",
          "text": [
            "MSE: 10.781\n",
            " {'alpha': 0.27}\n"
          ],
          "name": "stdout"
        }
      ]
    },
    {
      "cell_type": "code",
      "metadata": {
        "id": "YTvr2kOKn7IE"
      },
      "source": [
        "lasso_model= Lasso(alpha=0.85)\n",
        "lasso_model.fit(X_train,y_train)\n",
        "y_predtrain= lasso_model.predict(X_train)\n",
        "\n"
      ],
      "execution_count": 151,
      "outputs": []
    },
    {
      "cell_type": "code",
      "metadata": {
        "id": "jY7U_GuKyM4F"
      },
      "source": [
        "y_predtest= ridge_model.predict(X_test)\n"
      ],
      "execution_count": 152,
      "outputs": []
    },
    {
      "cell_type": "markdown",
      "metadata": {
        "id": "lPfccdiCIPPr"
      },
      "source": [
        "Evaluating model performance"
      ]
    },
    {
      "cell_type": "code",
      "metadata": {
        "colab": {
          "base_uri": "https://localhost:8080/"
        },
        "id": "qV45jwsClHEm",
        "outputId": "4ce768f5-1fbc-4157-873c-4d7a618d3e52"
      },
      "source": [
        "eval_result(y_train,y_predtrain,y_test,y_predtest)"
      ],
      "execution_count": 153,
      "outputs": [
        {
          "output_type": "stream",
          "text": [
            "RMSE Train error is 7.5031296316378\n",
            "RMSE Test error is 10.609737930184194\n",
            "MAE Train error is 5.016039112988394\n",
            "MAE Test error is 7.656352179188264\n",
            "Root relative squared Train error is 2.4614044126667927\n",
            "Root relative squared Test error is 0.9811007246113815\n",
            "         Pred  Actual  Percentage error\n",
            "0    3.669189    5.35         31.417022\n",
            "1    5.634262    9.00         37.397090\n",
            "2   32.671146   57.08         42.762533\n",
            "3    2.694515    3.90         30.909879\n",
            "4    4.941280    5.35          7.639617\n",
            "5    9.347642   12.39         24.554944\n",
            "6    6.575765   12.25         46.320286\n",
            "7    5.711736   12.39         53.900439\n",
            "8    8.730691    5.97        -46.242725\n",
            "9    3.792903    0.73       -419.575692\n",
            "10  42.048898   58.00         27.501900\n",
            "11  11.991540    3.81       -214.738575\n",
            "12   5.786730   12.25         52.761387\n",
            "13   6.081004    5.35        -13.663630\n",
            "14   7.992382   12.39         35.493283\n",
            "15  16.084123   21.29         24.452215\n",
            "16  43.117037   55.20         21.889426\n",
            "17  27.842136   48.52         42.617198\n",
            "18 -23.300490    0.98       2477.600992\n",
            "19  -0.285994    0.22        229.997449\n",
            "20   0.983298    5.81         83.075763\n",
            "21   8.442733   21.29         60.344139\n"
          ],
          "name": "stdout"
        }
      ]
    },
    {
      "cell_type": "code",
      "metadata": {
        "colab": {
          "base_uri": "https://localhost:8080/"
        },
        "id": "AnoDzawYhwu7",
        "outputId": "52bfb7b0-82a4-4fda-9dd4-939a245c342d"
      },
      "source": [
        "# get importance\n",
        "importance_lasso = lasso_model.coef_\n",
        "print(lasso_model.coef_,X.columns)\n",
        "coef_dict = dict(zip(X.columns,importance_lasso))\n"
      ],
      "execution_count": 154,
      "outputs": [
        {
          "output_type": "stream",
          "text": [
            "[-0.         -0.08038832  0.          0.26618778 -0.05461762  0.44302652\n",
            "  0.14514442 -0.04422754 -0.15287089  2.86918989  3.3402386  -0.08740297\n",
            "  0.00931674 -0.02241829  0.         -0.37393058  0.01869637 -0.\n",
            "  0.         -0.05405287  0.00794912 -0.96246066] Index(['Exit Type', 'Last VC Deal Type', 'Industry Sector', 'Industry Group',\n",
            "       'Industry Code', 'Verticals_x', 'City', 'State', 'Country',\n",
            "       'Current Financing Status', 'Current Business Status', 'Universe',\n",
            "       'CEO Education', 'Raised to Date', 'VC Round', 'Deal Type',\n",
            "       'Total Invested Equity', 'Business Status', 'Financing Status',\n",
            "       '# Investors', 'Current Employees', 'Total duration for Company'],\n",
            "      dtype='object')\n"
          ],
          "name": "stdout"
        }
      ]
    },
    {
      "cell_type": "code",
      "metadata": {
        "id": "QTyxYjFP5WW-",
        "colab": {
          "base_uri": "https://localhost:8080/"
        },
        "outputId": "4a2548ea-6fec-4ff6-9a00-9c6547393b69"
      },
      "source": [
        "# Read out attributes\n",
        "coeffs = lasso_model.coef_         # dense np.array\n",
        "\n",
        "coeffs\n",
        "\n"
      ],
      "execution_count": 155,
      "outputs": [
        {
          "output_type": "execute_result",
          "data": {
            "text/plain": [
              "array([-0.        , -0.08038832,  0.        ,  0.26618778, -0.05461762,\n",
              "        0.44302652,  0.14514442, -0.04422754, -0.15287089,  2.86918989,\n",
              "        3.3402386 , -0.08740297,  0.00931674, -0.02241829,  0.        ,\n",
              "       -0.37393058,  0.01869637, -0.        ,  0.        , -0.05405287,\n",
              "        0.00794912, -0.96246066])"
            ]
          },
          "metadata": {
            "tags": []
          },
          "execution_count": 155
        }
      ]
    },
    {
      "cell_type": "markdown",
      "metadata": {
        "id": "Ql9dnWmVzdFq"
      },
      "source": [
        "### XGBOOST"
      ]
    },
    {
      "cell_type": "code",
      "metadata": {
        "id": "8cACT8Z-zjv0",
        "colab": {
          "base_uri": "https://localhost:8080/"
        },
        "outputId": "6075e15a-f605-4996-9283-2cb24ff7919a"
      },
      "source": [
        "# Train and test set are converted to DMatrix objects, \n",
        "# as it is required by learning API. \n",
        "import xgboost as xg \n",
        "\n",
        "\n",
        "train_dmatrix = xg.DMatrix(data = X_train, label = y_train) \n",
        "test_dmatrix = xg.DMatrix(data = X_test, label = y_test) \n",
        "  \n",
        "# Parameter dictionary specifying base learner \n",
        "param = {\"booster\":\"gblinear\", \"objective\":\"reg:linear\"} \n",
        "  \n",
        "xgb_r = xg.train(params = param, dtrain = train_dmatrix, num_boost_round = 10) \n",
        "\n",
        "  \n"
      ],
      "execution_count": 156,
      "outputs": [
        {
          "output_type": "stream",
          "text": [
            "[22:42:28] WARNING: /workspace/src/objective/regression_obj.cu:152: reg:linear is now deprecated in favor of reg:squarederror.\n"
          ],
          "name": "stdout"
        }
      ]
    },
    {
      "cell_type": "markdown",
      "metadata": {
        "id": "YCmYaM8qIgKd"
      },
      "source": [
        "Predicting results"
      ]
    },
    {
      "cell_type": "code",
      "metadata": {
        "id": "0FYcZNinIdaW"
      },
      "source": [
        "y_trainpredxg =xgb_r.predict(train_dmatrix)\n",
        "y_testpredxg = xgb_r.predict(test_dmatrix) "
      ],
      "execution_count": 157,
      "outputs": []
    },
    {
      "cell_type": "markdown",
      "metadata": {
        "id": "VLTHM9VQEbjb"
      },
      "source": [
        "Model Performance evaluation"
      ]
    },
    {
      "cell_type": "code",
      "metadata": {
        "id": "MrQyd_UcY6H6",
        "colab": {
          "base_uri": "https://localhost:8080/"
        },
        "outputId": "a948e280-cd69-4e72-cba0-eab075e369d8"
      },
      "source": [
        " eval_result(y_train,y_trainpredxg,y_test,y_testpredxg)"
      ],
      "execution_count": 158,
      "outputs": [
        {
          "output_type": "stream",
          "text": [
            "RMSE Train error is 7.553253281051861\n",
            "RMSE Test error is 14.711987710549167\n",
            "MAE Train error is 5.186843380151792\n",
            "MAE Test error is 9.874873711846094\n",
            "Root relative squared Train error is 2.3427706628523635\n",
            "Root relative squared Test error is 1.1290507395647602\n",
            "         Pred  Actual  Percentage error\n",
            "0    8.898358    5.35        -66.324455\n",
            "1   10.122075    9.00        -12.467501\n",
            "2   20.614931   57.08         63.884143\n",
            "3    9.925313    3.90       -154.495205\n",
            "4   10.250520    5.35        -91.598500\n",
            "5   10.552664   12.39         14.829186\n",
            "6    6.636818   12.25         45.821891\n",
            "7   10.887972   12.39         12.122907\n",
            "8    7.278643    5.97        -21.920320\n",
            "9    4.594547    0.73       -529.389972\n",
            "10  25.401688   58.00         56.203987\n",
            "11   7.770400    3.81       -103.947495\n",
            "12   6.727182   12.25         45.084229\n",
            "13  11.476792    5.35       -114.519483\n",
            "14   8.042591   12.39         35.088046\n",
            "15  12.595251   21.29         40.839591\n",
            "16  33.733719   55.20         38.888190\n",
            "17  15.386048   48.52         68.289266\n",
            "18  14.587115    0.98      -1388.481152\n",
            "19   2.069908    0.22       -840.867337\n",
            "20   3.708498    5.81         36.170430\n",
            "21   3.639088   21.29         82.907056\n"
          ],
          "name": "stdout"
        }
      ]
    },
    {
      "cell_type": "code",
      "metadata": {
        "colab": {
          "base_uri": "https://localhost:8080/"
        },
        "id": "-nNwUtid1t20",
        "outputId": "23aef847-9533-4178-b8b1-758de7a99596"
      },
      "source": [
        "y_trainpredxg.reshape(86,1)\n",
        "y_testpredxg.reshape(22,1)"
      ],
      "execution_count": 159,
      "outputs": [
        {
          "output_type": "execute_result",
          "data": {
            "text/plain": [
              "array([[ 8.898358 ],\n",
              "       [10.122075 ],\n",
              "       [20.614931 ],\n",
              "       [ 9.925313 ],\n",
              "       [10.25052  ],\n",
              "       [10.552664 ],\n",
              "       [ 6.6368184],\n",
              "       [10.887972 ],\n",
              "       [ 7.278643 ],\n",
              "       [ 4.594547 ],\n",
              "       [25.401688 ],\n",
              "       [ 7.7703996],\n",
              "       [ 6.727182 ],\n",
              "       [11.476792 ],\n",
              "       [ 8.042591 ],\n",
              "       [12.595251 ],\n",
              "       [33.73372  ],\n",
              "       [15.386048 ],\n",
              "       [14.587115 ],\n",
              "       [ 2.0699081],\n",
              "       [ 3.708498 ],\n",
              "       [ 3.6390877]], dtype=float32)"
            ]
          },
          "metadata": {
            "tags": []
          },
          "execution_count": 159
        }
      ]
    }
  ]
}
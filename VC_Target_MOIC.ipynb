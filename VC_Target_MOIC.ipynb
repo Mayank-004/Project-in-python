{
  "nbformat": 4,
  "nbformat_minor": 0,
  "metadata": {
    "colab": {
      "name": "VC_Target_MOIC.ipynb",
      "provenance": [],
      "collapsed_sections": [],
      "include_colab_link": true
    },
    "kernelspec": {
      "name": "python3",
      "display_name": "Python 3"
    }
  },
  "cells": [
    {
      "cell_type": "markdown",
      "metadata": {
        "id": "view-in-github",
        "colab_type": "text"
      },
      "source": [
        "<a href=\"https://colab.research.google.com/github/Mayank-004/VC-Industry-Predictive-analysis/blob/main/VC_Target_MOIC.ipynb\" target=\"_parent\"><img src=\"https://colab.research.google.com/assets/colab-badge.svg\" alt=\"Open In Colab\"/></a>"
      ]
    },
    {
      "cell_type": "markdown",
      "metadata": {
        "id": "37puETfgRzzg"
      },
      "source": [
        "# Data Preprocessing \n",
        "\n",
        "\n"
      ]
    },
    {
      "cell_type": "markdown",
      "metadata": {
        "id": "EoRP98MpR-qj"
      },
      "source": [
        "## Importing the libraries"
      ]
    },
    {
      "cell_type": "code",
      "metadata": {
        "id": "N-qiINBQSK2g"
      },
      "source": [
        "import random\n",
        "\n",
        "import numpy as np\n",
        "import matplotlib.pyplot as plt\n",
        "import pandas as pd\n",
        "import seaborn as sn\n",
        "from sklearn.preprocessing import LabelEncoder\n",
        "random.seed(786)\n"
      ],
      "execution_count": 474,
      "outputs": []
    },
    {
      "cell_type": "markdown",
      "metadata": {
        "id": "RopL7tUZSQkT"
      },
      "source": [
        "## Importing the dataset\n",
        "\n",
        "\n",
        "\n",
        "\n",
        "\n"
      ]
    },
    {
      "cell_type": "code",
      "metadata": {
        "id": "SKDP3vj9coit",
        "colab": {
          "base_uri": "https://localhost:8080/",
          "height": 381
        },
        "outputId": "ed5ced20-a55d-47b5-8c30-38a409312711"
      },
      "source": [
        "url1 = 'https://raw.githubusercontent.com/Mayank-004/Project-in-python/main/VC_Exits.csv'\n",
        "dataset1 = pd.read_csv(url1, error_bad_lines=False)\n",
        "\n",
        "#url2 = 'https://raw.githubusercontent.com/Mayank-004/Project-in-python/main/VCExit2.csv'\n",
        "#dataset2 = pd.read_csv(url2, error_bad_lines=False)\n",
        "\n",
        "url3 = 'https://raw.githubusercontent.com/Mayank-004/Project-in-python/main/VCData2.csv'\n",
        "dataset3 = pd.read_csv(url3, error_bad_lines=False)\n",
        "\n",
        "dataset = pd.merge(dataset1,dataset3,left_on=[\"Company PBID\"],right_on=[\"Company ID\"])\n",
        "\n",
        "\n",
        "\n",
        "dataset.head(2)\n"
      ],
      "execution_count": 475,
      "outputs": [
        {
          "output_type": "execute_result",
          "data": {
            "text/html": [
              "<div>\n",
              "<style scoped>\n",
              "    .dataframe tbody tr th:only-of-type {\n",
              "        vertical-align: middle;\n",
              "    }\n",
              "\n",
              "    .dataframe tbody tr th {\n",
              "        vertical-align: top;\n",
              "    }\n",
              "\n",
              "    .dataframe thead th {\n",
              "        text-align: right;\n",
              "    }\n",
              "</style>\n",
              "<table border=\"1\" class=\"dataframe\">\n",
              "  <thead>\n",
              "    <tr style=\"text-align: right;\">\n",
              "      <th></th>\n",
              "      <th>Company PBID</th>\n",
              "      <th>Exit Date</th>\n",
              "      <th>Exit Size (millions)</th>\n",
              "      <th>Pre Value (millions)</th>\n",
              "      <th>Post Value (millions)</th>\n",
              "      <th>Exit Type</th>\n",
              "      <th>Last VC Deal Type</th>\n",
              "      <th>Total VC Capital Raised ($M)***</th>\n",
              "      <th>Total Preferred Capital Raised ($M)*</th>\n",
              "      <th>% Preferred Capital Raised*</th>\n",
              "      <th>Total Preferred Capital Raised ($M) - Combination**</th>\n",
              "      <th>% Preferred Capital Raised - Combination**</th>\n",
              "      <th>MOIC</th>\n",
              "      <th>Industry Sector</th>\n",
              "      <th>Industry Group</th>\n",
              "      <th>Industry Code</th>\n",
              "      <th>Verticals_x</th>\n",
              "      <th>City</th>\n",
              "      <th>State</th>\n",
              "      <th>Country</th>\n",
              "      <th>Deal ID</th>\n",
              "      <th>Company ID</th>\n",
              "      <th>Primary Industry Sector</th>\n",
              "      <th>Primary Industry Group</th>\n",
              "      <th>Primary Industry Code</th>\n",
              "      <th>All Industries</th>\n",
              "      <th>Verticals_y</th>\n",
              "      <th>Keywords</th>\n",
              "      <th>Current Financing Status</th>\n",
              "      <th>Current Business Status</th>\n",
              "      <th>Universe</th>\n",
              "      <th>CEO PBId</th>\n",
              "      <th>CEO Education</th>\n",
              "      <th>Deal No.</th>\n",
              "      <th>Deal ID.1</th>\n",
              "      <th>Announced Date</th>\n",
              "      <th>Deal Date</th>\n",
              "      <th>Deal Size</th>\n",
              "      <th>Deal Size Status</th>\n",
              "      <th>Pre-money Valuation</th>\n",
              "      <th>...</th>\n",
              "      <th># Investors</th>\n",
              "      <th># New Investors</th>\n",
              "      <th># Follow-on Investors</th>\n",
              "      <th>Implied EV</th>\n",
              "      <th>Revenue</th>\n",
              "      <th>Revenue Growth since last debt deal</th>\n",
              "      <th>Gross Profit</th>\n",
              "      <th>Net Income</th>\n",
              "      <th>EBITDA</th>\n",
              "      <th>EBIT</th>\n",
              "      <th>Total Debt (from financials)</th>\n",
              "      <th>Fiscal Year</th>\n",
              "      <th>Valuation/EBITDA</th>\n",
              "      <th>Valuation/EBIT</th>\n",
              "      <th>Valuation/Net Income</th>\n",
              "      <th>Valuation/Revenue</th>\n",
              "      <th>Valuation/Cash Flow</th>\n",
              "      <th>Deal Size/EBITDA</th>\n",
              "      <th>Deal Size/EBIT</th>\n",
              "      <th>Deal Size/Net Income</th>\n",
              "      <th>Deal Size/Revenue</th>\n",
              "      <th>Deal Size/Cash Flow</th>\n",
              "      <th>Debt/EBITDA</th>\n",
              "      <th>Debt/Equity</th>\n",
              "      <th>Implied EV/EBITDA</th>\n",
              "      <th>Implied EV/EBIT</th>\n",
              "      <th>Implied EV/Net Income</th>\n",
              "      <th>Implied EV/Revenue</th>\n",
              "      <th>Implied EV/Cash Flow</th>\n",
              "      <th>EBITDA Margin %</th>\n",
              "      <th>Current Employees</th>\n",
              "      <th>Native Currency of Deal</th>\n",
              "      <th>HQ Location</th>\n",
              "      <th>HQ Global Region</th>\n",
              "      <th>HQ Global Sub Region</th>\n",
              "      <th>Company City</th>\n",
              "      <th>Company State/Province</th>\n",
              "      <th>Company Post Code</th>\n",
              "      <th>Company Country</th>\n",
              "      <th>Year Founded</th>\n",
              "    </tr>\n",
              "  </thead>\n",
              "  <tbody>\n",
              "    <tr>\n",
              "      <th>0</th>\n",
              "      <td>155748-70</td>\n",
              "      <td>11/15/17</td>\n",
              "      <td>NaN</td>\n",
              "      <td>NaN</td>\n",
              "      <td>NaN</td>\n",
              "      <td>Merger/Acquisition</td>\n",
              "      <td>Early Stage VC</td>\n",
              "      <td>NaN</td>\n",
              "      <td>NaN</td>\n",
              "      <td>NaN</td>\n",
              "      <td>NaN</td>\n",
              "      <td>NaN</td>\n",
              "      <td>NaN</td>\n",
              "      <td>Information Technology</td>\n",
              "      <td>Software</td>\n",
              "      <td>Other Software</td>\n",
              "      <td>3D Printing, TMT, CloudTech &amp; DevOps</td>\n",
              "      <td>Park City</td>\n",
              "      <td>Utah</td>\n",
              "      <td>United States</td>\n",
              "      <td>67911-49T</td>\n",
              "      <td>155748-70</td>\n",
              "      <td>Information Technology</td>\n",
              "      <td>Software</td>\n",
              "      <td>Other Software</td>\n",
              "      <td>Business/Productivity Software, Other Software*</td>\n",
              "      <td>3D Printing, CloudTech &amp; DevOps, TMT</td>\n",
              "      <td>additives manufacturing software, additives pr...</td>\n",
              "      <td>Formerly VC-backed</td>\n",
              "      <td>Generating Revenue</td>\n",
              "      <td>Venture Capital</td>\n",
              "      <td>131029-48P</td>\n",
              "      <td>Texas A&amp;M University, Ph.D. (Doctor of Philoso...</td>\n",
              "      <td>1</td>\n",
              "      <td>67911-49T</td>\n",
              "      <td>NaN</td>\n",
              "      <td>01-Jan-2015</td>\n",
              "      <td>0.33</td>\n",
              "      <td>Actual</td>\n",
              "      <td>NaN</td>\n",
              "      <td>...</td>\n",
              "      <td>3.0</td>\n",
              "      <td>3.0</td>\n",
              "      <td>NaN</td>\n",
              "      <td>NaN</td>\n",
              "      <td>NaN</td>\n",
              "      <td>NaN</td>\n",
              "      <td>NaN</td>\n",
              "      <td>NaN</td>\n",
              "      <td>NaN</td>\n",
              "      <td>NaN</td>\n",
              "      <td>NaN</td>\n",
              "      <td>NaN</td>\n",
              "      <td>NaN</td>\n",
              "      <td>NaN</td>\n",
              "      <td>NaN</td>\n",
              "      <td>NaN</td>\n",
              "      <td>NaN</td>\n",
              "      <td>NaN</td>\n",
              "      <td>NaN</td>\n",
              "      <td>NaN</td>\n",
              "      <td>NaN</td>\n",
              "      <td>NaN</td>\n",
              "      <td>NaN</td>\n",
              "      <td>NaN</td>\n",
              "      <td>NaN</td>\n",
              "      <td>NaN</td>\n",
              "      <td>NaN</td>\n",
              "      <td>NaN</td>\n",
              "      <td>NaN</td>\n",
              "      <td>NaN</td>\n",
              "      <td>14</td>\n",
              "      <td>US Dollars (USD)</td>\n",
              "      <td>Park City, UT</td>\n",
              "      <td>Americas</td>\n",
              "      <td>North America</td>\n",
              "      <td>Park City</td>\n",
              "      <td>Utah</td>\n",
              "      <td>84098</td>\n",
              "      <td>United States</td>\n",
              "      <td>2014.0</td>\n",
              "    </tr>\n",
              "    <tr>\n",
              "      <th>1</th>\n",
              "      <td>155748-70</td>\n",
              "      <td>11/15/17</td>\n",
              "      <td>NaN</td>\n",
              "      <td>NaN</td>\n",
              "      <td>NaN</td>\n",
              "      <td>Merger/Acquisition</td>\n",
              "      <td>Early Stage VC</td>\n",
              "      <td>NaN</td>\n",
              "      <td>NaN</td>\n",
              "      <td>NaN</td>\n",
              "      <td>NaN</td>\n",
              "      <td>NaN</td>\n",
              "      <td>NaN</td>\n",
              "      <td>Information Technology</td>\n",
              "      <td>Software</td>\n",
              "      <td>Other Software</td>\n",
              "      <td>3D Printing, TMT, CloudTech &amp; DevOps</td>\n",
              "      <td>Park City</td>\n",
              "      <td>Utah</td>\n",
              "      <td>United States</td>\n",
              "      <td>122433-04T</td>\n",
              "      <td>155748-70</td>\n",
              "      <td>Information Technology</td>\n",
              "      <td>Software</td>\n",
              "      <td>Other Software</td>\n",
              "      <td>Business/Productivity Software, Other Software*</td>\n",
              "      <td>3D Printing, CloudTech &amp; DevOps, TMT</td>\n",
              "      <td>additives manufacturing software, additives pr...</td>\n",
              "      <td>Formerly VC-backed</td>\n",
              "      <td>Generating Revenue</td>\n",
              "      <td>Venture Capital</td>\n",
              "      <td>131029-48P</td>\n",
              "      <td>Texas A&amp;M University, Ph.D. (Doctor of Philoso...</td>\n",
              "      <td>2</td>\n",
              "      <td>122433-04T</td>\n",
              "      <td>NaN</td>\n",
              "      <td>26-May-2015</td>\n",
              "      <td>NaN</td>\n",
              "      <td>NaN</td>\n",
              "      <td>NaN</td>\n",
              "      <td>...</td>\n",
              "      <td>1.0</td>\n",
              "      <td>1.0</td>\n",
              "      <td>NaN</td>\n",
              "      <td>NaN</td>\n",
              "      <td>NaN</td>\n",
              "      <td>NaN</td>\n",
              "      <td>NaN</td>\n",
              "      <td>NaN</td>\n",
              "      <td>NaN</td>\n",
              "      <td>NaN</td>\n",
              "      <td>NaN</td>\n",
              "      <td>NaN</td>\n",
              "      <td>NaN</td>\n",
              "      <td>NaN</td>\n",
              "      <td>NaN</td>\n",
              "      <td>NaN</td>\n",
              "      <td>NaN</td>\n",
              "      <td>NaN</td>\n",
              "      <td>NaN</td>\n",
              "      <td>NaN</td>\n",
              "      <td>NaN</td>\n",
              "      <td>NaN</td>\n",
              "      <td>NaN</td>\n",
              "      <td>NaN</td>\n",
              "      <td>NaN</td>\n",
              "      <td>NaN</td>\n",
              "      <td>NaN</td>\n",
              "      <td>NaN</td>\n",
              "      <td>NaN</td>\n",
              "      <td>NaN</td>\n",
              "      <td>14</td>\n",
              "      <td>US Dollars (USD)</td>\n",
              "      <td>Park City, UT</td>\n",
              "      <td>Americas</td>\n",
              "      <td>North America</td>\n",
              "      <td>Park City</td>\n",
              "      <td>Utah</td>\n",
              "      <td>84098</td>\n",
              "      <td>United States</td>\n",
              "      <td>2014.0</td>\n",
              "    </tr>\n",
              "  </tbody>\n",
              "</table>\n",
              "<p>2 rows × 105 columns</p>\n",
              "</div>"
            ],
            "text/plain": [
              "  Company PBID Exit Date  ... Company Country Year Founded\n",
              "0    155748-70  11/15/17  ...   United States       2014.0\n",
              "1    155748-70  11/15/17  ...   United States       2014.0\n",
              "\n",
              "[2 rows x 105 columns]"
            ]
          },
          "metadata": {
            "tags": []
          },
          "execution_count": 475
        }
      ]
    },
    {
      "cell_type": "code",
      "metadata": {
        "id": "6_X4UcdfdL78",
        "colab": {
          "base_uri": "https://localhost:8080/",
          "height": 351
        },
        "outputId": "5510a20d-b792-4221-fdd5-13a9652e3357"
      },
      "source": [
        "dataset.describe()"
      ],
      "execution_count": 476,
      "outputs": [
        {
          "output_type": "execute_result",
          "data": {
            "text/html": [
              "<div>\n",
              "<style scoped>\n",
              "    .dataframe tbody tr th:only-of-type {\n",
              "        vertical-align: middle;\n",
              "    }\n",
              "\n",
              "    .dataframe tbody tr th {\n",
              "        vertical-align: top;\n",
              "    }\n",
              "\n",
              "    .dataframe thead th {\n",
              "        text-align: right;\n",
              "    }\n",
              "</style>\n",
              "<table border=\"1\" class=\"dataframe\">\n",
              "  <thead>\n",
              "    <tr style=\"text-align: right;\">\n",
              "      <th></th>\n",
              "      <th>Deal No.</th>\n",
              "      <th>Deal Size</th>\n",
              "      <th>Total Invested Equity</th>\n",
              "      <th>Debt Type 3</th>\n",
              "      <th>Debt Amount 1</th>\n",
              "      <th>Debt Amount 2</th>\n",
              "      <th>Debt Amount 3</th>\n",
              "      <th>Debt Raised in Round</th>\n",
              "      <th>Contingent Payout</th>\n",
              "      <th># Investors</th>\n",
              "      <th># New Investors</th>\n",
              "      <th># Follow-on Investors</th>\n",
              "      <th>Implied EV</th>\n",
              "      <th>Revenue</th>\n",
              "      <th>Total Debt (from financials)</th>\n",
              "      <th>Fiscal Year</th>\n",
              "      <th>Implied EV/EBITDA</th>\n",
              "      <th>Implied EV/EBIT</th>\n",
              "      <th>Implied EV/Net Income</th>\n",
              "      <th>Implied EV/Revenue</th>\n",
              "      <th>Implied EV/Cash Flow</th>\n",
              "      <th>Year Founded</th>\n",
              "    </tr>\n",
              "  </thead>\n",
              "  <tbody>\n",
              "    <tr>\n",
              "      <th>count</th>\n",
              "      <td>305.000000</td>\n",
              "      <td>244.000000</td>\n",
              "      <td>229.000000</td>\n",
              "      <td>0.0</td>\n",
              "      <td>12.000000</td>\n",
              "      <td>1.0</td>\n",
              "      <td>0.0</td>\n",
              "      <td>12.000000</td>\n",
              "      <td>0.0</td>\n",
              "      <td>267.000000</td>\n",
              "      <td>246.000000</td>\n",
              "      <td>140.000000</td>\n",
              "      <td>0.0</td>\n",
              "      <td>81.000000</td>\n",
              "      <td>37.000000</td>\n",
              "      <td>91.000000</td>\n",
              "      <td>0.0</td>\n",
              "      <td>0.0</td>\n",
              "      <td>0.0</td>\n",
              "      <td>0.0</td>\n",
              "      <td>0.0</td>\n",
              "      <td>300.000000</td>\n",
              "    </tr>\n",
              "    <tr>\n",
              "      <th>mean</th>\n",
              "      <td>4.072131</td>\n",
              "      <td>38.641844</td>\n",
              "      <td>39.056201</td>\n",
              "      <td>NaN</td>\n",
              "      <td>23.090833</td>\n",
              "      <td>5.0</td>\n",
              "      <td>NaN</td>\n",
              "      <td>23.507500</td>\n",
              "      <td>NaN</td>\n",
              "      <td>3.883895</td>\n",
              "      <td>2.605691</td>\n",
              "      <td>2.792857</td>\n",
              "      <td>NaN</td>\n",
              "      <td>98.809877</td>\n",
              "      <td>22.639730</td>\n",
              "      <td>2016.274725</td>\n",
              "      <td>NaN</td>\n",
              "      <td>NaN</td>\n",
              "      <td>NaN</td>\n",
              "      <td>NaN</td>\n",
              "      <td>NaN</td>\n",
              "      <td>2011.023333</td>\n",
              "    </tr>\n",
              "    <tr>\n",
              "      <th>std</th>\n",
              "      <td>2.399570</td>\n",
              "      <td>84.661816</td>\n",
              "      <td>83.502049</td>\n",
              "      <td>NaN</td>\n",
              "      <td>57.814106</td>\n",
              "      <td>NaN</td>\n",
              "      <td>NaN</td>\n",
              "      <td>57.666114</td>\n",
              "      <td>NaN</td>\n",
              "      <td>3.423383</td>\n",
              "      <td>2.421630</td>\n",
              "      <td>1.867929</td>\n",
              "      <td>NaN</td>\n",
              "      <td>161.597687</td>\n",
              "      <td>64.688232</td>\n",
              "      <td>1.686982</td>\n",
              "      <td>NaN</td>\n",
              "      <td>NaN</td>\n",
              "      <td>NaN</td>\n",
              "      <td>NaN</td>\n",
              "      <td>NaN</td>\n",
              "      <td>3.928643</td>\n",
              "    </tr>\n",
              "    <tr>\n",
              "      <th>min</th>\n",
              "      <td>1.000000</td>\n",
              "      <td>0.030000</td>\n",
              "      <td>0.020000</td>\n",
              "      <td>NaN</td>\n",
              "      <td>0.040000</td>\n",
              "      <td>5.0</td>\n",
              "      <td>NaN</td>\n",
              "      <td>0.040000</td>\n",
              "      <td>NaN</td>\n",
              "      <td>1.000000</td>\n",
              "      <td>1.000000</td>\n",
              "      <td>1.000000</td>\n",
              "      <td>NaN</td>\n",
              "      <td>0.020000</td>\n",
              "      <td>0.000000</td>\n",
              "      <td>2014.000000</td>\n",
              "      <td>NaN</td>\n",
              "      <td>NaN</td>\n",
              "      <td>NaN</td>\n",
              "      <td>NaN</td>\n",
              "      <td>NaN</td>\n",
              "      <td>1997.000000</td>\n",
              "    </tr>\n",
              "    <tr>\n",
              "      <th>25%</th>\n",
              "      <td>2.000000</td>\n",
              "      <td>2.000000</td>\n",
              "      <td>2.500000</td>\n",
              "      <td>NaN</td>\n",
              "      <td>0.212500</td>\n",
              "      <td>5.0</td>\n",
              "      <td>NaN</td>\n",
              "      <td>0.212500</td>\n",
              "      <td>NaN</td>\n",
              "      <td>1.000000</td>\n",
              "      <td>1.000000</td>\n",
              "      <td>1.000000</td>\n",
              "      <td>NaN</td>\n",
              "      <td>6.730000</td>\n",
              "      <td>0.000000</td>\n",
              "      <td>2015.000000</td>\n",
              "      <td>NaN</td>\n",
              "      <td>NaN</td>\n",
              "      <td>NaN</td>\n",
              "      <td>NaN</td>\n",
              "      <td>NaN</td>\n",
              "      <td>2009.000000</td>\n",
              "    </tr>\n",
              "    <tr>\n",
              "      <th>50%</th>\n",
              "      <td>4.000000</td>\n",
              "      <td>8.400000</td>\n",
              "      <td>10.000000</td>\n",
              "      <td>NaN</td>\n",
              "      <td>1.500000</td>\n",
              "      <td>5.0</td>\n",
              "      <td>NaN</td>\n",
              "      <td>2.090000</td>\n",
              "      <td>NaN</td>\n",
              "      <td>3.000000</td>\n",
              "      <td>2.000000</td>\n",
              "      <td>2.000000</td>\n",
              "      <td>NaN</td>\n",
              "      <td>32.460000</td>\n",
              "      <td>0.000000</td>\n",
              "      <td>2016.000000</td>\n",
              "      <td>NaN</td>\n",
              "      <td>NaN</td>\n",
              "      <td>NaN</td>\n",
              "      <td>NaN</td>\n",
              "      <td>NaN</td>\n",
              "      <td>2012.000000</td>\n",
              "    </tr>\n",
              "    <tr>\n",
              "      <th>75%</th>\n",
              "      <td>5.000000</td>\n",
              "      <td>30.775000</td>\n",
              "      <td>31.000000</td>\n",
              "      <td>NaN</td>\n",
              "      <td>6.250000</td>\n",
              "      <td>5.0</td>\n",
              "      <td>NaN</td>\n",
              "      <td>7.750000</td>\n",
              "      <td>NaN</td>\n",
              "      <td>5.000000</td>\n",
              "      <td>3.000000</td>\n",
              "      <td>4.000000</td>\n",
              "      <td>NaN</td>\n",
              "      <td>100.000000</td>\n",
              "      <td>5.020000</td>\n",
              "      <td>2018.000000</td>\n",
              "      <td>NaN</td>\n",
              "      <td>NaN</td>\n",
              "      <td>NaN</td>\n",
              "      <td>NaN</td>\n",
              "      <td>NaN</td>\n",
              "      <td>2014.000000</td>\n",
              "    </tr>\n",
              "    <tr>\n",
              "      <th>max</th>\n",
              "      <td>14.000000</td>\n",
              "      <td>720.000000</td>\n",
              "      <td>720.000000</td>\n",
              "      <td>NaN</td>\n",
              "      <td>200.000000</td>\n",
              "      <td>5.0</td>\n",
              "      <td>NaN</td>\n",
              "      <td>200.000000</td>\n",
              "      <td>NaN</td>\n",
              "      <td>22.000000</td>\n",
              "      <td>16.000000</td>\n",
              "      <td>8.000000</td>\n",
              "      <td>NaN</td>\n",
              "      <td>844.800000</td>\n",
              "      <td>257.200000</td>\n",
              "      <td>2021.000000</td>\n",
              "      <td>NaN</td>\n",
              "      <td>NaN</td>\n",
              "      <td>NaN</td>\n",
              "      <td>NaN</td>\n",
              "      <td>NaN</td>\n",
              "      <td>2017.000000</td>\n",
              "    </tr>\n",
              "  </tbody>\n",
              "</table>\n",
              "</div>"
            ],
            "text/plain": [
              "         Deal No.   Deal Size  ...  Implied EV/Cash Flow  Year Founded\n",
              "count  305.000000  244.000000  ...                   0.0    300.000000\n",
              "mean     4.072131   38.641844  ...                   NaN   2011.023333\n",
              "std      2.399570   84.661816  ...                   NaN      3.928643\n",
              "min      1.000000    0.030000  ...                   NaN   1997.000000\n",
              "25%      2.000000    2.000000  ...                   NaN   2009.000000\n",
              "50%      4.000000    8.400000  ...                   NaN   2012.000000\n",
              "75%      5.000000   30.775000  ...                   NaN   2014.000000\n",
              "max     14.000000  720.000000  ...                   NaN   2017.000000\n",
              "\n",
              "[8 rows x 22 columns]"
            ]
          },
          "metadata": {
            "tags": []
          },
          "execution_count": 476
        }
      ]
    },
    {
      "cell_type": "markdown",
      "metadata": {
        "id": "V3cbGg6jVn0r"
      },
      "source": [
        "Filling missing values of Target column MOIC"
      ]
    },
    {
      "cell_type": "code",
      "metadata": {
        "id": "3ZykrI2YVmQD"
      },
      "source": [
        "# target column MOIC is derived by Exit Size divided by Total VC capital raised\n",
        "dataset['Total VC Capital Raised ($M)***']= dataset['Total VC Capital Raised ($M)***'].str.replace(\"$\",\"\") # removing $ from Total VC capital\n",
        "dataset['Total VC Capital Raised ($M)***']= dataset['Total VC Capital Raised ($M)***'].str.replace(\",\",\"\") # removing \",\" from Total VC capital\n",
        "dataset.loc[:,'Total VC Capital Raised ($M)***'] = dataset.loc[:,'Total VC Capital Raised ($M)***'].astype(float) # converting Total VC capital to float from string\n",
        "dataset['Total VC Capital Raised ($M)***']\n",
        "dataset['Exit Size (millions)']= dataset['Exit Size (millions)'].str.replace(\"$\",\"\") # removing $ from Exit Size\n",
        "dataset['Exit Size (millions)']= dataset['Exit Size (millions)'].str.replace(\",\",\"\") # removing \",\" from Exit Size\n",
        "dataset.loc[:,'Exit Size (millions)'] = dataset.loc[:,'Exit Size (millions)'].astype(float) # converting Total VC capital to float from string\n",
        "\n",
        "dataset['MOIC']= dataset['MOIC'].str.replace(\"x\",\"\") # removing $ from MOIC\n",
        "dataset['MOIC']= dataset['MOIC'].str.replace(\",\",\"\") # removing ',' from MOIC\n",
        "dataset.loc[:,'MOIC'] = dataset.loc[:,'MOIC'].astype(float) # converting MOIC to float from string\n",
        "\n",
        "# drop rows which does not have a value for MOIC\n",
        "dataset.dropna(subset = [\"MOIC\"], inplace=True) # Drop rows with no values from Target column\n"
      ],
      "execution_count": 477,
      "outputs": []
    },
    {
      "cell_type": "code",
      "metadata": {
        "colab": {
          "base_uri": "https://localhost:8080/",
          "height": 419
        },
        "id": "jggYvyeVeLrj",
        "outputId": "4adde302-cf95-4c86-96d1-ef6329ee5de4"
      },
      "source": [
        "# check missing value in dataset\n",
        "missing = dataset.isna().sum().sort_values(ascending = False)\n",
        "percent_missing = ((missing / dataset.isnull().count()) * 100).sort_values(ascending = False)\n",
        "missing_df = pd.concat([missing,percent_missing], axis = 1, keys = ['Total', 'Percent'],sort = False)\n",
        "missing_df[missing_df['Total'] >= 1]"
      ],
      "execution_count": 478,
      "outputs": [
        {
          "output_type": "execute_result",
          "data": {
            "text/html": [
              "<div>\n",
              "<style scoped>\n",
              "    .dataframe tbody tr th:only-of-type {\n",
              "        vertical-align: middle;\n",
              "    }\n",
              "\n",
              "    .dataframe tbody tr th {\n",
              "        vertical-align: top;\n",
              "    }\n",
              "\n",
              "    .dataframe thead th {\n",
              "        text-align: right;\n",
              "    }\n",
              "</style>\n",
              "<table border=\"1\" class=\"dataframe\">\n",
              "  <thead>\n",
              "    <tr style=\"text-align: right;\">\n",
              "      <th></th>\n",
              "      <th>Total</th>\n",
              "      <th>Percent</th>\n",
              "    </tr>\n",
              "  </thead>\n",
              "  <tbody>\n",
              "    <tr>\n",
              "      <th>Implied EV/Cash Flow</th>\n",
              "      <td>108</td>\n",
              "      <td>100.000000</td>\n",
              "    </tr>\n",
              "    <tr>\n",
              "      <th>Implied EV/EBIT</th>\n",
              "      <td>108</td>\n",
              "      <td>100.000000</td>\n",
              "    </tr>\n",
              "    <tr>\n",
              "      <th>Debt Amount 3</th>\n",
              "      <td>108</td>\n",
              "      <td>100.000000</td>\n",
              "    </tr>\n",
              "    <tr>\n",
              "      <th>Contingent Payout</th>\n",
              "      <td>108</td>\n",
              "      <td>100.000000</td>\n",
              "    </tr>\n",
              "    <tr>\n",
              "      <th>Implied EV</th>\n",
              "      <td>108</td>\n",
              "      <td>100.000000</td>\n",
              "    </tr>\n",
              "    <tr>\n",
              "      <th>...</th>\n",
              "      <td>...</td>\n",
              "      <td>...</td>\n",
              "    </tr>\n",
              "    <tr>\n",
              "      <th>Deal Size Status</th>\n",
              "      <td>9</td>\n",
              "      <td>8.333333</td>\n",
              "    </tr>\n",
              "    <tr>\n",
              "      <th>CEO PBId</th>\n",
              "      <td>5</td>\n",
              "      <td>4.629630</td>\n",
              "    </tr>\n",
              "    <tr>\n",
              "      <th>Post Value (millions)</th>\n",
              "      <td>4</td>\n",
              "      <td>3.703704</td>\n",
              "    </tr>\n",
              "    <tr>\n",
              "      <th>Raised to Date</th>\n",
              "      <td>4</td>\n",
              "      <td>3.703704</td>\n",
              "    </tr>\n",
              "    <tr>\n",
              "      <th>Year Founded</th>\n",
              "      <td>1</td>\n",
              "      <td>0.925926</td>\n",
              "    </tr>\n",
              "  </tbody>\n",
              "</table>\n",
              "<p>67 rows × 2 columns</p>\n",
              "</div>"
            ],
            "text/plain": [
              "                       Total     Percent\n",
              "Implied EV/Cash Flow     108  100.000000\n",
              "Implied EV/EBIT          108  100.000000\n",
              "Debt Amount 3            108  100.000000\n",
              "Contingent Payout        108  100.000000\n",
              "Implied EV               108  100.000000\n",
              "...                      ...         ...\n",
              "Deal Size Status           9    8.333333\n",
              "CEO PBId                   5    4.629630\n",
              "Post Value (millions)      4    3.703704\n",
              "Raised to Date             4    3.703704\n",
              "Year Founded               1    0.925926\n",
              "\n",
              "[67 rows x 2 columns]"
            ]
          },
          "metadata": {
            "tags": []
          },
          "execution_count": 478
        }
      ]
    },
    {
      "cell_type": "markdown",
      "metadata": {
        "id": "Enp6_iyYefm2"
      },
      "source": [
        "Drop Column which has missing values more than 30%"
      ]
    },
    {
      "cell_type": "code",
      "metadata": {
        "id": "bGRu8iEm-miP"
      },
      "source": [
        "missing_df = missing_df.reset_index()\n",
        "over30 = list(missing_df.loc[missing_df['Percent'] >= 30,'index'])\n",
        "dataset = dataset.drop(over30, axis = 1)"
      ],
      "execution_count": 479,
      "outputs": []
    },
    {
      "cell_type": "code",
      "metadata": {
        "id": "oJ-oAw-fo4jl"
      },
      "source": [
        "# Drop Column intuitively which may not have significant impact\n",
        "dataset=dataset.drop(columns=['Native Currency of Deal','Company PBID','Exit Date','Exit Size (millions)','Series','Post Value (millions)','Total Preferred Capital Raised ($M)*','% Preferred Capital Raised*','Total Preferred Capital Raised ($M) - Combination**','% Preferred Capital Raised - Combination**','Total VC Capital Raised ($M)***','Keywords','Deal No.','Deal ID.1','Deal Date','Deal Size Status','Deal Type 2','Deal Class','Deal Status','CEO PBId'])\n",
        "\n",
        "# Drop duplicate columns  \n",
        "\n",
        "dataset=dataset.drop(columns=['Deal ID','Deal Type','Company ID','Primary Industry Sector','Primary Industry Group','Primary Industry Code','All Industries','Verticals_y','HQ Location','HQ Global Region','HQ Global Sub Region','Company City',\t'Company State/Province',\t'Company Post Code',\t'Company Country'])\n",
        "\n",
        "\n",
        "\n"
      ],
      "execution_count": 480,
      "outputs": []
    },
    {
      "cell_type": "code",
      "metadata": {
        "id": "2DmOIlUm0_xc"
      },
      "source": [
        "# calculating total working duration of company\n",
        "\n",
        "\n",
        "from datetime import date \n",
        "todays_date = date.today() \n",
        "\n",
        "ts =todays_date.year\n",
        "\n",
        "dataset['Total duration for Company'] = ts - dataset['Year Founded']\n",
        "\n",
        "dataset=dataset.drop(columns=['Year Founded'])\n",
        "\n",
        "dataset['Total duration for Company'] \n",
        "\n",
        "# adding investors and new investors column together\n",
        "\n",
        "dataset['# Investors']= dataset['# Investors']+dataset['# New Investors']\n",
        "dataset=dataset.drop(columns=['# New Investors'])"
      ],
      "execution_count": 481,
      "outputs": []
    },
    {
      "cell_type": "markdown",
      "metadata": {
        "id": "lQ-E1asq08Wj"
      },
      "source": [
        "## Filling Missing Values"
      ]
    },
    {
      "cell_type": "code",
      "metadata": {
        "colab": {
          "base_uri": "https://localhost:8080/",
          "height": 328
        },
        "id": "jYL6fkM3FkjX",
        "outputId": "064e1a98-88f7-4ef7-8f37-4d8e64b3ed82"
      },
      "source": [
        "# check missing value in df\n",
        "missing = dataset.isna().sum().sort_values(ascending = False)\n",
        "percent_missing = ((missing / dataset.isnull().count()) * 100).sort_values(ascending = False)\n",
        "missing_df = pd.concat([missing,percent_missing], axis = 1, keys = ['Total', 'Percent'],sort = False)\n",
        "missing_df[missing_df['Total'] >= 1]"
      ],
      "execution_count": 482,
      "outputs": [
        {
          "output_type": "execute_result",
          "data": {
            "text/html": [
              "<div>\n",
              "<style scoped>\n",
              "    .dataframe tbody tr th:only-of-type {\n",
              "        vertical-align: middle;\n",
              "    }\n",
              "\n",
              "    .dataframe tbody tr th {\n",
              "        vertical-align: top;\n",
              "    }\n",
              "\n",
              "    .dataframe thead th {\n",
              "        text-align: right;\n",
              "    }\n",
              "</style>\n",
              "<table border=\"1\" class=\"dataframe\">\n",
              "  <thead>\n",
              "    <tr style=\"text-align: right;\">\n",
              "      <th></th>\n",
              "      <th>Total</th>\n",
              "      <th>Percent</th>\n",
              "    </tr>\n",
              "  </thead>\n",
              "  <tbody>\n",
              "    <tr>\n",
              "      <th>CEO Education</th>\n",
              "      <td>24</td>\n",
              "      <td>22.222222</td>\n",
              "    </tr>\n",
              "    <tr>\n",
              "      <th>State</th>\n",
              "      <td>21</td>\n",
              "      <td>19.444444</td>\n",
              "    </tr>\n",
              "    <tr>\n",
              "      <th># Investors</th>\n",
              "      <td>17</td>\n",
              "      <td>15.740741</td>\n",
              "    </tr>\n",
              "    <tr>\n",
              "      <th>Total Invested Equity</th>\n",
              "      <td>14</td>\n",
              "      <td>12.962963</td>\n",
              "    </tr>\n",
              "    <tr>\n",
              "      <th>VC Round</th>\n",
              "      <td>14</td>\n",
              "      <td>12.962963</td>\n",
              "    </tr>\n",
              "    <tr>\n",
              "      <th>Current Employees</th>\n",
              "      <td>14</td>\n",
              "      <td>12.962963</td>\n",
              "    </tr>\n",
              "    <tr>\n",
              "      <th>Deal Size</th>\n",
              "      <td>9</td>\n",
              "      <td>8.333333</td>\n",
              "    </tr>\n",
              "    <tr>\n",
              "      <th>Raised to Date</th>\n",
              "      <td>4</td>\n",
              "      <td>3.703704</td>\n",
              "    </tr>\n",
              "    <tr>\n",
              "      <th>Total duration for Company</th>\n",
              "      <td>1</td>\n",
              "      <td>0.925926</td>\n",
              "    </tr>\n",
              "  </tbody>\n",
              "</table>\n",
              "</div>"
            ],
            "text/plain": [
              "                            Total    Percent\n",
              "CEO Education                  24  22.222222\n",
              "State                          21  19.444444\n",
              "# Investors                    17  15.740741\n",
              "Total Invested Equity          14  12.962963\n",
              "VC Round                       14  12.962963\n",
              "Current Employees              14  12.962963\n",
              "Deal Size                       9   8.333333\n",
              "Raised to Date                  4   3.703704\n",
              "Total duration for Company      1   0.925926"
            ]
          },
          "metadata": {
            "tags": []
          },
          "execution_count": 482
        }
      ]
    },
    {
      "cell_type": "code",
      "metadata": {
        "id": "6G6ApzT5lB8p"
      },
      "source": [
        "# filling dataset missing values in columns State, CEO Education and VC round\n",
        "dataset= dataset.fillna({\n",
        "'State' : 'NOT IN USA' ,\n",
        "'CEO Education': 'No Known Education',\n",
        "'VC Round' : 'not known'\n",
        "})\n",
        "\n",
        "# filling Investors missing value by mean of other row values\n",
        "dataset['# Investors'] = dataset['# Investors'].fillna((dataset['# Investors'].mean()))\n",
        "\n",
        "# filling missing values in Raised to date column with mean \n",
        "\n",
        "dataset['Raised to Date']= dataset['Raised to Date'].str.replace(\",\",\"\")\n",
        "\n",
        "dataset.loc[:,'Raised to Date'] = dataset.loc[:,'Raised to Date'].astype(float)\n",
        "\n",
        "dataset['Raised to Date'] = dataset['Raised to Date'].fillna((dataset['Raised to Date'].mean()))\n",
        "\n",
        "# filling missing values in Total duration for Company column with mean \n",
        "\n",
        "dataset['Total duration for Company'] = dataset['Total duration for Company'].fillna((dataset['Total duration for Company'].mean()))\n",
        "\n",
        "# filling missing values in Raised to date column with mean \n",
        "\n",
        "dataset['Current Employees']= dataset['Current Employees'].str.replace(\",\",\"\")\n",
        "dataset.loc[:,'Current Employees'] = dataset.loc[:,'Current Employees'].astype(float)\n",
        "\n",
        "dataset['Current Employees'] = dataset['Current Employees'].fillna((dataset['Current Employees'].mean()))\n",
        "\n",
        "# filling missing values in all other columns with mean \n",
        "\n",
        "dataset = dataset.fillna((dataset.mean()))\n"
      ],
      "execution_count": 483,
      "outputs": []
    },
    {
      "cell_type": "code",
      "metadata": {
        "id": "RORI5Fhpp1qc",
        "colab": {
          "base_uri": "https://localhost:8080/",
          "height": 1000
        },
        "outputId": "6de30e86-b5d6-437d-ec83-f5f572d3169e"
      },
      "source": [
        "# check MOIC's distribution\n",
        "import seaborn as sn\n",
        "\n",
        "sn.boxplot(y=dataset[\"MOIC\"])\n",
        "plt.show()\n",
        "sn.histplot(dataset, x ='MOIC')\n",
        "plt.show()\n",
        "\n",
        "\n",
        "# check the relationship between MOIC and Primary Industry Sector\n",
        "v1 = sn.violinplot(x=\"Industry Sector\", y=\"MOIC\", data=dataset, size=6)\n",
        "v1.set_xticklabels(v1.get_xticklabels(),rotation=90)\n",
        "\n",
        "#Primary Industry Sector can be encoded into 2 types\n",
        "\n",
        "# check the relationship between MOIC and Current Financing Status\n",
        "v2 = sn.violinplot(x=\"Current Financing Status\", y=\"MOIC\", data=dataset, size=6)\n",
        "v2.set_xticklabels(v2.get_xticklabels(),rotation=90)\n",
        "\n",
        "#Current Financing Status can be encoded into 4 types\n",
        "\n",
        "# check the relationship between MOIC and Current Business Status\n",
        "v3 = sn.violinplot(x=\"Current Business Status\", y=\"MOIC\", data=dataset, size=6)\n",
        "v3.set_xticklabels(v3.get_xticklabels(),rotation=90)\n",
        "\n",
        "# Current Business Status can be encoded into 2 types\n",
        "\n",
        "# check the relationship between MOIC and Universe\n",
        "v4 = sn.violinplot(x=\"Universe\", y=\"MOIC\", data=dataset, size=6)\n",
        "v4.set_xticklabels(v4.get_xticklabels(),rotation=90)\n",
        "\n",
        "#Universe can be encoded into 4 types\n",
        "\n",
        "# check the relationship between MOIC and VC Round\n",
        "v5 = sn.violinplot(x=\"VC Round\", y=\"MOIC\", data=dataset, size=6)\n",
        "v5.set_xticklabels(v5.get_xticklabels(),rotation=90)\n",
        "\n",
        "# VC Round Status can be encoded into 2 types\n",
        "\n",
        "# check the relationship between MOIC and Business Status\n",
        "v7 = sn.violinplot(x=\"Business Status\", y=\"MOIC\", data=dataset, size=6)\n",
        "v7.set_xticklabels(v7.get_xticklabels(),rotation=90)\n",
        "\n",
        "#Business Status can be encoded into 3 types\n",
        "\n"
      ],
      "execution_count": 484,
      "outputs": [
        {
          "output_type": "display_data",
          "data": {
            "image/png": "[encoded data removed]",
            "text/plain": [
              "<Figure size 432x288 with 1 Axes>"
            ]
          },
          "metadata": {
            "tags": [],
            "needs_background": "light"
          }
        },
        {
          "output_type": "display_data",
          "data": {
            "image/png": "[encoded data removed]",
            "text/plain": [
              "<Figure size 432x288 with 1 Axes>"
            ]
          },
          "metadata": {
            "tags": [],
            "needs_background": "light"
          }
        },
        {
          "output_type": "execute_result",
          "data": {
            "text/plain": [
              "[Text(0, 0, 'Generating Revenue'),\n",
              " Text(0, 0, 'Stealth'),\n",
              " Text(0, 0, 'Generating Revenue/Not Profitable'),\n",
              " Text(0, 0, 'Startup'),\n",
              " Text(0, 0, 'Profitable')]"
            ]
          },
          "metadata": {
            "tags": []
          },
          "execution_count": 484
        },
        {
          "output_type": "display_data",
          "data": {
            "image/png": "[encoded data removed]",
            "text/plain": [
              "<Figure size 432x288 with 1 Axes>"
            ]
          },
          "metadata": {
            "tags": [],
            "needs_background": "light"
          }
        }
      ]
    },
    {
      "cell_type": "markdown",
      "metadata": {
        "id": "CriG6VzVSjcK"
      },
      "source": [
        "## Encoding categorical data"
      ]
    },
    {
      "cell_type": "markdown",
      "metadata": {
        "id": "kwjqT3isMf_k"
      },
      "source": [
        "Label Encoding of Categorical Variable"
      ]
    },
    {
      "cell_type": "code",
      "metadata": {
        "colab": {
          "base_uri": "https://localhost:8080/",
          "height": 524
        },
        "id": "Se2TbGGzlrs-",
        "outputId": "a0ffe304-646c-417a-b9f7-3291c4b89fbe"
      },
      "source": [
        "\n",
        "from sklearn.preprocessing import LabelEncoder\n",
        "le= LabelEncoder()\n",
        "\n",
        "\n",
        "dataset[['Exit Type']] = le.fit_transform(dataset[['Exit Type']].astype(str))\n",
        "\n",
        "dataset[['Last VC Deal Type']] = le.fit_transform(dataset[['Last VC Deal Type']].astype(str))\n",
        "\n",
        "dataset[['Industry Sector']] = le.fit_transform(dataset[['Industry Sector']].astype(str))\n",
        "\n",
        "dataset[['Industry Group']] = le.fit_transform(dataset[['Industry Group']].astype(str))\n",
        "\n",
        "dataset[['Industry Code']] = le.fit_transform(dataset[['Industry Code']].astype(str))\n",
        "\n",
        "dataset[['Verticals_x']] = le.fit_transform(dataset[['Verticals_x']].astype(str))\n",
        "\n",
        "dataset[['City']] = le.fit_transform(dataset[['City']].astype(str))\n",
        "\n",
        "dataset[['State']] = le.fit_transform(dataset[['State']].astype(str))\n",
        "#dataset[['Deal Type']] = le.fit_transform(dataset[['Deal Type']].astype(str))\n",
        "\n",
        "dataset[['Country']] = le.fit_transform(dataset[['Country']].astype(str))\n",
        "dataset[['Current Financing Status']] = le.fit_transform(dataset[['Current Financing Status']].astype(str))\n",
        "dataset[['Current Business Status']] = le.fit_transform(dataset[['Current Business Status']].astype(str))\n",
        "dataset[['Universe']] = le.fit_transform(dataset[['Universe']].astype(str))\n",
        "dataset[['CEO Education']] = le.fit_transform(dataset[['CEO Education']].astype(str))\n",
        "dataset[['VC Round']] = le.fit_transform(dataset[['VC Round']].astype(str))\n",
        "dataset[['Business Status']] = le.fit_transform(dataset[['Business Status']].astype(str))\n",
        "dataset[['Financing Status']] = le.fit_transform(dataset[['Financing Status']].astype(str))\n",
        "\n",
        "\n",
        "dataset"
      ],
      "execution_count": 485,
      "outputs": [
        {
          "output_type": "stream",
          "text": [
            "/usr/local/lib/python3.7/dist-packages/sklearn/preprocessing/_label.py:251: DataConversionWarning: A column-vector y was passed when a 1d array was expected. Please change the shape of y to (n_samples, ), for example using ravel().\n",
            "  y = column_or_1d(y, warn=True)\n"
          ],
          "name": "stderr"
        },
        {
          "output_type": "execute_result",
          "data": {
            "text/html": [
              "<div>\n",
              "<style scoped>\n",
              "    .dataframe tbody tr th:only-of-type {\n",
              "        vertical-align: middle;\n",
              "    }\n",
              "\n",
              "    .dataframe tbody tr th {\n",
              "        vertical-align: top;\n",
              "    }\n",
              "\n",
              "    .dataframe thead th {\n",
              "        text-align: right;\n",
              "    }\n",
              "</style>\n",
              "<table border=\"1\" class=\"dataframe\">\n",
              "  <thead>\n",
              "    <tr style=\"text-align: right;\">\n",
              "      <th></th>\n",
              "      <th>Exit Type</th>\n",
              "      <th>Last VC Deal Type</th>\n",
              "      <th>MOIC</th>\n",
              "      <th>Industry Sector</th>\n",
              "      <th>Industry Group</th>\n",
              "      <th>Industry Code</th>\n",
              "      <th>Verticals_x</th>\n",
              "      <th>City</th>\n",
              "      <th>State</th>\n",
              "      <th>Country</th>\n",
              "      <th>Current Financing Status</th>\n",
              "      <th>Current Business Status</th>\n",
              "      <th>Universe</th>\n",
              "      <th>CEO Education</th>\n",
              "      <th>Deal Size</th>\n",
              "      <th>Raised to Date</th>\n",
              "      <th>VC Round</th>\n",
              "      <th>Total Invested Equity</th>\n",
              "      <th>Business Status</th>\n",
              "      <th>Financing Status</th>\n",
              "      <th># Investors</th>\n",
              "      <th>Current Employees</th>\n",
              "      <th>Total duration for Company</th>\n",
              "    </tr>\n",
              "  </thead>\n",
              "  <tbody>\n",
              "    <tr>\n",
              "      <th>3</th>\n",
              "      <td>2</td>\n",
              "      <td>1</td>\n",
              "      <td>16.44</td>\n",
              "      <td>1</td>\n",
              "      <td>3</td>\n",
              "      <td>2</td>\n",
              "      <td>13</td>\n",
              "      <td>9</td>\n",
              "      <td>10</td>\n",
              "      <td>7</td>\n",
              "      <td>1</td>\n",
              "      <td>0</td>\n",
              "      <td>7</td>\n",
              "      <td>5</td>\n",
              "      <td>10.10</td>\n",
              "      <td>10.10</td>\n",
              "      <td>1</td>\n",
              "      <td>10.10</td>\n",
              "      <td>0</td>\n",
              "      <td>4</td>\n",
              "      <td>2.000000</td>\n",
              "      <td>6.000000</td>\n",
              "      <td>8.0</td>\n",
              "    </tr>\n",
              "    <tr>\n",
              "      <th>17</th>\n",
              "      <td>2</td>\n",
              "      <td>6</td>\n",
              "      <td>3.81</td>\n",
              "      <td>1</td>\n",
              "      <td>3</td>\n",
              "      <td>9</td>\n",
              "      <td>1</td>\n",
              "      <td>20</td>\n",
              "      <td>0</td>\n",
              "      <td>7</td>\n",
              "      <td>1</td>\n",
              "      <td>0</td>\n",
              "      <td>7</td>\n",
              "      <td>12</td>\n",
              "      <td>3.30</td>\n",
              "      <td>3.30</td>\n",
              "      <td>1</td>\n",
              "      <td>3.30</td>\n",
              "      <td>4</td>\n",
              "      <td>4</td>\n",
              "      <td>6.000000</td>\n",
              "      <td>660.553191</td>\n",
              "      <td>6.0</td>\n",
              "    </tr>\n",
              "    <tr>\n",
              "      <th>18</th>\n",
              "      <td>2</td>\n",
              "      <td>6</td>\n",
              "      <td>3.81</td>\n",
              "      <td>1</td>\n",
              "      <td>3</td>\n",
              "      <td>9</td>\n",
              "      <td>1</td>\n",
              "      <td>20</td>\n",
              "      <td>0</td>\n",
              "      <td>7</td>\n",
              "      <td>1</td>\n",
              "      <td>0</td>\n",
              "      <td>7</td>\n",
              "      <td>12</td>\n",
              "      <td>14.50</td>\n",
              "      <td>17.80</td>\n",
              "      <td>2</td>\n",
              "      <td>14.50</td>\n",
              "      <td>0</td>\n",
              "      <td>4</td>\n",
              "      <td>3.000000</td>\n",
              "      <td>660.553191</td>\n",
              "      <td>6.0</td>\n",
              "    </tr>\n",
              "    <tr>\n",
              "      <th>19</th>\n",
              "      <td>2</td>\n",
              "      <td>6</td>\n",
              "      <td>3.81</td>\n",
              "      <td>1</td>\n",
              "      <td>3</td>\n",
              "      <td>9</td>\n",
              "      <td>1</td>\n",
              "      <td>20</td>\n",
              "      <td>0</td>\n",
              "      <td>7</td>\n",
              "      <td>1</td>\n",
              "      <td>0</td>\n",
              "      <td>7</td>\n",
              "      <td>25</td>\n",
              "      <td>20.00</td>\n",
              "      <td>37.80</td>\n",
              "      <td>3</td>\n",
              "      <td>20.00</td>\n",
              "      <td>0</td>\n",
              "      <td>4</td>\n",
              "      <td>8.000000</td>\n",
              "      <td>660.553191</td>\n",
              "      <td>6.0</td>\n",
              "    </tr>\n",
              "    <tr>\n",
              "      <th>21</th>\n",
              "      <td>2</td>\n",
              "      <td>12</td>\n",
              "      <td>8.94</td>\n",
              "      <td>1</td>\n",
              "      <td>3</td>\n",
              "      <td>2</td>\n",
              "      <td>18</td>\n",
              "      <td>19</td>\n",
              "      <td>0</td>\n",
              "      <td>7</td>\n",
              "      <td>1</td>\n",
              "      <td>0</td>\n",
              "      <td>0</td>\n",
              "      <td>9</td>\n",
              "      <td>158.00</td>\n",
              "      <td>335.00</td>\n",
              "      <td>6</td>\n",
              "      <td>158.00</td>\n",
              "      <td>0</td>\n",
              "      <td>4</td>\n",
              "      <td>20.000000</td>\n",
              "      <td>2062.000000</td>\n",
              "      <td>13.0</td>\n",
              "    </tr>\n",
              "    <tr>\n",
              "      <th>...</th>\n",
              "      <td>...</td>\n",
              "      <td>...</td>\n",
              "      <td>...</td>\n",
              "      <td>...</td>\n",
              "      <td>...</td>\n",
              "      <td>...</td>\n",
              "      <td>...</td>\n",
              "      <td>...</td>\n",
              "      <td>...</td>\n",
              "      <td>...</td>\n",
              "      <td>...</td>\n",
              "      <td>...</td>\n",
              "      <td>...</td>\n",
              "      <td>...</td>\n",
              "      <td>...</td>\n",
              "      <td>...</td>\n",
              "      <td>...</td>\n",
              "      <td>...</td>\n",
              "      <td>...</td>\n",
              "      <td>...</td>\n",
              "      <td>...</td>\n",
              "      <td>...</td>\n",
              "      <td>...</td>\n",
              "    </tr>\n",
              "    <tr>\n",
              "      <th>291</th>\n",
              "      <td>1</td>\n",
              "      <td>12</td>\n",
              "      <td>0.60</td>\n",
              "      <td>1</td>\n",
              "      <td>3</td>\n",
              "      <td>2</td>\n",
              "      <td>18</td>\n",
              "      <td>22</td>\n",
              "      <td>0</td>\n",
              "      <td>7</td>\n",
              "      <td>1</td>\n",
              "      <td>0</td>\n",
              "      <td>6</td>\n",
              "      <td>45</td>\n",
              "      <td>124.55</td>\n",
              "      <td>260.00</td>\n",
              "      <td>6</td>\n",
              "      <td>124.55</td>\n",
              "      <td>0</td>\n",
              "      <td>4</td>\n",
              "      <td>14.000000</td>\n",
              "      <td>200.000000</td>\n",
              "      <td>13.0</td>\n",
              "    </tr>\n",
              "    <tr>\n",
              "      <th>297</th>\n",
              "      <td>2</td>\n",
              "      <td>12</td>\n",
              "      <td>0.22</td>\n",
              "      <td>1</td>\n",
              "      <td>3</td>\n",
              "      <td>3</td>\n",
              "      <td>18</td>\n",
              "      <td>11</td>\n",
              "      <td>7</td>\n",
              "      <td>7</td>\n",
              "      <td>1</td>\n",
              "      <td>0</td>\n",
              "      <td>2</td>\n",
              "      <td>10</td>\n",
              "      <td>12.13</td>\n",
              "      <td>165.10</td>\n",
              "      <td>9</td>\n",
              "      <td>12.13</td>\n",
              "      <td>0</td>\n",
              "      <td>4</td>\n",
              "      <td>6.879121</td>\n",
              "      <td>660.553191</td>\n",
              "      <td>16.0</td>\n",
              "    </tr>\n",
              "    <tr>\n",
              "      <th>298</th>\n",
              "      <td>2</td>\n",
              "      <td>12</td>\n",
              "      <td>0.22</td>\n",
              "      <td>1</td>\n",
              "      <td>3</td>\n",
              "      <td>3</td>\n",
              "      <td>18</td>\n",
              "      <td>11</td>\n",
              "      <td>7</td>\n",
              "      <td>7</td>\n",
              "      <td>1</td>\n",
              "      <td>0</td>\n",
              "      <td>2</td>\n",
              "      <td>7</td>\n",
              "      <td>51.35</td>\n",
              "      <td>139.00</td>\n",
              "      <td>8</td>\n",
              "      <td>51.35</td>\n",
              "      <td>0</td>\n",
              "      <td>4</td>\n",
              "      <td>18.000000</td>\n",
              "      <td>660.553191</td>\n",
              "      <td>16.0</td>\n",
              "    </tr>\n",
              "    <tr>\n",
              "      <th>303</th>\n",
              "      <td>1</td>\n",
              "      <td>9</td>\n",
              "      <td>55.20</td>\n",
              "      <td>1</td>\n",
              "      <td>3</td>\n",
              "      <td>3</td>\n",
              "      <td>16</td>\n",
              "      <td>20</td>\n",
              "      <td>0</td>\n",
              "      <td>7</td>\n",
              "      <td>1</td>\n",
              "      <td>2</td>\n",
              "      <td>6</td>\n",
              "      <td>25</td>\n",
              "      <td>114.97</td>\n",
              "      <td>160.75</td>\n",
              "      <td>5</td>\n",
              "      <td>114.97</td>\n",
              "      <td>0</td>\n",
              "      <td>4</td>\n",
              "      <td>12.000000</td>\n",
              "      <td>3871.000000</td>\n",
              "      <td>10.0</td>\n",
              "    </tr>\n",
              "    <tr>\n",
              "      <th>304</th>\n",
              "      <td>1</td>\n",
              "      <td>9</td>\n",
              "      <td>55.20</td>\n",
              "      <td>1</td>\n",
              "      <td>3</td>\n",
              "      <td>3</td>\n",
              "      <td>16</td>\n",
              "      <td>20</td>\n",
              "      <td>0</td>\n",
              "      <td>7</td>\n",
              "      <td>1</td>\n",
              "      <td>2</td>\n",
              "      <td>6</td>\n",
              "      <td>25</td>\n",
              "      <td>30.00</td>\n",
              "      <td>45.79</td>\n",
              "      <td>4</td>\n",
              "      <td>30.00</td>\n",
              "      <td>3</td>\n",
              "      <td>4</td>\n",
              "      <td>14.000000</td>\n",
              "      <td>3871.000000</td>\n",
              "      <td>10.0</td>\n",
              "    </tr>\n",
              "  </tbody>\n",
              "</table>\n",
              "<p>108 rows × 23 columns</p>\n",
              "</div>"
            ],
            "text/plain": [
              "     Exit Type  ...  Total duration for Company\n",
              "3            2  ...                         8.0\n",
              "17           2  ...                         6.0\n",
              "18           2  ...                         6.0\n",
              "19           2  ...                         6.0\n",
              "21           2  ...                        13.0\n",
              "..         ...  ...                         ...\n",
              "291          1  ...                        13.0\n",
              "297          2  ...                        16.0\n",
              "298          2  ...                        16.0\n",
              "303          1  ...                        10.0\n",
              "304          1  ...                        10.0\n",
              "\n",
              "[108 rows x 23 columns]"
            ]
          },
          "metadata": {
            "tags": []
          },
          "execution_count": 485
        }
      ]
    },
    {
      "cell_type": "markdown",
      "metadata": {
        "id": "7GwdcugiTfl0"
      },
      "source": [
        "Changing Data type of Column to perform correlation matrix"
      ]
    },
    {
      "cell_type": "code",
      "metadata": {
        "colab": {
          "base_uri": "https://localhost:8080/",
          "height": 993
        },
        "id": "FpC-npjIlugQ",
        "outputId": "900d920f-877b-4bae-8f76-b6a899312fa1"
      },
      "source": [
        "\n",
        "corrMatrix= dataset.corr()\n",
        "\n",
        "fig, ax = plt.subplots(figsize=(15,15))         # Sample figsize in inches\n",
        "\n",
        "sn.heatmap(corrMatrix, annot=True,linewidth=0.8)\n",
        "plt.show()"
      ],
      "execution_count": 486,
      "outputs": [
        {
          "output_type": "display_data",
          "data": {
            "image/png": "[encoded data removed]",
            "text/plain": [
              "<Figure size 1080x1080 with 2 Axes>"
            ]
          },
          "metadata": {
            "tags": [],
            "needs_background": "light"
          }
        }
      ]
    },
    {
      "cell_type": "markdown",
      "metadata": {
        "id": "S7Pj--w2jMZH"
      },
      "source": [
        "Removal of The columns which are highly related to other columns"
      ]
    },
    {
      "cell_type": "code",
      "metadata": {
        "id": "z0MkIidIjKWG"
      },
      "source": [
        "dataset=dataset.drop(columns=['Deal Size'])"
      ],
      "execution_count": 487,
      "outputs": []
    },
    {
      "cell_type": "code",
      "metadata": {
        "colab": {
          "base_uri": "https://localhost:8080/",
          "height": 265
        },
        "id": "N_H4UsHBH-HR",
        "outputId": "05bf2fdb-9ee4-441b-a99f-002d8f6cb577"
      },
      "source": [
        "# histogram plot\n",
        "from matplotlib import pyplot\n",
        "\n",
        "pyplot.hist(dataset['MOIC'])\n",
        "pyplot.show()"
      ],
      "execution_count": 488,
      "outputs": [
        {
          "output_type": "display_data",
          "data": {
            "image/png": "[encoded data removed]",
            "text/plain": [
              "<Figure size 432x288 with 1 Axes>"
            ]
          },
          "metadata": {
            "tags": [],
            "needs_background": "light"
          }
        }
      ]
    },
    {
      "cell_type": "code",
      "metadata": {
        "colab": {
          "base_uri": "https://localhost:8080/",
          "height": 490
        },
        "id": "Z2rKRI-B0Skf",
        "outputId": "d91576b3-e87f-4768-ce0c-6b074fe3b4cd"
      },
      "source": [
        "dataset"
      ],
      "execution_count": 489,
      "outputs": [
        {
          "output_type": "execute_result",
          "data": {
            "text/html": [
              "<div>\n",
              "<style scoped>\n",
              "    .dataframe tbody tr th:only-of-type {\n",
              "        vertical-align: middle;\n",
              "    }\n",
              "\n",
              "    .dataframe tbody tr th {\n",
              "        vertical-align: top;\n",
              "    }\n",
              "\n",
              "    .dataframe thead th {\n",
              "        text-align: right;\n",
              "    }\n",
              "</style>\n",
              "<table border=\"1\" class=\"dataframe\">\n",
              "  <thead>\n",
              "    <tr style=\"text-align: right;\">\n",
              "      <th></th>\n",
              "      <th>Exit Type</th>\n",
              "      <th>Last VC Deal Type</th>\n",
              "      <th>MOIC</th>\n",
              "      <th>Industry Sector</th>\n",
              "      <th>Industry Group</th>\n",
              "      <th>Industry Code</th>\n",
              "      <th>Verticals_x</th>\n",
              "      <th>City</th>\n",
              "      <th>State</th>\n",
              "      <th>Country</th>\n",
              "      <th>Current Financing Status</th>\n",
              "      <th>Current Business Status</th>\n",
              "      <th>Universe</th>\n",
              "      <th>CEO Education</th>\n",
              "      <th>Raised to Date</th>\n",
              "      <th>VC Round</th>\n",
              "      <th>Total Invested Equity</th>\n",
              "      <th>Business Status</th>\n",
              "      <th>Financing Status</th>\n",
              "      <th># Investors</th>\n",
              "      <th>Current Employees</th>\n",
              "      <th>Total duration for Company</th>\n",
              "    </tr>\n",
              "  </thead>\n",
              "  <tbody>\n",
              "    <tr>\n",
              "      <th>3</th>\n",
              "      <td>2</td>\n",
              "      <td>1</td>\n",
              "      <td>16.44</td>\n",
              "      <td>1</td>\n",
              "      <td>3</td>\n",
              "      <td>2</td>\n",
              "      <td>13</td>\n",
              "      <td>9</td>\n",
              "      <td>10</td>\n",
              "      <td>7</td>\n",
              "      <td>1</td>\n",
              "      <td>0</td>\n",
              "      <td>7</td>\n",
              "      <td>5</td>\n",
              "      <td>10.10</td>\n",
              "      <td>1</td>\n",
              "      <td>10.10</td>\n",
              "      <td>0</td>\n",
              "      <td>4</td>\n",
              "      <td>2.000000</td>\n",
              "      <td>6.000000</td>\n",
              "      <td>8.0</td>\n",
              "    </tr>\n",
              "    <tr>\n",
              "      <th>17</th>\n",
              "      <td>2</td>\n",
              "      <td>6</td>\n",
              "      <td>3.81</td>\n",
              "      <td>1</td>\n",
              "      <td>3</td>\n",
              "      <td>9</td>\n",
              "      <td>1</td>\n",
              "      <td>20</td>\n",
              "      <td>0</td>\n",
              "      <td>7</td>\n",
              "      <td>1</td>\n",
              "      <td>0</td>\n",
              "      <td>7</td>\n",
              "      <td>12</td>\n",
              "      <td>3.30</td>\n",
              "      <td>1</td>\n",
              "      <td>3.30</td>\n",
              "      <td>4</td>\n",
              "      <td>4</td>\n",
              "      <td>6.000000</td>\n",
              "      <td>660.553191</td>\n",
              "      <td>6.0</td>\n",
              "    </tr>\n",
              "    <tr>\n",
              "      <th>18</th>\n",
              "      <td>2</td>\n",
              "      <td>6</td>\n",
              "      <td>3.81</td>\n",
              "      <td>1</td>\n",
              "      <td>3</td>\n",
              "      <td>9</td>\n",
              "      <td>1</td>\n",
              "      <td>20</td>\n",
              "      <td>0</td>\n",
              "      <td>7</td>\n",
              "      <td>1</td>\n",
              "      <td>0</td>\n",
              "      <td>7</td>\n",
              "      <td>12</td>\n",
              "      <td>17.80</td>\n",
              "      <td>2</td>\n",
              "      <td>14.50</td>\n",
              "      <td>0</td>\n",
              "      <td>4</td>\n",
              "      <td>3.000000</td>\n",
              "      <td>660.553191</td>\n",
              "      <td>6.0</td>\n",
              "    </tr>\n",
              "    <tr>\n",
              "      <th>19</th>\n",
              "      <td>2</td>\n",
              "      <td>6</td>\n",
              "      <td>3.81</td>\n",
              "      <td>1</td>\n",
              "      <td>3</td>\n",
              "      <td>9</td>\n",
              "      <td>1</td>\n",
              "      <td>20</td>\n",
              "      <td>0</td>\n",
              "      <td>7</td>\n",
              "      <td>1</td>\n",
              "      <td>0</td>\n",
              "      <td>7</td>\n",
              "      <td>25</td>\n",
              "      <td>37.80</td>\n",
              "      <td>3</td>\n",
              "      <td>20.00</td>\n",
              "      <td>0</td>\n",
              "      <td>4</td>\n",
              "      <td>8.000000</td>\n",
              "      <td>660.553191</td>\n",
              "      <td>6.0</td>\n",
              "    </tr>\n",
              "    <tr>\n",
              "      <th>21</th>\n",
              "      <td>2</td>\n",
              "      <td>12</td>\n",
              "      <td>8.94</td>\n",
              "      <td>1</td>\n",
              "      <td>3</td>\n",
              "      <td>2</td>\n",
              "      <td>18</td>\n",
              "      <td>19</td>\n",
              "      <td>0</td>\n",
              "      <td>7</td>\n",
              "      <td>1</td>\n",
              "      <td>0</td>\n",
              "      <td>0</td>\n",
              "      <td>9</td>\n",
              "      <td>335.00</td>\n",
              "      <td>6</td>\n",
              "      <td>158.00</td>\n",
              "      <td>0</td>\n",
              "      <td>4</td>\n",
              "      <td>20.000000</td>\n",
              "      <td>2062.000000</td>\n",
              "      <td>13.0</td>\n",
              "    </tr>\n",
              "    <tr>\n",
              "      <th>...</th>\n",
              "      <td>...</td>\n",
              "      <td>...</td>\n",
              "      <td>...</td>\n",
              "      <td>...</td>\n",
              "      <td>...</td>\n",
              "      <td>...</td>\n",
              "      <td>...</td>\n",
              "      <td>...</td>\n",
              "      <td>...</td>\n",
              "      <td>...</td>\n",
              "      <td>...</td>\n",
              "      <td>...</td>\n",
              "      <td>...</td>\n",
              "      <td>...</td>\n",
              "      <td>...</td>\n",
              "      <td>...</td>\n",
              "      <td>...</td>\n",
              "      <td>...</td>\n",
              "      <td>...</td>\n",
              "      <td>...</td>\n",
              "      <td>...</td>\n",
              "      <td>...</td>\n",
              "    </tr>\n",
              "    <tr>\n",
              "      <th>291</th>\n",
              "      <td>1</td>\n",
              "      <td>12</td>\n",
              "      <td>0.60</td>\n",
              "      <td>1</td>\n",
              "      <td>3</td>\n",
              "      <td>2</td>\n",
              "      <td>18</td>\n",
              "      <td>22</td>\n",
              "      <td>0</td>\n",
              "      <td>7</td>\n",
              "      <td>1</td>\n",
              "      <td>0</td>\n",
              "      <td>6</td>\n",
              "      <td>45</td>\n",
              "      <td>260.00</td>\n",
              "      <td>6</td>\n",
              "      <td>124.55</td>\n",
              "      <td>0</td>\n",
              "      <td>4</td>\n",
              "      <td>14.000000</td>\n",
              "      <td>200.000000</td>\n",
              "      <td>13.0</td>\n",
              "    </tr>\n",
              "    <tr>\n",
              "      <th>297</th>\n",
              "      <td>2</td>\n",
              "      <td>12</td>\n",
              "      <td>0.22</td>\n",
              "      <td>1</td>\n",
              "      <td>3</td>\n",
              "      <td>3</td>\n",
              "      <td>18</td>\n",
              "      <td>11</td>\n",
              "      <td>7</td>\n",
              "      <td>7</td>\n",
              "      <td>1</td>\n",
              "      <td>0</td>\n",
              "      <td>2</td>\n",
              "      <td>10</td>\n",
              "      <td>165.10</td>\n",
              "      <td>9</td>\n",
              "      <td>12.13</td>\n",
              "      <td>0</td>\n",
              "      <td>4</td>\n",
              "      <td>6.879121</td>\n",
              "      <td>660.553191</td>\n",
              "      <td>16.0</td>\n",
              "    </tr>\n",
              "    <tr>\n",
              "      <th>298</th>\n",
              "      <td>2</td>\n",
              "      <td>12</td>\n",
              "      <td>0.22</td>\n",
              "      <td>1</td>\n",
              "      <td>3</td>\n",
              "      <td>3</td>\n",
              "      <td>18</td>\n",
              "      <td>11</td>\n",
              "      <td>7</td>\n",
              "      <td>7</td>\n",
              "      <td>1</td>\n",
              "      <td>0</td>\n",
              "      <td>2</td>\n",
              "      <td>7</td>\n",
              "      <td>139.00</td>\n",
              "      <td>8</td>\n",
              "      <td>51.35</td>\n",
              "      <td>0</td>\n",
              "      <td>4</td>\n",
              "      <td>18.000000</td>\n",
              "      <td>660.553191</td>\n",
              "      <td>16.0</td>\n",
              "    </tr>\n",
              "    <tr>\n",
              "      <th>303</th>\n",
              "      <td>1</td>\n",
              "      <td>9</td>\n",
              "      <td>55.20</td>\n",
              "      <td>1</td>\n",
              "      <td>3</td>\n",
              "      <td>3</td>\n",
              "      <td>16</td>\n",
              "      <td>20</td>\n",
              "      <td>0</td>\n",
              "      <td>7</td>\n",
              "      <td>1</td>\n",
              "      <td>2</td>\n",
              "      <td>6</td>\n",
              "      <td>25</td>\n",
              "      <td>160.75</td>\n",
              "      <td>5</td>\n",
              "      <td>114.97</td>\n",
              "      <td>0</td>\n",
              "      <td>4</td>\n",
              "      <td>12.000000</td>\n",
              "      <td>3871.000000</td>\n",
              "      <td>10.0</td>\n",
              "    </tr>\n",
              "    <tr>\n",
              "      <th>304</th>\n",
              "      <td>1</td>\n",
              "      <td>9</td>\n",
              "      <td>55.20</td>\n",
              "      <td>1</td>\n",
              "      <td>3</td>\n",
              "      <td>3</td>\n",
              "      <td>16</td>\n",
              "      <td>20</td>\n",
              "      <td>0</td>\n",
              "      <td>7</td>\n",
              "      <td>1</td>\n",
              "      <td>2</td>\n",
              "      <td>6</td>\n",
              "      <td>25</td>\n",
              "      <td>45.79</td>\n",
              "      <td>4</td>\n",
              "      <td>30.00</td>\n",
              "      <td>3</td>\n",
              "      <td>4</td>\n",
              "      <td>14.000000</td>\n",
              "      <td>3871.000000</td>\n",
              "      <td>10.0</td>\n",
              "    </tr>\n",
              "  </tbody>\n",
              "</table>\n",
              "<p>108 rows × 22 columns</p>\n",
              "</div>"
            ],
            "text/plain": [
              "     Exit Type  ...  Total duration for Company\n",
              "3            2  ...                         8.0\n",
              "17           2  ...                         6.0\n",
              "18           2  ...                         6.0\n",
              "19           2  ...                         6.0\n",
              "21           2  ...                        13.0\n",
              "..         ...  ...                         ...\n",
              "291          1  ...                        13.0\n",
              "297          2  ...                        16.0\n",
              "298          2  ...                        16.0\n",
              "303          1  ...                        10.0\n",
              "304          1  ...                        10.0\n",
              "\n",
              "[108 rows x 22 columns]"
            ]
          },
          "metadata": {
            "tags": []
          },
          "execution_count": 489
        }
      ]
    },
    {
      "cell_type": "code",
      "metadata": {
        "id": "vyKs3_IdNlZ0"
      },
      "source": [
        "X = dataset.loc[:,dataset.columns!='MOIC']\n",
        "Y = dataset['MOIC']\n",
        "#X1 = dataset.iloc[:, 0:2]\n",
        "#X2 = dataset.iloc[:, 3:-1]\n",
        "#X= pd.concat([X1,X2],axis=1)\n",
        "#Y = dataset.iloc[:,2:3]"
      ],
      "execution_count": 490,
      "outputs": []
    },
    {
      "cell_type": "code",
      "metadata": {
        "colab": {
          "base_uri": "https://localhost:8080/",
          "height": 490
        },
        "id": "Sc93XWtttFog",
        "outputId": "280dcda4-4e0e-49c7-aff9-fb15a25e5df6"
      },
      "source": [
        "X"
      ],
      "execution_count": 491,
      "outputs": [
        {
          "output_type": "execute_result",
          "data": {
            "text/html": [
              "<div>\n",
              "<style scoped>\n",
              "    .dataframe tbody tr th:only-of-type {\n",
              "        vertical-align: middle;\n",
              "    }\n",
              "\n",
              "    .dataframe tbody tr th {\n",
              "        vertical-align: top;\n",
              "    }\n",
              "\n",
              "    .dataframe thead th {\n",
              "        text-align: right;\n",
              "    }\n",
              "</style>\n",
              "<table border=\"1\" class=\"dataframe\">\n",
              "  <thead>\n",
              "    <tr style=\"text-align: right;\">\n",
              "      <th></th>\n",
              "      <th>Exit Type</th>\n",
              "      <th>Last VC Deal Type</th>\n",
              "      <th>Industry Sector</th>\n",
              "      <th>Industry Group</th>\n",
              "      <th>Industry Code</th>\n",
              "      <th>Verticals_x</th>\n",
              "      <th>City</th>\n",
              "      <th>State</th>\n",
              "      <th>Country</th>\n",
              "      <th>Current Financing Status</th>\n",
              "      <th>Current Business Status</th>\n",
              "      <th>Universe</th>\n",
              "      <th>CEO Education</th>\n",
              "      <th>Raised to Date</th>\n",
              "      <th>VC Round</th>\n",
              "      <th>Total Invested Equity</th>\n",
              "      <th>Business Status</th>\n",
              "      <th>Financing Status</th>\n",
              "      <th># Investors</th>\n",
              "      <th>Current Employees</th>\n",
              "      <th>Total duration for Company</th>\n",
              "    </tr>\n",
              "  </thead>\n",
              "  <tbody>\n",
              "    <tr>\n",
              "      <th>3</th>\n",
              "      <td>2</td>\n",
              "      <td>1</td>\n",
              "      <td>1</td>\n",
              "      <td>3</td>\n",
              "      <td>2</td>\n",
              "      <td>13</td>\n",
              "      <td>9</td>\n",
              "      <td>10</td>\n",
              "      <td>7</td>\n",
              "      <td>1</td>\n",
              "      <td>0</td>\n",
              "      <td>7</td>\n",
              "      <td>5</td>\n",
              "      <td>10.10</td>\n",
              "      <td>1</td>\n",
              "      <td>10.10</td>\n",
              "      <td>0</td>\n",
              "      <td>4</td>\n",
              "      <td>2.000000</td>\n",
              "      <td>6.000000</td>\n",
              "      <td>8.0</td>\n",
              "    </tr>\n",
              "    <tr>\n",
              "      <th>17</th>\n",
              "      <td>2</td>\n",
              "      <td>6</td>\n",
              "      <td>1</td>\n",
              "      <td>3</td>\n",
              "      <td>9</td>\n",
              "      <td>1</td>\n",
              "      <td>20</td>\n",
              "      <td>0</td>\n",
              "      <td>7</td>\n",
              "      <td>1</td>\n",
              "      <td>0</td>\n",
              "      <td>7</td>\n",
              "      <td>12</td>\n",
              "      <td>3.30</td>\n",
              "      <td>1</td>\n",
              "      <td>3.30</td>\n",
              "      <td>4</td>\n",
              "      <td>4</td>\n",
              "      <td>6.000000</td>\n",
              "      <td>660.553191</td>\n",
              "      <td>6.0</td>\n",
              "    </tr>\n",
              "    <tr>\n",
              "      <th>18</th>\n",
              "      <td>2</td>\n",
              "      <td>6</td>\n",
              "      <td>1</td>\n",
              "      <td>3</td>\n",
              "      <td>9</td>\n",
              "      <td>1</td>\n",
              "      <td>20</td>\n",
              "      <td>0</td>\n",
              "      <td>7</td>\n",
              "      <td>1</td>\n",
              "      <td>0</td>\n",
              "      <td>7</td>\n",
              "      <td>12</td>\n",
              "      <td>17.80</td>\n",
              "      <td>2</td>\n",
              "      <td>14.50</td>\n",
              "      <td>0</td>\n",
              "      <td>4</td>\n",
              "      <td>3.000000</td>\n",
              "      <td>660.553191</td>\n",
              "      <td>6.0</td>\n",
              "    </tr>\n",
              "    <tr>\n",
              "      <th>19</th>\n",
              "      <td>2</td>\n",
              "      <td>6</td>\n",
              "      <td>1</td>\n",
              "      <td>3</td>\n",
              "      <td>9</td>\n",
              "      <td>1</td>\n",
              "      <td>20</td>\n",
              "      <td>0</td>\n",
              "      <td>7</td>\n",
              "      <td>1</td>\n",
              "      <td>0</td>\n",
              "      <td>7</td>\n",
              "      <td>25</td>\n",
              "      <td>37.80</td>\n",
              "      <td>3</td>\n",
              "      <td>20.00</td>\n",
              "      <td>0</td>\n",
              "      <td>4</td>\n",
              "      <td>8.000000</td>\n",
              "      <td>660.553191</td>\n",
              "      <td>6.0</td>\n",
              "    </tr>\n",
              "    <tr>\n",
              "      <th>21</th>\n",
              "      <td>2</td>\n",
              "      <td>12</td>\n",
              "      <td>1</td>\n",
              "      <td>3</td>\n",
              "      <td>2</td>\n",
              "      <td>18</td>\n",
              "      <td>19</td>\n",
              "      <td>0</td>\n",
              "      <td>7</td>\n",
              "      <td>1</td>\n",
              "      <td>0</td>\n",
              "      <td>0</td>\n",
              "      <td>9</td>\n",
              "      <td>335.00</td>\n",
              "      <td>6</td>\n",
              "      <td>158.00</td>\n",
              "      <td>0</td>\n",
              "      <td>4</td>\n",
              "      <td>20.000000</td>\n",
              "      <td>2062.000000</td>\n",
              "      <td>13.0</td>\n",
              "    </tr>\n",
              "    <tr>\n",
              "      <th>...</th>\n",
              "      <td>...</td>\n",
              "      <td>...</td>\n",
              "      <td>...</td>\n",
              "      <td>...</td>\n",
              "      <td>...</td>\n",
              "      <td>...</td>\n",
              "      <td>...</td>\n",
              "      <td>...</td>\n",
              "      <td>...</td>\n",
              "      <td>...</td>\n",
              "      <td>...</td>\n",
              "      <td>...</td>\n",
              "      <td>...</td>\n",
              "      <td>...</td>\n",
              "      <td>...</td>\n",
              "      <td>...</td>\n",
              "      <td>...</td>\n",
              "      <td>...</td>\n",
              "      <td>...</td>\n",
              "      <td>...</td>\n",
              "      <td>...</td>\n",
              "    </tr>\n",
              "    <tr>\n",
              "      <th>291</th>\n",
              "      <td>1</td>\n",
              "      <td>12</td>\n",
              "      <td>1</td>\n",
              "      <td>3</td>\n",
              "      <td>2</td>\n",
              "      <td>18</td>\n",
              "      <td>22</td>\n",
              "      <td>0</td>\n",
              "      <td>7</td>\n",
              "      <td>1</td>\n",
              "      <td>0</td>\n",
              "      <td>6</td>\n",
              "      <td>45</td>\n",
              "      <td>260.00</td>\n",
              "      <td>6</td>\n",
              "      <td>124.55</td>\n",
              "      <td>0</td>\n",
              "      <td>4</td>\n",
              "      <td>14.000000</td>\n",
              "      <td>200.000000</td>\n",
              "      <td>13.0</td>\n",
              "    </tr>\n",
              "    <tr>\n",
              "      <th>297</th>\n",
              "      <td>2</td>\n",
              "      <td>12</td>\n",
              "      <td>1</td>\n",
              "      <td>3</td>\n",
              "      <td>3</td>\n",
              "      <td>18</td>\n",
              "      <td>11</td>\n",
              "      <td>7</td>\n",
              "      <td>7</td>\n",
              "      <td>1</td>\n",
              "      <td>0</td>\n",
              "      <td>2</td>\n",
              "      <td>10</td>\n",
              "      <td>165.10</td>\n",
              "      <td>9</td>\n",
              "      <td>12.13</td>\n",
              "      <td>0</td>\n",
              "      <td>4</td>\n",
              "      <td>6.879121</td>\n",
              "      <td>660.553191</td>\n",
              "      <td>16.0</td>\n",
              "    </tr>\n",
              "    <tr>\n",
              "      <th>298</th>\n",
              "      <td>2</td>\n",
              "      <td>12</td>\n",
              "      <td>1</td>\n",
              "      <td>3</td>\n",
              "      <td>3</td>\n",
              "      <td>18</td>\n",
              "      <td>11</td>\n",
              "      <td>7</td>\n",
              "      <td>7</td>\n",
              "      <td>1</td>\n",
              "      <td>0</td>\n",
              "      <td>2</td>\n",
              "      <td>7</td>\n",
              "      <td>139.00</td>\n",
              "      <td>8</td>\n",
              "      <td>51.35</td>\n",
              "      <td>0</td>\n",
              "      <td>4</td>\n",
              "      <td>18.000000</td>\n",
              "      <td>660.553191</td>\n",
              "      <td>16.0</td>\n",
              "    </tr>\n",
              "    <tr>\n",
              "      <th>303</th>\n",
              "      <td>1</td>\n",
              "      <td>9</td>\n",
              "      <td>1</td>\n",
              "      <td>3</td>\n",
              "      <td>3</td>\n",
              "      <td>16</td>\n",
              "      <td>20</td>\n",
              "      <td>0</td>\n",
              "      <td>7</td>\n",
              "      <td>1</td>\n",
              "      <td>2</td>\n",
              "      <td>6</td>\n",
              "      <td>25</td>\n",
              "      <td>160.75</td>\n",
              "      <td>5</td>\n",
              "      <td>114.97</td>\n",
              "      <td>0</td>\n",
              "      <td>4</td>\n",
              "      <td>12.000000</td>\n",
              "      <td>3871.000000</td>\n",
              "      <td>10.0</td>\n",
              "    </tr>\n",
              "    <tr>\n",
              "      <th>304</th>\n",
              "      <td>1</td>\n",
              "      <td>9</td>\n",
              "      <td>1</td>\n",
              "      <td>3</td>\n",
              "      <td>3</td>\n",
              "      <td>16</td>\n",
              "      <td>20</td>\n",
              "      <td>0</td>\n",
              "      <td>7</td>\n",
              "      <td>1</td>\n",
              "      <td>2</td>\n",
              "      <td>6</td>\n",
              "      <td>25</td>\n",
              "      <td>45.79</td>\n",
              "      <td>4</td>\n",
              "      <td>30.00</td>\n",
              "      <td>3</td>\n",
              "      <td>4</td>\n",
              "      <td>14.000000</td>\n",
              "      <td>3871.000000</td>\n",
              "      <td>10.0</td>\n",
              "    </tr>\n",
              "  </tbody>\n",
              "</table>\n",
              "<p>108 rows × 21 columns</p>\n",
              "</div>"
            ],
            "text/plain": [
              "     Exit Type  ...  Total duration for Company\n",
              "3            2  ...                         8.0\n",
              "17           2  ...                         6.0\n",
              "18           2  ...                         6.0\n",
              "19           2  ...                         6.0\n",
              "21           2  ...                        13.0\n",
              "..         ...  ...                         ...\n",
              "291          1  ...                        13.0\n",
              "297          2  ...                        16.0\n",
              "298          2  ...                        16.0\n",
              "303          1  ...                        10.0\n",
              "304          1  ...                        10.0\n",
              "\n",
              "[108 rows x 21 columns]"
            ]
          },
          "metadata": {
            "tags": []
          },
          "execution_count": 491
        }
      ]
    },
    {
      "cell_type": "markdown",
      "metadata": {
        "id": "qb_vcgm3qZKW"
      },
      "source": [
        "## Splitting the dataset into the Training set and Test set"
      ]
    },
    {
      "cell_type": "code",
      "metadata": {
        "id": "pXgA6CzlqbCl"
      },
      "source": [
        "from sklearn.model_selection import train_test_split\n",
        "X_train, X_test, y_train, y_test = train_test_split(X, Y, test_size = 0.3, random_state = 786)"
      ],
      "execution_count": 492,
      "outputs": []
    },
    {
      "cell_type": "code",
      "metadata": {
        "colab": {
          "base_uri": "https://localhost:8080/"
        },
        "id": "_Qx0d1A2oir0",
        "outputId": "c2db1e85-9da4-4a2b-8b51-7f3ceae341ad"
      },
      "source": [
        "type(y_test)"
      ],
      "execution_count": 493,
      "outputs": [
        {
          "output_type": "execute_result",
          "data": {
            "text/plain": [
              "pandas.core.series.Series"
            ]
          },
          "metadata": {
            "tags": []
          },
          "execution_count": 493
        }
      ]
    },
    {
      "cell_type": "markdown",
      "metadata": {
        "id": "97yXmXM0H6rt"
      },
      "source": [
        "### Building Models"
      ]
    },
    {
      "cell_type": "markdown",
      "metadata": {
        "id": "ojqNmZfLMzX5"
      },
      "source": [
        "Defining Function for Model Performance evaluation"
      ]
    },
    {
      "cell_type": "code",
      "metadata": {
        "id": "-arlHI2Mjq56"
      },
      "source": [
        "def eval_result(y_train,y_predtrain,y_test,y_predtest):\n",
        "\n",
        "    from sklearn.metrics import mean_squared_error\n",
        "    from sklearn.metrics import mean_absolute_error\n",
        "\n",
        "    rmse_train = mean_squared_error(y_train, y_predtrain, squared=False)\n",
        "    print( f\"RMSE Train error is {rmse_train}\")\n",
        "    rmse_test = mean_squared_error(y_test, y_predtest, squared=False)\n",
        "    print( f\"RMSE Test error is {rmse_test}\")\n",
        "    \n",
        "    mae_train= mean_absolute_error(y_train, y_predtrain)\n",
        "    print( f\"MAE Train error is {mae_train}\")\n",
        "    mae_test= mean_absolute_error(y_test, y_predtest)\n",
        "    print( f\"MAE Test error is {mae_test}\")\n",
        "\n",
        "    RRSE_train = np.sqrt(np.mean((np.square(y_train-y_predtrain))/(np.square(np.mean(y_train)-y_train))))\n",
        "    print( f\"Root relative squared Train error is {RRSE_train}\")\n",
        "    RRSE_test = np.sqrt(np.mean((np.square(y_test-y_predtest))/(np.square(np.mean(y_test)-y_test))))\n",
        "    print( f\"Root relative squared Test error is {RRSE_test}\")\n",
        "\n",
        "\n",
        "    pr1=pd.DataFrame(y_predtest,columns=[\"Pred\"])\n",
        "\n",
        "    #pr1[\"Actual\"]=y_test[\"MOIC\"].values\n",
        "    #print(f\"{pr1}\")\n",
        "    pr1=pd.DataFrame(y_predtest,columns=[\"Pred\"])\n",
        "\n",
        "    pr1[\"Actual\"]=y_test.values\n",
        "\n",
        "    pr1['Percentage error']=((pr1['Actual']-pr1['Pred'])/pr1['Actual'])*100\n",
        "    print(f\"{pr1}\")\n",
        "\n",
        "   \n",
        "  "
      ],
      "execution_count": 494,
      "outputs": []
    },
    {
      "cell_type": "markdown",
      "metadata": {
        "id": "SbzaaNsbuyVn"
      },
      "source": [
        "Linear Regression"
      ]
    },
    {
      "cell_type": "code",
      "metadata": {
        "colab": {
          "base_uri": "https://localhost:8080/"
        },
        "id": "HLrL86Riu0wj",
        "outputId": "3fb1ba94-f9c6-4090-80e9-dd645746fdc5"
      },
      "source": [
        "from sklearn.linear_model import LinearRegression\n",
        "multlin_model = LinearRegression()\n",
        "multlin_model.fit(X_train,y_train)\n",
        "\n"
      ],
      "execution_count": 495,
      "outputs": [
        {
          "output_type": "execute_result",
          "data": {
            "text/plain": [
              "LinearRegression(copy_X=True, fit_intercept=True, n_jobs=None, normalize=False)"
            ]
          },
          "metadata": {
            "tags": []
          },
          "execution_count": 495
        }
      ]
    },
    {
      "cell_type": "markdown",
      "metadata": {
        "id": "3f9hOkC998Rt"
      },
      "source": [
        "Predicting result"
      ]
    },
    {
      "cell_type": "code",
      "metadata": {
        "id": "AhYO5lIb9-WZ"
      },
      "source": [
        "y_predtestlin= multlin_model.predict(X_test)\n",
        "\n",
        "y_predtrainlin = multlin_model.predict(X_train)\n"
      ],
      "execution_count": 496,
      "outputs": []
    },
    {
      "cell_type": "code",
      "metadata": {
        "colab": {
          "base_uri": "https://localhost:8080/"
        },
        "id": "wEXeNnSiYo5H",
        "outputId": "17772de8-af6c-4c01-f4ff-ee4750d7d274"
      },
      "source": [
        "y_predtrain.mean(axis=0)"
      ],
      "execution_count": 497,
      "outputs": [
        {
          "output_type": "execute_result",
          "data": {
            "text/plain": [
              "8.667906976744186"
            ]
          },
          "metadata": {
            "tags": []
          },
          "execution_count": 497
        }
      ]
    },
    {
      "cell_type": "markdown",
      "metadata": {
        "id": "stovwINEICNA"
      },
      "source": [
        "evaluating model performance"
      ]
    },
    {
      "cell_type": "code",
      "metadata": {
        "id": "KnLXVo77Q_U1",
        "colab": {
          "base_uri": "https://localhost:8080/"
        },
        "outputId": "bb3c5e9f-7171-49a9-f624-e2ec7aa5900c"
      },
      "source": [
        "eval_result(y_train,y_predtrainlin,y_test,y_predtestlin)"
      ],
      "execution_count": 498,
      "outputs": [
        {
          "output_type": "stream",
          "text": [
            "RMSE Train error is 6.288412488413297\n",
            "RMSE Test error is 9.758267744532821\n",
            "MAE Train error is 4.998247937893425\n",
            "MAE Test error is 7.013794504312805\n",
            "Root relative squared Train error is 2.0643904016970764\n",
            "Root relative squared Test error is 16.329789696597427\n",
            "         Pred  Actual  Percentage error\n",
            "0   14.841751   12.00        -23.681260\n",
            "1   -3.342388    4.06        182.324822\n",
            "2   12.694275   12.00         -5.785628\n",
            "3   10.160373    3.05       -233.126999\n",
            "4    7.099888    3.65        -94.517476\n",
            "5   -0.238073    2.27        110.487783\n",
            "6    5.277213    0.73       -622.905949\n",
            "7    6.174830   18.53         66.676577\n",
            "8   -9.458996    0.22       4399.543762\n",
            "9   22.383075    9.92       -125.635837\n",
            "10   6.731615    2.70       -149.319067\n",
            "11  10.388181    3.65       -184.607686\n",
            "12  22.340247   48.52         53.956621\n",
            "13   6.033666    5.77         -4.569601\n",
            "14   3.650832    5.97         38.847030\n",
            "15  25.868030   21.29        -21.503196\n",
            "16   6.689785   12.39         46.006574\n",
            "17  -0.756544    2.27        133.327935\n",
            "18  -0.348118    2.27        115.335608\n",
            "19   1.426565    4.72         69.776156\n",
            "20  -1.306064    5.81        122.479594\n",
            "21  13.059350    3.03       -331.001660\n",
            "22  -1.546717    3.37        145.896650\n",
            "23  12.512873    3.03       -312.966110\n",
            "24  15.275608    9.92        -53.987985\n",
            "25   9.632422    3.34       -188.395879\n",
            "26  -1.183571    2.27        152.139687\n",
            "27   3.695102    5.35         30.932665\n",
            "28  15.135224   48.52         68.806217\n",
            "29   0.417476    3.03         86.221907\n",
            "30  42.764985   58.00         26.267268\n",
            "31   0.703991    4.72         85.084943\n",
            "32  -0.335464    5.77        105.813931\n"
          ],
          "name": "stdout"
        }
      ]
    },
    {
      "cell_type": "code",
      "metadata": {
        "colab": {
          "base_uri": "https://localhost:8080/"
        },
        "id": "m3nAoyVvX010",
        "outputId": "bb2afb73-d7b0-4093-e976-e40066ddc205"
      },
      "source": [
        "# get importance\n",
        "importance_lin = multlin_model.coef_\n",
        "print(multlin_model.coef_,X.columns)\n",
        "coef_dict = dict(zip(X.columns,importance_lin))\n",
        "\n"
      ],
      "execution_count": 499,
      "outputs": [
        {
          "output_type": "stream",
          "text": [
            "[ 4.03153972e+00 -4.67062826e-01  7.21860381e+00  2.37880499e+00\n",
            " -2.23489296e-01  7.24532253e-01  3.46196917e-01 -5.71112568e-01\n",
            " -7.83603377e-01  1.05598407e+01  5.95561251e+00 -5.07020027e-04\n",
            "  9.72458298e-02 -1.62831210e-02 -7.42320728e-02  2.49159440e-02\n",
            "  1.01231856e+00  4.94892350e-01 -5.91070387e-01  1.02582110e-02\n",
            " -9.83684145e-01] Index(['Exit Type', 'Last VC Deal Type', 'Industry Sector', 'Industry Group',\n",
            "       'Industry Code', 'Verticals_x', 'City', 'State', 'Country',\n",
            "       'Current Financing Status', 'Current Business Status', 'Universe',\n",
            "       'CEO Education', 'Raised to Date', 'VC Round', 'Total Invested Equity',\n",
            "       'Business Status', 'Financing Status', '# Investors',\n",
            "       'Current Employees', 'Total duration for Company'],\n",
            "      dtype='object')\n"
          ],
          "name": "stdout"
        }
      ]
    },
    {
      "cell_type": "markdown",
      "metadata": {
        "id": "6ihUtG8Zmw3G"
      },
      "source": [
        "Ridge Regression\n",
        "\n",
        "---\n",
        "\n"
      ]
    },
    {
      "cell_type": "code",
      "metadata": {
        "id": "K8ZJpuYBmmky"
      },
      "source": [
        "from sklearn.metrics import r2_score\n",
        "from sklearn.linear_model import Ridge\n",
        "#from sklearn.model_selection import cross_val_score\n",
        "#from sklearn.model_selection import RepeatedKFold\n",
        "from sklearn.model_selection import GridSearchCV\n",
        "\n",
        "from numpy import absolute\n",
        "from numpy import mean\n",
        "from numpy import std\n",
        "import numpy as np\n",
        "import math\n",
        "\n",
        "\n",
        "# define grid\n",
        "grid = dict()\n",
        "grid['alpha'] = np.arange(0, 1, 0.01)\n",
        "\n",
        "# ridge regression\n",
        "\n",
        "ridge_model= Ridge()\n",
        "\n",
        "\n",
        "ridge_regressor=GridSearchCV(ridge_model, grid, scoring='neg_mean_squared_error',cv=10, return_train_score=True, verbose=0)\n",
        "results=ridge_regressor.fit(X_train,y_train)"
      ],
      "execution_count": 500,
      "outputs": []
    },
    {
      "cell_type": "code",
      "metadata": {
        "id": "Bw5rypy7gsIS",
        "colab": {
          "base_uri": "https://localhost:8080/"
        },
        "outputId": "2b3a2c37-05f1-4a34-c167-6bf5003a2c66"
      },
      "source": [
        "print('RMSE: %.3f' % math.sqrt(abs(results.best_score_))) ##  mean square error\n",
        "print('Config: %s' % results.best_params_)   # printing best alpha"
      ],
      "execution_count": 501,
      "outputs": [
        {
          "output_type": "stream",
          "text": [
            "RMSE: 10.904\n",
            "Config: {'alpha': 0.99}\n"
          ],
          "name": "stdout"
        }
      ]
    },
    {
      "cell_type": "code",
      "metadata": {
        "id": "hppNb9euk26G"
      },
      "source": [
        "\n",
        "ridge_model= Ridge(alpha=0.11)\n",
        "ridge_model.fit(X_train,y_train)\n",
        "y_predtrainridge= ridge_model.predict(X_train)\n",
        "\n",
        "\n"
      ],
      "execution_count": 502,
      "outputs": []
    },
    {
      "cell_type": "code",
      "metadata": {
        "id": "9oqPqZ_OnBbA"
      },
      "source": [
        "y_predtestridge= ridge_model.predict(X_test)\n",
        "\n"
      ],
      "execution_count": 503,
      "outputs": []
    },
    {
      "cell_type": "markdown",
      "metadata": {
        "id": "_fqBNhQKIHr1"
      },
      "source": [
        "Evaluating model performance"
      ]
    },
    {
      "cell_type": "code",
      "metadata": {
        "colab": {
          "base_uri": "https://localhost:8080/"
        },
        "id": "aQEJ_G2-kwug",
        "outputId": "ec66450a-2e6c-47b2-e76c-a1bf02e27aec"
      },
      "source": [
        "eval_result(y_train,y_predtrainridge,y_test,y_predtestridge)"
      ],
      "execution_count": 504,
      "outputs": [
        {
          "output_type": "stream",
          "text": [
            "RMSE Train error is 6.289971216132029\n",
            "RMSE Test error is 9.849752586766245\n",
            "MAE Train error is 5.010751310016792\n",
            "MAE Test error is 7.051687457457255\n",
            "Root relative squared Train error is 2.059452443761608\n",
            "Root relative squared Test error is 16.369218527060237\n",
            "         Pred  Actual  Percentage error\n",
            "0   14.852776   12.00        -23.773134\n",
            "1   -3.303876    4.06        181.376244\n",
            "2   12.493842   12.00         -4.115348\n",
            "3   10.113940    3.05       -231.604577\n",
            "4    7.056860    3.65        -93.338617\n",
            "5   -0.232898    2.27        110.259822\n",
            "6    5.190863    0.73       -611.077104\n",
            "7    6.253659   18.53         66.251168\n",
            "8   -9.566409    0.22       4448.367646\n",
            "9   22.385018    9.92       -125.655428\n",
            "10   6.891394    2.70       -155.236804\n",
            "11  10.216855    3.65       -179.913834\n",
            "12  22.072468   48.52         54.508516\n",
            "13   6.114300    5.77         -5.967067\n",
            "14   3.666484    5.97         38.584863\n",
            "15  25.914748   21.29        -21.722628\n",
            "16   6.554965   12.39         47.094712\n",
            "17  -0.727568    2.27        132.051442\n",
            "18  -0.332142    2.27        114.631811\n",
            "19   1.504146    4.72         68.132502\n",
            "20  -1.471561    5.81        125.328068\n",
            "21  13.248988    3.03       -337.260335\n",
            "22  -1.600557    3.37        147.494267\n",
            "23  12.711815    3.03       -319.531846\n",
            "24  15.353017    9.92        -54.768319\n",
            "25   9.731955    3.34       -191.375884\n",
            "26  -1.144818    2.27        150.432502\n",
            "27   3.679763    5.35         31.219375\n",
            "28  14.797691   48.52         69.501873\n",
            "29   0.604620    3.03         80.045535\n",
            "30  42.310899   58.00         27.050174\n",
            "31   0.798930    4.72         83.073512\n",
            "32  -0.313115    5.77        105.426612\n"
          ],
          "name": "stdout"
        }
      ]
    },
    {
      "cell_type": "code",
      "metadata": {
        "colab": {
          "base_uri": "https://localhost:8080/"
        },
        "id": "XXshft1tfL6e",
        "outputId": "38093860-c58d-4ef0-b473-f04cabc98e6d"
      },
      "source": [
        "# get importance\n",
        "importance_ridge = ridge_model.coef_\n",
        "print(ridge_model.coef_,X.columns)\n",
        "coef_dict = dict(zip(X.columns,importance_ridge))\n",
        "\n"
      ],
      "execution_count": 505,
      "outputs": [
        {
          "output_type": "stream",
          "text": [
            "[ 3.67217813e+00 -4.77333797e-01  6.19535027e+00  2.35747935e+00\n",
            " -2.16199518e-01  7.28262622e-01  3.39776168e-01 -5.73788735e-01\n",
            " -7.92425579e-01  1.01224875e+01  5.71841736e+00 -5.03890907e-03\n",
            "  9.70719458e-02 -1.63306162e-02 -5.81529616e-02  2.46175190e-02\n",
            "  1.05034634e+00  5.79481064e-01 -5.83685751e-01  1.02892403e-02\n",
            " -1.01213321e+00] Index(['Exit Type', 'Last VC Deal Type', 'Industry Sector', 'Industry Group',\n",
            "       'Industry Code', 'Verticals_x', 'City', 'State', 'Country',\n",
            "       'Current Financing Status', 'Current Business Status', 'Universe',\n",
            "       'CEO Education', 'Raised to Date', 'VC Round', 'Total Invested Equity',\n",
            "       'Business Status', 'Financing Status', '# Investors',\n",
            "       'Current Employees', 'Total duration for Company'],\n",
            "      dtype='object')\n"
          ],
          "name": "stdout"
        }
      ]
    },
    {
      "cell_type": "code",
      "metadata": {
        "id": "9Ly_3soIs6gA"
      },
      "source": [
        "#ridge_regressor.cv_results_"
      ],
      "execution_count": 506,
      "outputs": []
    },
    {
      "cell_type": "markdown",
      "metadata": {
        "id": "V6-2q0mdzKdM"
      },
      "source": [
        "### Lasso Regression"
      ]
    },
    {
      "cell_type": "code",
      "metadata": {
        "id": "rHBheeFomSoe",
        "colab": {
          "base_uri": "https://localhost:8080/"
        },
        "outputId": "d2796940-c1ad-4ca4-8628-b1f12766fca9"
      },
      "source": [
        "from sklearn.linear_model import Lasso\n",
        "\n",
        "\n",
        "lasso_model= Lasso()\n",
        "\n",
        "\n",
        "lasso_regressor=GridSearchCV(lasso_model, grid, scoring='neg_mean_squared_error',cv=10, return_train_score=True, verbose=0)\n",
        "results=lasso_regressor.fit(X_train,y_train)"
      ],
      "execution_count": 507,
      "outputs": [
        {
          "output_type": "stream",
          "text": [
            "/usr/local/lib/python3.7/dist-packages/sklearn/model_selection/_validation.py:515: UserWarning: With alpha=0, this algorithm does not converge well. You are advised to use the LinearRegression estimator\n",
            "  estimator.fit(X_train, y_train, **fit_params)\n",
            "/usr/local/lib/python3.7/dist-packages/sklearn/linear_model/_coordinate_descent.py:476: UserWarning: Coordinate descent with no regularization may lead to unexpected results and is discouraged.\n",
            "  positive)\n",
            "/usr/local/lib/python3.7/dist-packages/sklearn/linear_model/_coordinate_descent.py:476: ConvergenceWarning: Objective did not converge. You might want to increase the number of iterations. Duality gap: 1331.2147429490444, tolerance: 1.1582055071641792\n",
            "  positive)\n",
            "/usr/local/lib/python3.7/dist-packages/sklearn/model_selection/_validation.py:515: UserWarning: With alpha=0, this algorithm does not converge well. You are advised to use the LinearRegression estimator\n",
            "  estimator.fit(X_train, y_train, **fit_params)\n",
            "/usr/local/lib/python3.7/dist-packages/sklearn/linear_model/_coordinate_descent.py:476: UserWarning: Coordinate descent with no regularization may lead to unexpected results and is discouraged.\n",
            "  positive)\n",
            "/usr/local/lib/python3.7/dist-packages/sklearn/linear_model/_coordinate_descent.py:476: ConvergenceWarning: Objective did not converge. You might want to increase the number of iterations. Duality gap: 1284.8312380840302, tolerance: 1.1644625791044778\n",
            "  positive)\n",
            "/usr/local/lib/python3.7/dist-packages/sklearn/model_selection/_validation.py:515: UserWarning: With alpha=0, this algorithm does not converge well. You are advised to use the LinearRegression estimator\n",
            "  estimator.fit(X_train, y_train, **fit_params)\n",
            "/usr/local/lib/python3.7/dist-packages/sklearn/linear_model/_coordinate_descent.py:476: UserWarning: Coordinate descent with no regularization may lead to unexpected results and is discouraged.\n",
            "  positive)\n",
            "/usr/local/lib/python3.7/dist-packages/sklearn/linear_model/_coordinate_descent.py:476: ConvergenceWarning: Objective did not converge. You might want to increase the number of iterations. Duality gap: 1255.6066358811704, tolerance: 1.1424553710447762\n",
            "  positive)\n",
            "/usr/local/lib/python3.7/dist-packages/sklearn/model_selection/_validation.py:515: UserWarning: With alpha=0, this algorithm does not converge well. You are advised to use the LinearRegression estimator\n",
            "  estimator.fit(X_train, y_train, **fit_params)\n",
            "/usr/local/lib/python3.7/dist-packages/sklearn/linear_model/_coordinate_descent.py:476: UserWarning: Coordinate descent with no regularization may lead to unexpected results and is discouraged.\n",
            "  positive)\n",
            "/usr/local/lib/python3.7/dist-packages/sklearn/linear_model/_coordinate_descent.py:476: ConvergenceWarning: Objective did not converge. You might want to increase the number of iterations. Duality gap: 1190.3691283704009, tolerance: 0.9506956504477613\n",
            "  positive)\n",
            "/usr/local/lib/python3.7/dist-packages/sklearn/model_selection/_validation.py:515: UserWarning: With alpha=0, this algorithm does not converge well. You are advised to use the LinearRegression estimator\n",
            "  estimator.fit(X_train, y_train, **fit_params)\n",
            "/usr/local/lib/python3.7/dist-packages/sklearn/linear_model/_coordinate_descent.py:476: UserWarning: Coordinate descent with no regularization may lead to unexpected results and is discouraged.\n",
            "  positive)\n",
            "/usr/local/lib/python3.7/dist-packages/sklearn/linear_model/_coordinate_descent.py:476: ConvergenceWarning: Objective did not converge. You might want to increase the number of iterations. Duality gap: 1195.7581022556542, tolerance: 1.1501967602985075\n",
            "  positive)\n",
            "/usr/local/lib/python3.7/dist-packages/sklearn/model_selection/_validation.py:515: UserWarning: With alpha=0, this algorithm does not converge well. You are advised to use the LinearRegression estimator\n",
            "  estimator.fit(X_train, y_train, **fit_params)\n",
            "/usr/local/lib/python3.7/dist-packages/sklearn/linear_model/_coordinate_descent.py:476: UserWarning: Coordinate descent with no regularization may lead to unexpected results and is discouraged.\n",
            "  positive)\n",
            "/usr/local/lib/python3.7/dist-packages/sklearn/linear_model/_coordinate_descent.py:476: ConvergenceWarning: Objective did not converge. You might want to increase the number of iterations. Duality gap: 1125.9239340465992, tolerance: 1.1545091447058828\n",
            "  positive)\n",
            "/usr/local/lib/python3.7/dist-packages/sklearn/model_selection/_validation.py:515: UserWarning: With alpha=0, this algorithm does not converge well. You are advised to use the LinearRegression estimator\n",
            "  estimator.fit(X_train, y_train, **fit_params)\n",
            "/usr/local/lib/python3.7/dist-packages/sklearn/linear_model/_coordinate_descent.py:476: UserWarning: Coordinate descent with no regularization may lead to unexpected results and is discouraged.\n",
            "  positive)\n",
            "/usr/local/lib/python3.7/dist-packages/sklearn/linear_model/_coordinate_descent.py:476: ConvergenceWarning: Objective did not converge. You might want to increase the number of iterations. Duality gap: 1188.3802728586172, tolerance: 1.1682967305882355\n",
            "  positive)\n",
            "/usr/local/lib/python3.7/dist-packages/sklearn/model_selection/_validation.py:515: UserWarning: With alpha=0, this algorithm does not converge well. You are advised to use the LinearRegression estimator\n",
            "  estimator.fit(X_train, y_train, **fit_params)\n",
            "/usr/local/lib/python3.7/dist-packages/sklearn/linear_model/_coordinate_descent.py:476: UserWarning: Coordinate descent with no regularization may lead to unexpected results and is discouraged.\n",
            "  positive)\n",
            "/usr/local/lib/python3.7/dist-packages/sklearn/linear_model/_coordinate_descent.py:476: ConvergenceWarning: Objective did not converge. You might want to increase the number of iterations. Duality gap: 1368.1240882804711, tolerance: 1.1504518698529413\n",
            "  positive)\n",
            "/usr/local/lib/python3.7/dist-packages/sklearn/model_selection/_validation.py:515: UserWarning: With alpha=0, this algorithm does not converge well. You are advised to use the LinearRegression estimator\n",
            "  estimator.fit(X_train, y_train, **fit_params)\n",
            "/usr/local/lib/python3.7/dist-packages/sklearn/linear_model/_coordinate_descent.py:476: UserWarning: Coordinate descent with no regularization may lead to unexpected results and is discouraged.\n",
            "  positive)\n",
            "/usr/local/lib/python3.7/dist-packages/sklearn/linear_model/_coordinate_descent.py:476: ConvergenceWarning: Objective did not converge. You might want to increase the number of iterations. Duality gap: 1103.1916183218866, tolerance: 0.9403774852941179\n",
            "  positive)\n",
            "/usr/local/lib/python3.7/dist-packages/sklearn/model_selection/_validation.py:515: UserWarning: With alpha=0, this algorithm does not converge well. You are advised to use the LinearRegression estimator\n",
            "  estimator.fit(X_train, y_train, **fit_params)\n",
            "/usr/local/lib/python3.7/dist-packages/sklearn/linear_model/_coordinate_descent.py:476: UserWarning: Coordinate descent with no regularization may lead to unexpected results and is discouraged.\n",
            "  positive)\n",
            "/usr/local/lib/python3.7/dist-packages/sklearn/linear_model/_coordinate_descent.py:476: ConvergenceWarning: Objective did not converge. You might want to increase the number of iterations. Duality gap: 1337.8442173249628, tolerance: 0.762621017647059\n",
            "  positive)\n"
          ],
          "name": "stderr"
        }
      ]
    },
    {
      "cell_type": "code",
      "metadata": {
        "id": "KANY6gFmosAJ",
        "colab": {
          "base_uri": "https://localhost:8080/"
        },
        "outputId": "a351e882-cf64-4dc2-e0b5-d29cd894a0d2"
      },
      "source": [
        "print('MSE: %.3f' % math.sqrt(abs(results.best_score_)))  ## mean square error\n",
        "print(' %s' % results.best_params_)   # printing best alpha"
      ],
      "execution_count": 508,
      "outputs": [
        {
          "output_type": "stream",
          "text": [
            "MSE: 10.773\n",
            " {'alpha': 0.2}\n"
          ],
          "name": "stdout"
        }
      ]
    },
    {
      "cell_type": "code",
      "metadata": {
        "id": "YTvr2kOKn7IE"
      },
      "source": [
        "lasso_model= Lasso(alpha=0.85)\n",
        "lasso_model.fit(X_train,y_train)\n",
        "y_predtrainlasso= lasso_model.predict(X_train)\n",
        "\n"
      ],
      "execution_count": 509,
      "outputs": []
    },
    {
      "cell_type": "code",
      "metadata": {
        "id": "jY7U_GuKyM4F"
      },
      "source": [
        "y_predtestlasso= ridge_model.predict(X_test)\n"
      ],
      "execution_count": 510,
      "outputs": []
    },
    {
      "cell_type": "markdown",
      "metadata": {
        "id": "lPfccdiCIPPr"
      },
      "source": [
        "Evaluating model performance"
      ]
    },
    {
      "cell_type": "code",
      "metadata": {
        "colab": {
          "base_uri": "https://localhost:8080/"
        },
        "id": "qV45jwsClHEm",
        "outputId": "4303c5c5-2d2e-4fab-b5dd-c2b9fa984a40"
      },
      "source": [
        "eval_result(y_train,y_predtrainlasso,y_test,y_predtestlasso)"
      ],
      "execution_count": 511,
      "outputs": [
        {
          "output_type": "stream",
          "text": [
            "RMSE Train error is 7.17807267187785\n",
            "RMSE Test error is 9.849752586766245\n",
            "MAE Train error is 5.141724795090167\n",
            "MAE Test error is 7.051687457457255\n",
            "Root relative squared Train error is 1.6939366174183808\n",
            "Root relative squared Test error is 16.369218527060237\n",
            "         Pred  Actual  Percentage error\n",
            "0   14.852776   12.00        -23.773134\n",
            "1   -3.303876    4.06        181.376244\n",
            "2   12.493842   12.00         -4.115348\n",
            "3   10.113940    3.05       -231.604577\n",
            "4    7.056860    3.65        -93.338617\n",
            "5   -0.232898    2.27        110.259822\n",
            "6    5.190863    0.73       -611.077104\n",
            "7    6.253659   18.53         66.251168\n",
            "8   -9.566409    0.22       4448.367646\n",
            "9   22.385018    9.92       -125.655428\n",
            "10   6.891394    2.70       -155.236804\n",
            "11  10.216855    3.65       -179.913834\n",
            "12  22.072468   48.52         54.508516\n",
            "13   6.114300    5.77         -5.967067\n",
            "14   3.666484    5.97         38.584863\n",
            "15  25.914748   21.29        -21.722628\n",
            "16   6.554965   12.39         47.094712\n",
            "17  -0.727568    2.27        132.051442\n",
            "18  -0.332142    2.27        114.631811\n",
            "19   1.504146    4.72         68.132502\n",
            "20  -1.471561    5.81        125.328068\n",
            "21  13.248988    3.03       -337.260335\n",
            "22  -1.600557    3.37        147.494267\n",
            "23  12.711815    3.03       -319.531846\n",
            "24  15.353017    9.92        -54.768319\n",
            "25   9.731955    3.34       -191.375884\n",
            "26  -1.144818    2.27        150.432502\n",
            "27   3.679763    5.35         31.219375\n",
            "28  14.797691   48.52         69.501873\n",
            "29   0.604620    3.03         80.045535\n",
            "30  42.310899   58.00         27.050174\n",
            "31   0.798930    4.72         83.073512\n",
            "32  -0.313115    5.77        105.426612\n"
          ],
          "name": "stdout"
        }
      ]
    },
    {
      "cell_type": "code",
      "metadata": {
        "colab": {
          "base_uri": "https://localhost:8080/"
        },
        "id": "AnoDzawYhwu7",
        "outputId": "54458fe3-075d-4972-8b60-d23b65465ab1"
      },
      "source": [
        "# get importance\n",
        "importance_lasso = lasso_model.coef_\n",
        "print(lasso_model.coef_,X.columns)\n",
        "coef_dict = dict(zip(X.columns,importance_lasso))\n"
      ],
      "execution_count": 512,
      "outputs": [
        {
          "output_type": "stream",
          "text": [
            "[-0.         -0.4985883   0.          0.         -0.05196932  0.72022397\n",
            "  0.20321424 -0.52299565 -0.75017922  0.52805656  2.07492353 -0.\n",
            "  0.06611589 -0.01696911  0.00639651  0.02154343  0.62806592  0.10491012\n",
            " -0.41278825  0.01082676 -1.18819822] Index(['Exit Type', 'Last VC Deal Type', 'Industry Sector', 'Industry Group',\n",
            "       'Industry Code', 'Verticals_x', 'City', 'State', 'Country',\n",
            "       'Current Financing Status', 'Current Business Status', 'Universe',\n",
            "       'CEO Education', 'Raised to Date', 'VC Round', 'Total Invested Equity',\n",
            "       'Business Status', 'Financing Status', '# Investors',\n",
            "       'Current Employees', 'Total duration for Company'],\n",
            "      dtype='object')\n"
          ],
          "name": "stdout"
        }
      ]
    },
    {
      "cell_type": "code",
      "metadata": {
        "id": "QTyxYjFP5WW-",
        "colab": {
          "base_uri": "https://localhost:8080/"
        },
        "outputId": "7d35dd78-69b6-4d47-9e98-79eb9cb0c365"
      },
      "source": [
        "# Read out attributes\n",
        "coeffs = lasso_model.coef_         # dense np.array\n",
        "\n",
        "coeffs\n",
        "\n"
      ],
      "execution_count": 513,
      "outputs": [
        {
          "output_type": "execute_result",
          "data": {
            "text/plain": [
              "array([-0.        , -0.4985883 ,  0.        ,  0.        , -0.05196932,\n",
              "        0.72022397,  0.20321424, -0.52299565, -0.75017922,  0.52805656,\n",
              "        2.07492353, -0.        ,  0.06611589, -0.01696911,  0.00639651,\n",
              "        0.02154343,  0.62806592,  0.10491012, -0.41278825,  0.01082676,\n",
              "       -1.18819822])"
            ]
          },
          "metadata": {
            "tags": []
          },
          "execution_count": 513
        }
      ]
    },
    {
      "cell_type": "markdown",
      "metadata": {
        "id": "Ql9dnWmVzdFq"
      },
      "source": [
        "### XGBOOST"
      ]
    },
    {
      "cell_type": "code",
      "metadata": {
        "id": "8cACT8Z-zjv0",
        "colab": {
          "base_uri": "https://localhost:8080/"
        },
        "outputId": "23bda23a-93cc-4547-8502-c0dd85648388"
      },
      "source": [
        "# Train and test set are converted to DMatrix objects, \n",
        "# as it is required by learning API. \n",
        "import xgboost as xg \n",
        "\n",
        "\n",
        "train_dmatrix = xg.DMatrix(data = X_train, label = y_train) \n",
        "test_dmatrix = xg.DMatrix(data = X_test, label = y_test) \n",
        "  \n",
        "# Parameter dictionary specifying base learner \n",
        "param = {\"booster\":\"gbtree\", \"objective\":\"reg:linear\"} \n",
        "  \n",
        "xgb_r = xg.train(params = param, dtrain = train_dmatrix, num_boost_round = 10) \n",
        "\n",
        "  \n"
      ],
      "execution_count": 514,
      "outputs": [
        {
          "output_type": "stream",
          "text": [
            "[00:12:16] WARNING: /workspace/src/objective/regression_obj.cu:152: reg:linear is now deprecated in favor of reg:squarederror.\n"
          ],
          "name": "stdout"
        }
      ]
    },
    {
      "cell_type": "markdown",
      "metadata": {
        "id": "YCmYaM8qIgKd"
      },
      "source": [
        "Predicting results"
      ]
    },
    {
      "cell_type": "code",
      "metadata": {
        "id": "0FYcZNinIdaW"
      },
      "source": [
        "y_trainpredxg =xgb_r.predict(train_dmatrix)\n",
        "y_testpredxg = xgb_r.predict(test_dmatrix) "
      ],
      "execution_count": 515,
      "outputs": []
    },
    {
      "cell_type": "markdown",
      "metadata": {
        "id": "VLTHM9VQEbjb"
      },
      "source": [
        "Model Performance evaluation"
      ]
    },
    {
      "cell_type": "code",
      "metadata": {
        "id": "MrQyd_UcY6H6",
        "colab": {
          "base_uri": "https://localhost:8080/"
        },
        "outputId": "272d24ff-4ccf-4c59-800e-680fbbcdf10f"
      },
      "source": [
        " eval_result(y_train,y_trainpredxg,y_test,y_testpredxg)"
      ],
      "execution_count": 516,
      "outputs": [
        {
          "output_type": "stream",
          "text": [
            "RMSE Train error is 2.352606567747909\n",
            "RMSE Test error is 11.682321747182423\n",
            "MAE Train error is 1.5701009716033938\n",
            "MAE Test error is 5.354422651348692\n",
            "Root relative squared Train error is 0.532645704073358\n",
            "Root relative squared Test error is 1.882848554127096\n",
            "         Pred  Actual  Percentage error\n",
            "0    7.516166   12.00         37.365286\n",
            "1    4.555648    4.06        -12.208087\n",
            "2    3.227591   12.00         73.103408\n",
            "3    2.833658    3.05          7.093189\n",
            "4    6.117943    3.65        -67.614872\n",
            "5   11.361911    2.27       -400.524706\n",
            "6    8.049671    0.73      -1002.694681\n",
            "7   10.393645   18.53         43.909092\n",
            "8    3.202147    0.22      -1355.521258\n",
            "9    9.552689    9.92          3.702736\n",
            "10   3.486668    2.70        -29.135838\n",
            "11   4.942832    3.65        -35.420055\n",
            "12   3.999825   48.52         91.756337\n",
            "13   5.203037    5.77          9.826052\n",
            "14   5.852349    5.97          1.970699\n",
            "15  19.097511   21.29         10.298209\n",
            "16  11.675318   12.39          5.768218\n",
            "17   5.478376    2.27       -141.338167\n",
            "18   8.470161    2.27       -273.134865\n",
            "19   6.567378    4.72        -39.139365\n",
            "20   7.915172    5.81        -36.233591\n",
            "21   4.080256    3.03        -34.661898\n",
            "22   4.662525    3.37        -38.353863\n",
            "23   4.080256    3.03        -34.661898\n",
            "24   8.649369    9.92         12.808778\n",
            "25   2.724711    3.34         18.421835\n",
            "26   5.478376    2.27       -141.338167\n",
            "27   5.902313    5.35        -10.323612\n",
            "28   3.999825   48.52         91.756337\n",
            "29   4.080256    3.03        -34.661898\n",
            "30  46.214588   58.00         20.319676\n",
            "31   6.567378    4.72        -39.139365\n",
            "32   5.203037    5.77          9.826052\n"
          ],
          "name": "stdout"
        }
      ]
    },
    {
      "cell_type": "code",
      "metadata": {
        "colab": {
          "base_uri": "https://localhost:8080/"
        },
        "id": "cJdKUq387V73",
        "outputId": "3a9f7192-469f-4762-ff94-ce59033ce53f"
      },
      "source": [
        "y_trainpredxg.mean(axis=0)"
      ],
      "execution_count": 517,
      "outputs": [
        {
          "output_type": "execute_result",
          "data": {
            "text/plain": [
              "9.744038"
            ]
          },
          "metadata": {
            "tags": []
          },
          "execution_count": 517
        }
      ]
    },
    {
      "cell_type": "code",
      "metadata": {
        "id": "pMXBuqVDHrPZ",
        "outputId": "88cb924a-a4e8-4d16-cb21-8aaa11585302",
        "colab": {
          "base_uri": "https://localhost:8080/"
        }
      },
      "source": [
        "xgb_r.get_score(importance_type='weight')\n"
      ],
      "execution_count": 518,
      "outputs": [
        {
          "output_type": "execute_result",
          "data": {
            "text/plain": [
              "{'# Investors': 1,\n",
              " 'CEO Education': 9,\n",
              " 'City': 2,\n",
              " 'Country': 5,\n",
              " 'Current Employees': 21,\n",
              " 'Exit Type': 13,\n",
              " 'Industry Code': 6,\n",
              " 'Industry Group': 3,\n",
              " 'Last VC Deal Type': 8,\n",
              " 'Raised to Date': 14,\n",
              " 'State': 2,\n",
              " 'Total Invested Equity': 2,\n",
              " 'Total duration for Company': 5,\n",
              " 'Universe': 2,\n",
              " 'VC Round': 4,\n",
              " 'Verticals_x': 5}"
            ]
          },
          "metadata": {
            "tags": []
          },
          "execution_count": 518
        }
      ]
    }
  ]
}
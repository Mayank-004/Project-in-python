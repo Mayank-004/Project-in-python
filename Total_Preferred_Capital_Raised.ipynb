{
  "nbformat": 4,
  "nbformat_minor": 0,
  "metadata": {
    "kernelspec": {
      "display_name": "Python 3",
      "language": "python",
      "name": "python3"
    },
    "language_info": {
      "codemirror_mode": {
        "name": "ipython",
        "version": 3
      },
      "file_extension": ".py",
      "mimetype": "text/x-python",
      "name": "python",
      "nbconvert_exporter": "python",
      "pygments_lexer": "ipython3",
      "version": "3.8.5"
    },
    "colab": {
      "name": "Total Preferred Capital Raised.ipynb",
      "provenance": [],
      "include_colab_link": true
    }
  },
  "cells": [
    {
      "cell_type": "markdown",
      "metadata": {
        "id": "view-in-github",
        "colab_type": "text"
      },
      "source": [
        "<a href=\"https://colab.research.google.com/github/Mayank-004/VC-Industry-Predictive-analysis/blob/main/Total_Preferred_Capital_Raised.ipynb\" target=\"_parent\"><img src=\"https://colab.research.google.com/assets/colab-badge.svg\" alt=\"Open In Colab\"/></a>"
      ]
    },
    {
      "cell_type": "code",
      "metadata": {
        "id": "kNC__tBqbAjE"
      },
      "source": [
        "import numpy as np\n",
        "import pandas as pd\n",
        "import matplotlib.pyplot as plt\n",
        "import seaborn as sn\n",
        "from sklearn.preprocessing import StandardScaler\n",
        "from sklearn.model_selection import GridSearchCV\n",
        "from sklearn.linear_model import LinearRegression\n",
        "from sklearn.linear_model import Ridge\n",
        "from sklearn.linear_model import Lasso\n",
        "from sklearn.linear_model import ElasticNet\n",
        "from xgboost.sklearn import XGBRegressor\n",
        "import xgboost as xgb\n",
        "from sklearn.ensemble import RandomForestRegressor\n",
        "from sklearn.model_selection import KFold\n",
        "from sklearn.metrics import mean_squared_error\n",
        "from sklearn.metrics import mean_absolute_error\n",
        "from sklearn.neighbors import KNeighborsRegressor\n",
        "from sklearn.svm import SVR\n",
        "from sklearn.preprocessing import LabelEncoder"
      ],
      "execution_count": 34,
      "outputs": []
    },
    {
      "cell_type": "markdown",
      "metadata": {
        "id": "9plfswA_bAjJ"
      },
      "source": [
        "# Load data"
      ]
    },
    {
      "cell_type": "code",
      "metadata": {
        "id": "J99FoQn-bAjK"
      },
      "source": [
        "path1 = 'https://raw.githubusercontent.com/Carloszone/ALY-6080/main/NE%20%20VC%20Backed%20Exits%20DevOps%20(VC%20Exits).csv'\n",
        "path2 = 'https://raw.githubusercontent.com/Carloszone/ALY-6080/main/NE%20%20VC%20Backed%20Exits%20DevOps%20(return%20by%20series).csv'\n",
        "path3 = 'https://raw.githubusercontent.com/Carloszone/ALY-6080/main/NE%20Devops%20dataset%20all-fields.csv'\n",
        "\n",
        "df_vc = pd.read_csv(path1)\n",
        "df_return = pd.read_csv(path2)\n",
        "df_all = pd.read_csv(path3)"
      ],
      "execution_count": 35,
      "outputs": []
    },
    {
      "cell_type": "code",
      "metadata": {
        "id": "fGCW7FurbAjK"
      },
      "source": [
        "# rename the CompanyID in df_all\n",
        "df_all = df_all.rename(columns={\"Company ID\": \"Company PBID\"})"
      ],
      "execution_count": 36,
      "outputs": []
    },
    {
      "cell_type": "markdown",
      "metadata": {
        "id": "ooenKJkebAjK"
      },
      "source": [
        "# Pre-processing"
      ]
    },
    {
      "cell_type": "code",
      "metadata": {
        "id": "a-cMVbPibAjL"
      },
      "source": [
        "# remove all NA in column Company PBID\n",
        "df_vc = df_vc.dropna(subset = ['Company PBID'])\n",
        "df_return = df_return.dropna(subset = ['Company PBID'])\n",
        "df_all = df_all.dropna(subset = ['Company PBID'])"
      ],
      "execution_count": 37,
      "outputs": []
    },
    {
      "cell_type": "code",
      "metadata": {
        "id": "Jbqt_EyrbAjL"
      },
      "source": [
        "# remove the addiditonal signal for all availiavle values in df_vc\n",
        "df_vc['MOIC'][df_vc['MOIC'].notna()] = df_vc['MOIC'][df_vc['MOIC'].notna()].str.replace(\"x\",\"\")\n",
        "df_vc['Exit Size (millions)'][df_vc['Exit Size (millions)'].notna()] = df_vc['Exit Size (millions)'][df_vc['Exit Size (millions)'].notna()].str.replace(\"$\",\"\")\n",
        "df_vc['Pre Value (millions)'][df_vc['Pre Value (millions)'].notna()] = df_vc['Pre Value (millions)'][df_vc['Pre Value (millions)'].notna()].str.replace(\"$\",\"\")\n",
        "df_vc['Post Value (millions)'][df_vc['Post Value (millions)'].notna()] = df_vc['Post Value (millions)'][df_vc['Post Value (millions)'].notna()].str.replace(\"$\",\"\")\n",
        "df_vc['Total VC Capital Raised ($M)***'][df_vc['Total VC Capital Raised ($M)***'].notna()] = df_vc['Total VC Capital Raised ($M)***'][df_vc['Total VC Capital Raised ($M)***'].notna()].str.replace(\"$\",\"\")\n",
        "df_vc['Total Preferred Capital Raised ($M)*'][df_vc['Total Preferred Capital Raised ($M)*'].notna()] = df_vc['Total Preferred Capital Raised ($M)*'][df_vc['Total Preferred Capital Raised ($M)*'].notna()].str.replace(\"$\",\"\")\n",
        "df_vc['Total Preferred Capital Raised ($M) - Combination**'][df_vc['Total Preferred Capital Raised ($M) - Combination**'].notna()] = df_vc['Total Preferred Capital Raised ($M) - Combination**'][df_vc['Total Preferred Capital Raised ($M) - Combination**'].notna()].str.replace(\"$\",\"\")\n",
        "\n",
        "df_vc['Exit Size (millions)'][df_vc['Exit Size (millions)'].notna()] = df_vc['Exit Size (millions)'][df_vc['Exit Size (millions)'].notna()].str.replace(\",\",\"\")\n",
        "df_vc['Pre Value (millions)'][df_vc['Pre Value (millions)'].notna()] = df_vc['Pre Value (millions)'][df_vc['Pre Value (millions)'].notna()].str.replace(\",\",\"\")\n",
        "df_vc['Post Value (millions)'][df_vc['Post Value (millions)'].notna()] = df_vc['Post Value (millions)'][df_vc['Post Value (millions)'].notna()].str.replace(\",\",\"\")\n",
        "df_vc['Total VC Capital Raised ($M)***'][df_vc['Total VC Capital Raised ($M)***'].notna()] = df_vc['Total VC Capital Raised ($M)***'][df_vc['Total VC Capital Raised ($M)***'].notna()].str.replace(\",\",\"\")\n",
        "df_vc['Total Preferred Capital Raised ($M)*'][df_vc['Total Preferred Capital Raised ($M)*'].notna()] = df_vc['Total Preferred Capital Raised ($M)*'][df_vc['Total Preferred Capital Raised ($M)*'].notna()].str.replace(\",\",\"\")\n",
        "df_vc['Total Preferred Capital Raised ($M) - Combination**'][df_vc['Total Preferred Capital Raised ($M) - Combination**'].notna()] = df_vc['Total Preferred Capital Raised ($M) - Combination**'][df_vc['Total Preferred Capital Raised ($M) - Combination**'].notna()].str.replace(\",\",\"\")\n",
        "\n",
        "df_vc['% Preferred Capital Raised*'][df_vc['% Preferred Capital Raised*'].notna()] = df_vc['% Preferred Capital Raised*'][df_vc['% Preferred Capital Raised*'].notna()].str.replace(\"%\",\"\")\n",
        "df_vc['% Preferred Capital Raised - Combination**'][df_vc['% Preferred Capital Raised - Combination**'].notna()] = df_vc['% Preferred Capital Raised - Combination**'][df_vc['% Preferred Capital Raised - Combination**'].notna()].str.replace(\"%\",\"\")"
      ],
      "execution_count": 38,
      "outputs": []
    },
    {
      "cell_type": "code",
      "metadata": {
        "id": "nVsZPD50bAjM"
      },
      "source": [
        "# # remove the addiditonal signal for all availiavle values in df_all\n",
        "df_all['Raised to Date'] = df_all['Raised to Date'].str.replace(\",\",\"\")\n",
        "df_all['Current Employees'] = df_all['Current Employees'].str.replace(\",\",\"\")"
      ],
      "execution_count": 39,
      "outputs": []
    },
    {
      "cell_type": "code",
      "metadata": {
        "id": "cAgYucWNbAjM"
      },
      "source": [
        "# transform data type in df_vc\n",
        "df_vc.loc[:,'Exit Size (millions)'] = df_vc.loc[:,'Exit Size (millions)'].astype(float)\n",
        "df_vc.loc[:,'Pre Value (millions)'] = df_vc.loc[:,'Pre Value (millions)'].astype(float)\n",
        "df_vc.loc[:,'Post Value (millions)'] = df_vc.loc[:,'Post Value (millions)'].astype(float)\n",
        "df_vc.loc[:,'Total VC Capital Raised ($M)***'] = df_vc.loc[:,'Total VC Capital Raised ($M)***'].astype(float)\n",
        "df_vc.loc[:,'Total Preferred Capital Raised ($M)*'] = df_vc.loc[:,'Total Preferred Capital Raised ($M)*'].astype(float)\n",
        "df_vc.loc[:,'% Preferred Capital Raised*'] = df_vc.loc[:,'% Preferred Capital Raised*'].astype(float)\n",
        "df_vc.loc[:,'Total Preferred Capital Raised ($M) - Combination**'] = df_vc.loc[:,'Total Preferred Capital Raised ($M) - Combination**'].astype(float)\n",
        "df_vc.loc[:,'% Preferred Capital Raised - Combination**'] = df_vc.loc[:,'% Preferred Capital Raised - Combination**'].astype(float)\n",
        "df_vc.loc[:,'MOIC'] = df_vc.loc[:,'MOIC'].astype(float)\n",
        "\n",
        "# transform data type in df_all\n",
        "df_all.loc[:,'Raised to Date'] = df_all.loc[:,'Raised to Date'].astype(float)\n",
        "df_all.loc[:,'Current Employees'] = df_all.loc[:,'Current Employees'].astype(float)"
      ],
      "execution_count": 40,
      "outputs": []
    },
    {
      "cell_type": "markdown",
      "metadata": {
        "id": "djLw4DuVbAjM"
      },
      "source": [
        "# Merge datasets and create a new df"
      ]
    },
    {
      "cell_type": "code",
      "metadata": {
        "id": "BFI7-hypbAjM"
      },
      "source": [
        "# merge dataset\n",
        "df = df_all.merge(df_vc.loc[df_vc['Total VC Capital Raised ($M)***'].notna(),:], how = 'inner', on = 'Company PBID')"
      ],
      "execution_count": 41,
      "outputs": []
    },
    {
      "cell_type": "code",
      "metadata": {
        "id": "XTGn_UCPbAjN"
      },
      "source": [
        "# set Total VC Capital Raised as the first columns\n",
        "newcol = df['Total VC Capital Raised ($M)***']\n",
        "df = df.drop('Total VC Capital Raised ($M)***', axis = 1)\n",
        "df.insert(loc=0, column='Total VC Capital Raised ($M)***', value=newcol)"
      ],
      "execution_count": 42,
      "outputs": []
    },
    {
      "cell_type": "code",
      "metadata": {
        "id": "YgqJX4X3bAjN"
      },
      "source": [
        "# locate and drop all columns that missing value percent >30%\n",
        "# check missing value in df\n",
        "missing = df.isna().sum().sort_values(ascending = False)\n",
        "percent_missing = ((missing / df.isnull().count()) * 100).sort_values(ascending = False)\n",
        "missing_df = pd.concat([missing,percent_missing], axis = 1, keys = ['Total', 'Percent'],sort = False)\n",
        "missing_df = missing_df.reset_index()\n",
        "over30 = list(missing_df.loc[missing_df['Percent'] >= 30,'index'])"
      ],
      "execution_count": 43,
      "outputs": []
    },
    {
      "cell_type": "code",
      "metadata": {
        "id": "TqtqK5m2bAjN"
      },
      "source": [
        "# drop all columns that missing value percent is over 30%\n",
        "df = df.drop(over30, axis = 1)"
      ],
      "execution_count": 44,
      "outputs": []
    },
    {
      "cell_type": "code",
      "metadata": {
        "id": "nvvAnxuqbAjN"
      },
      "source": [
        "# based on unqie value table, drop columns\n",
        "droplist = ['Deal ID', 'Company PBID', 'Primary Industry Code', 'All Industries', 'Keywords', \n",
        "            'CEO PBId', 'Deal ID.1', 'Deal Status', 'HQ Location', 'Company City','Company State/Province', \n",
        "            'Company Post Code', 'Industry Code', 'Verticals_y', 'City', 'State', 'VC Round', 'Financing Status']\n",
        "\n",
        "# drop columns\n",
        "df = df.drop(droplist, axis = 1)"
      ],
      "execution_count": 45,
      "outputs": []
    },
    {
      "cell_type": "markdown",
      "metadata": {
        "id": "Tj7WrDoNbAjO"
      },
      "source": [
        "# Fill missing values"
      ]
    },
    {
      "cell_type": "code",
      "metadata": {
        "colab": {
          "base_uri": "https://localhost:8080/",
          "height": 328
        },
        "id": "5_oZI0EebAjO",
        "outputId": "678f31b7-bb34-4570-c7e3-be050ae812f8"
      },
      "source": [
        "# check missing value in df\n",
        "missing = df.isna().sum().sort_values(ascending = False)\n",
        "percent_missing = ((missing / df.isnull().count()) * 100).sort_values(ascending = False)\n",
        "missing_df = pd.concat([missing,percent_missing], axis = 1, keys = ['Total', 'Percent'],sort = False)\n",
        "missing_df[missing_df['Total'] >= 1]"
      ],
      "execution_count": 46,
      "outputs": [
        {
          "output_type": "execute_result",
          "data": {
            "text/html": [
              "<div>\n",
              "<style scoped>\n",
              "    .dataframe tbody tr th:only-of-type {\n",
              "        vertical-align: middle;\n",
              "    }\n",
              "\n",
              "    .dataframe tbody tr th {\n",
              "        vertical-align: top;\n",
              "    }\n",
              "\n",
              "    .dataframe thead th {\n",
              "        text-align: right;\n",
              "    }\n",
              "</style>\n",
              "<table border=\"1\" class=\"dataframe\">\n",
              "  <thead>\n",
              "    <tr style=\"text-align: right;\">\n",
              "      <th></th>\n",
              "      <th>Total</th>\n",
              "      <th>Percent</th>\n",
              "    </tr>\n",
              "  </thead>\n",
              "  <tbody>\n",
              "    <tr>\n",
              "      <th># New Investors</th>\n",
              "      <td>58</td>\n",
              "      <td>20.567376</td>\n",
              "    </tr>\n",
              "    <tr>\n",
              "      <th>Total Invested Equity</th>\n",
              "      <td>56</td>\n",
              "      <td>19.858156</td>\n",
              "    </tr>\n",
              "    <tr>\n",
              "      <th>CEO Education</th>\n",
              "      <td>52</td>\n",
              "      <td>18.439716</td>\n",
              "    </tr>\n",
              "    <tr>\n",
              "      <th>Deal Size Status</th>\n",
              "      <td>45</td>\n",
              "      <td>15.957447</td>\n",
              "    </tr>\n",
              "    <tr>\n",
              "      <th>Deal Size</th>\n",
              "      <td>43</td>\n",
              "      <td>15.248227</td>\n",
              "    </tr>\n",
              "    <tr>\n",
              "      <th># Investors</th>\n",
              "      <td>37</td>\n",
              "      <td>13.120567</td>\n",
              "    </tr>\n",
              "    <tr>\n",
              "      <th>Current Employees</th>\n",
              "      <td>35</td>\n",
              "      <td>12.411348</td>\n",
              "    </tr>\n",
              "    <tr>\n",
              "      <th>Raised to Date</th>\n",
              "      <td>9</td>\n",
              "      <td>3.191489</td>\n",
              "    </tr>\n",
              "    <tr>\n",
              "      <th>Year Founded</th>\n",
              "      <td>5</td>\n",
              "      <td>1.773050</td>\n",
              "    </tr>\n",
              "  </tbody>\n",
              "</table>\n",
              "</div>"
            ],
            "text/plain": [
              "                       Total    Percent\n",
              "# New Investors           58  20.567376\n",
              "Total Invested Equity     56  19.858156\n",
              "CEO Education             52  18.439716\n",
              "Deal Size Status          45  15.957447\n",
              "Deal Size                 43  15.248227\n",
              "# Investors               37  13.120567\n",
              "Current Employees         35  12.411348\n",
              "Raised to Date             9   3.191489\n",
              "Year Founded               5   1.773050"
            ]
          },
          "metadata": {
            "tags": []
          },
          "execution_count": 46
        }
      ]
    },
    {
      "cell_type": "code",
      "metadata": {
        "id": "p7ttGWG8bAjO"
      },
      "source": [
        "# fill missing values\n",
        "\n",
        "df['# New Investors'] = df['# New Investors'].fillna(int(df['# New Investors'].mean()))\n",
        "df['Total Invested Equity'] = df['Total Invested Equity'].fillna(df['Total Invested Equity'].mean())\n",
        "df['CEO Education'] = df['CEO Education'].fillna('O')\n",
        "df['Deal Size Status'] = df['Deal Size Status'].fillna('Missing')\n",
        "df['Deal Size'] = df['Deal Size'].fillna(df['Deal Size'].mean())\n",
        "df['# Investors'] = df['# Investors'].fillna(int(df['# Investors'].mean()))\n",
        "df['Current Employees'] = df['Current Employees'].fillna(int(df['Current Employees'].mean()))\n",
        "df['Raised to Date'] = df['Raised to Date'].fillna(df['Raised to Date'].mean())\n",
        "df['Year Founded'] = df['Year Founded'].fillna(2013)"
      ],
      "execution_count": 47,
      "outputs": []
    },
    {
      "cell_type": "markdown",
      "metadata": {
        "id": "PyfPtCi_bAjP"
      },
      "source": [
        "# Features transform"
      ]
    },
    {
      "cell_type": "code",
      "metadata": {
        "id": "3x43aX7SbAjP"
      },
      "source": [
        "#transform \"Deal Date\"\n",
        "df['Deal Date'] = df['Deal Date'].str.extract(pat='([0-9]+$)')\n",
        "df.loc[:,'Deal Date'] = df.loc[:,'Deal Date'].astype(float)\n",
        "#transform \"Exit Date\"\n",
        "df['Exit Date'] = df['Exit Date'].str.extract(pat='^([0-9]+)')\n",
        "\n",
        "df['CompanyAge'] = 2021 - df['Year Founded']"
      ],
      "execution_count": 48,
      "outputs": []
    },
    {
      "cell_type": "code",
      "metadata": {
        "colab": {
          "base_uri": "https://localhost:8080/",
          "height": 683
        },
        "id": "bJmqfnW8bAjP",
        "outputId": "30d2058e-7295-42b5-d064-3ee4539f0530"
      },
      "source": [
        "df.head()"
      ],
      "execution_count": 49,
      "outputs": [
        {
          "output_type": "execute_result",
          "data": {
            "text/html": [
              "<div>\n",
              "<style scoped>\n",
              "    .dataframe tbody tr th:only-of-type {\n",
              "        vertical-align: middle;\n",
              "    }\n",
              "\n",
              "    .dataframe tbody tr th {\n",
              "        vertical-align: top;\n",
              "    }\n",
              "\n",
              "    .dataframe thead th {\n",
              "        text-align: right;\n",
              "    }\n",
              "</style>\n",
              "<table border=\"1\" class=\"dataframe\">\n",
              "  <thead>\n",
              "    <tr style=\"text-align: right;\">\n",
              "      <th></th>\n",
              "      <th>Total VC Capital Raised ($M)***</th>\n",
              "      <th>Primary Industry Sector</th>\n",
              "      <th>Primary Industry Group</th>\n",
              "      <th>Verticals_x</th>\n",
              "      <th>Current Financing Status</th>\n",
              "      <th>Current Business Status</th>\n",
              "      <th>Universe</th>\n",
              "      <th>CEO Education</th>\n",
              "      <th>Deal No.</th>\n",
              "      <th>Deal Date</th>\n",
              "      <th>Deal Size</th>\n",
              "      <th>Deal Size Status</th>\n",
              "      <th>Raised to Date</th>\n",
              "      <th>Deal Type</th>\n",
              "      <th>Deal Class</th>\n",
              "      <th>Total Invested Equity</th>\n",
              "      <th>Business Status</th>\n",
              "      <th># Investors</th>\n",
              "      <th># New Investors</th>\n",
              "      <th>Current Employees</th>\n",
              "      <th>Native Currency of Deal</th>\n",
              "      <th>HQ Global Region</th>\n",
              "      <th>HQ Global Sub Region</th>\n",
              "      <th>Company Country</th>\n",
              "      <th>Year Founded</th>\n",
              "      <th>Exit Date</th>\n",
              "      <th>Exit Type</th>\n",
              "      <th>Last VC Deal Type</th>\n",
              "      <th>Industry Sector</th>\n",
              "      <th>Industry Group</th>\n",
              "      <th>Country</th>\n",
              "      <th>CompanyAge</th>\n",
              "    </tr>\n",
              "  </thead>\n",
              "  <tbody>\n",
              "    <tr>\n",
              "      <th>0</th>\n",
              "      <td>0.70</td>\n",
              "      <td>Information Technology</td>\n",
              "      <td>Software</td>\n",
              "      <td>CloudTech &amp; DevOps, SaaS, TMT</td>\n",
              "      <td>Formerly VC-backed</td>\n",
              "      <td>Generating Revenue</td>\n",
              "      <td>Venture Capital</td>\n",
              "      <td>BA (Bachelor of Arts), 2005, Business &amp; Marketing</td>\n",
              "      <td>1</td>\n",
              "      <td>2016.0</td>\n",
              "      <td>0.7</td>\n",
              "      <td>Actual</td>\n",
              "      <td>0.70</td>\n",
              "      <td>Early Stage VC</td>\n",
              "      <td>Venture Capital</td>\n",
              "      <td>0.7</td>\n",
              "      <td>Product In Beta Test</td>\n",
              "      <td>2.0</td>\n",
              "      <td>2.0</td>\n",
              "      <td>4.0</td>\n",
              "      <td>US Dollars (USD)</td>\n",
              "      <td>Middle East</td>\n",
              "      <td>Middle East</td>\n",
              "      <td>Israel</td>\n",
              "      <td>2015.0</td>\n",
              "      <td>2017</td>\n",
              "      <td>Merger/Acquisition</td>\n",
              "      <td>Early Stage VC</td>\n",
              "      <td>Information Technology</td>\n",
              "      <td>Software</td>\n",
              "      <td>Israel</td>\n",
              "      <td>6.0</td>\n",
              "    </tr>\n",
              "    <tr>\n",
              "      <th>1</th>\n",
              "      <td>10.10</td>\n",
              "      <td>Information Technology</td>\n",
              "      <td>Software</td>\n",
              "      <td>CloudTech &amp; DevOps, SaaS</td>\n",
              "      <td>Formerly VC-backed</td>\n",
              "      <td>Generating Revenue</td>\n",
              "      <td>Venture Capital</td>\n",
              "      <td>BS (Bachelor of Science), 1996, Computer Scien...</td>\n",
              "      <td>1</td>\n",
              "      <td>2015.0</td>\n",
              "      <td>10.1</td>\n",
              "      <td>Actual</td>\n",
              "      <td>10.10</td>\n",
              "      <td>Early Stage VC</td>\n",
              "      <td>Venture Capital</td>\n",
              "      <td>10.1</td>\n",
              "      <td>Generating Revenue</td>\n",
              "      <td>1.0</td>\n",
              "      <td>1.0</td>\n",
              "      <td>6.0</td>\n",
              "      <td>US Dollars (USD)</td>\n",
              "      <td>Americas</td>\n",
              "      <td>North America</td>\n",
              "      <td>United States</td>\n",
              "      <td>2013.0</td>\n",
              "      <td>2019</td>\n",
              "      <td>Merger/Acquisition</td>\n",
              "      <td>Early Stage VC</td>\n",
              "      <td>Information Technology</td>\n",
              "      <td>Software</td>\n",
              "      <td>United States</td>\n",
              "      <td>8.0</td>\n",
              "    </tr>\n",
              "    <tr>\n",
              "      <th>2</th>\n",
              "      <td>2.00</td>\n",
              "      <td>Information Technology</td>\n",
              "      <td>Software</td>\n",
              "      <td>Artificial Intelligence &amp; Machine Learning, Cl...</td>\n",
              "      <td>Formerly VC-backed</td>\n",
              "      <td>Startup</td>\n",
              "      <td>Venture Capital</td>\n",
              "      <td>MS (Master of Science), 2005, Computer Science</td>\n",
              "      <td>1</td>\n",
              "      <td>2016.0</td>\n",
              "      <td>2.0</td>\n",
              "      <td>Actual</td>\n",
              "      <td>2.00</td>\n",
              "      <td>Seed Round</td>\n",
              "      <td>Venture Capital</td>\n",
              "      <td>2.0</td>\n",
              "      <td>Startup</td>\n",
              "      <td>2.0</td>\n",
              "      <td>2.0</td>\n",
              "      <td>50.0</td>\n",
              "      <td>US Dollars (USD)</td>\n",
              "      <td>Europe</td>\n",
              "      <td>Eastern Europe</td>\n",
              "      <td>Belarus</td>\n",
              "      <td>2016.0</td>\n",
              "      <td>2017</td>\n",
              "      <td>Merger/Acquisition</td>\n",
              "      <td>Seed Round</td>\n",
              "      <td>Information Technology</td>\n",
              "      <td>Software</td>\n",
              "      <td>Belarus</td>\n",
              "      <td>5.0</td>\n",
              "    </tr>\n",
              "    <tr>\n",
              "      <th>3</th>\n",
              "      <td>1.15</td>\n",
              "      <td>Business Products and Services (B2B)</td>\n",
              "      <td>Commercial Services</td>\n",
              "      <td>CloudTech &amp; DevOps, Marketing Tech, Mobile, Sa...</td>\n",
              "      <td>Formerly VC-backed</td>\n",
              "      <td>Product Development</td>\n",
              "      <td>Venture Capital</td>\n",
              "      <td>University of California, Berkeley, BS (Bachel...</td>\n",
              "      <td>5</td>\n",
              "      <td>2015.0</td>\n",
              "      <td>1.0</td>\n",
              "      <td>Actual</td>\n",
              "      <td>1.15</td>\n",
              "      <td>Seed Round</td>\n",
              "      <td>Venture Capital</td>\n",
              "      <td>1.0</td>\n",
              "      <td>Product Development</td>\n",
              "      <td>2.0</td>\n",
              "      <td>1.0</td>\n",
              "      <td>6.0</td>\n",
              "      <td>US Dollars (USD)</td>\n",
              "      <td>Americas</td>\n",
              "      <td>North America</td>\n",
              "      <td>United States</td>\n",
              "      <td>2012.0</td>\n",
              "      <td>2015</td>\n",
              "      <td>Merger/Acquisition</td>\n",
              "      <td>Seed Round</td>\n",
              "      <td>Business Products and Services (B2B)</td>\n",
              "      <td>Commercial Services</td>\n",
              "      <td>United States</td>\n",
              "      <td>9.0</td>\n",
              "    </tr>\n",
              "    <tr>\n",
              "      <th>4</th>\n",
              "      <td>68.24</td>\n",
              "      <td>Information Technology</td>\n",
              "      <td>Software</td>\n",
              "      <td>CloudTech &amp; DevOps, Cybersecurity, SaaS, TMT</td>\n",
              "      <td>Private Equity-Backed</td>\n",
              "      <td>Profitable</td>\n",
              "      <td>Debt Financed, Private Equity, Venture Capital</td>\n",
              "      <td>Michigan State University, BS (Bachelor of Sci...</td>\n",
              "      <td>9</td>\n",
              "      <td>2016.0</td>\n",
              "      <td>3.5</td>\n",
              "      <td>Actual</td>\n",
              "      <td>78.23</td>\n",
              "      <td>Later Stage VC</td>\n",
              "      <td>Venture Capital</td>\n",
              "      <td>3.5</td>\n",
              "      <td>Generating Revenue</td>\n",
              "      <td>4.0</td>\n",
              "      <td>2.0</td>\n",
              "      <td>117.0</td>\n",
              "      <td>US Dollars (USD)</td>\n",
              "      <td>Americas</td>\n",
              "      <td>North America</td>\n",
              "      <td>United States</td>\n",
              "      <td>2001.0</td>\n",
              "      <td>2016</td>\n",
              "      <td>Buyout/LBO</td>\n",
              "      <td>Series H</td>\n",
              "      <td>Information Technology</td>\n",
              "      <td>Software</td>\n",
              "      <td>United States</td>\n",
              "      <td>20.0</td>\n",
              "    </tr>\n",
              "  </tbody>\n",
              "</table>\n",
              "</div>"
            ],
            "text/plain": [
              "   Total VC Capital Raised ($M)***  ... CompanyAge\n",
              "0                             0.70  ...        6.0\n",
              "1                            10.10  ...        8.0\n",
              "2                             2.00  ...        5.0\n",
              "3                             1.15  ...        9.0\n",
              "4                            68.24  ...       20.0\n",
              "\n",
              "[5 rows x 32 columns]"
            ]
          },
          "metadata": {
            "tags": []
          },
          "execution_count": 49
        }
      ]
    },
    {
      "cell_type": "markdown",
      "metadata": {
        "id": "YrEHvWM6bAjP"
      },
      "source": [
        "# EDA"
      ]
    },
    {
      "cell_type": "code",
      "metadata": {
        "colab": {
          "base_uri": "https://localhost:8080/",
          "height": 514
        },
        "id": "cDT4_9gibAjP",
        "outputId": "c446c344-d20d-486a-98b7-2e7bba462d37"
      },
      "source": [
        "# check MOIC's distribution\n",
        "sn.boxplot(y=df[\"Total VC Capital Raised ($M)***\"])\n",
        "plt.show()\n",
        "sn.histplot(df, x ='Total VC Capital Raised ($M)***')\n",
        "plt.show()"
      ],
      "execution_count": 50,
      "outputs": [
        {
          "output_type": "display_data",
          "data": {
            "image/png": "[encoded data removed]",
            "text/plain": [
              "<Figure size 432x288 with 1 Axes>"
            ]
          },
          "metadata": {
            "tags": [],
            "needs_background": "light"
          }
        },
        {
          "output_type": "display_data",
          "data": {
            "image/png": "[encoded data removed]",
            "text/plain": [
              "<Figure size 432x288 with 1 Axes>"
            ]
          },
          "metadata": {
            "tags": [],
            "needs_background": "light"
          }
        }
      ]
    },
    {
      "cell_type": "code",
      "metadata": {
        "colab": {
          "base_uri": "https://localhost:8080/",
          "height": 415
        },
        "id": "zCbZU_4pbAjP",
        "outputId": "bc20001a-6ed8-4a5f-e4f2-ca77c481ba13"
      },
      "source": [
        "# create correlation metrix\n",
        "corrMatrix = df.loc[:,['Total VC Capital Raised ($M)***', 'Deal No.', 'Deal Size', 'Raised to Date', 'Total Invested Equity', '# Investors', \n",
        "                       '# New Investors', 'CompanyAge', 'Current Employees']].corr()\n",
        "sn.heatmap(corrMatrix, annot=True)\n",
        "plt.show()"
      ],
      "execution_count": 51,
      "outputs": [
        {
          "output_type": "display_data",
          "data": {
            "image/png": "[encoded data removed]",
            "text/plain": [
              "<Figure size 432x288 with 2 Axes>"
            ]
          },
          "metadata": {
            "tags": [],
            "needs_background": "light"
          }
        }
      ]
    },
    {
      "cell_type": "code",
      "metadata": {
        "colab": {
          "base_uri": "https://localhost:8080/"
        },
        "id": "la1icP-0bAjQ",
        "outputId": "51f2670a-acfd-43de-9956-c3d1c5631e29"
      },
      "source": [
        "df.columns"
      ],
      "execution_count": 52,
      "outputs": [
        {
          "output_type": "execute_result",
          "data": {
            "text/plain": [
              "Index(['Total VC Capital Raised ($M)***', 'Primary Industry Sector',\n",
              "       'Primary Industry Group', 'Verticals_x', 'Current Financing Status',\n",
              "       'Current Business Status', 'Universe', 'CEO Education', 'Deal No.',\n",
              "       'Deal Date', 'Deal Size', 'Deal Size Status', 'Raised to Date',\n",
              "       'Deal Type', 'Deal Class', 'Total Invested Equity', 'Business Status',\n",
              "       '# Investors', '# New Investors', 'Current Employees',\n",
              "       'Native Currency of Deal', 'HQ Global Region', 'HQ Global Sub Region',\n",
              "       'Company Country', 'Year Founded', 'Exit Date', 'Exit Type',\n",
              "       'Last VC Deal Type', 'Industry Sector', 'Industry Group', 'Country',\n",
              "       'CompanyAge'],\n",
              "      dtype='object')"
            ]
          },
          "metadata": {
            "tags": []
          },
          "execution_count": 52
        }
      ]
    },
    {
      "cell_type": "markdown",
      "metadata": {
        "id": "Ds33WDQnbAjQ"
      },
      "source": [
        "# Feature engineering"
      ]
    },
    {
      "cell_type": "code",
      "metadata": {
        "id": "mLY_npN5bAjQ"
      },
      "source": [
        "def generate_features(data):\n",
        "    le= LabelEncoder()\n",
        "    data = data.loc[:,['Total VC Capital Raised ($M)***', 'Primary Industry Sector', 'Current Employees', 'Country', 'CompanyAge', 'Last VC Deal Type',\n",
        "                                    'Raised to Date', \"Primary Industry Group\"]]\n",
        "    data['Primary Industry Sector'] = le.fit_transform(data['Primary Industry Sector'])\n",
        "    data['Last VC Deal Type'] = le.fit_transform(data['Last VC Deal Type'])\n",
        "    data['Country'] = le.fit_transform(data['Country'])\n",
        "    data['Primary Industry Group'] = le.fit_transform(data['Primary Industry Group'])\n",
        "    return(data)"
      ],
      "execution_count": 53,
      "outputs": []
    },
    {
      "cell_type": "code",
      "metadata": {
        "id": "xn4jZpbfbAjQ"
      },
      "source": [
        "df2 = generate_features(df)"
      ],
      "execution_count": 54,
      "outputs": []
    },
    {
      "cell_type": "code",
      "metadata": {
        "id": "FYM3nAJ7bAjQ"
      },
      "source": [
        "def error(y_true, y_pred):\n",
        "    pred_err_squared = mean_squared_error(y_true,y_pred,squared = 1, multioutput = 'raw_values')\n",
        "    total_err_squared = (y_true - np.mean(y_true)) ** 2\n",
        "    return(np.sqrt(np.sum(pred_err_squared)/np.sum(total_err_squared))*100)"
      ],
      "execution_count": 55,
      "outputs": []
    },
    {
      "cell_type": "code",
      "metadata": {
        "id": "RXV6n0V3bAjQ"
      },
      "source": [
        "def scores(model_list,train_x, train_y, test_x, test_y):\n",
        "    model_names = []\n",
        "    train_score = []\n",
        "    model_score = []\n",
        "    train_mse = []\n",
        "    model_mse = []\n",
        "    train_mae = []\n",
        "    model_mae = []\n",
        "    train_error = []\n",
        "    test_error = []\n",
        "    train_x = np.array(train_x)\n",
        "    train_y = np.array(train_y)\n",
        "    test_x = np.array(test_x)\n",
        "    test_y = np.array(test_y)\n",
        "\n",
        "    for model in model_list:\n",
        "        model.fit(train_x, train_y)\n",
        "        model_names.append(model)\n",
        "        train_score.append(model.score(train_x, train_y))\n",
        "        model_score.append(model.score(test_x, test_y))\n",
        "        train_mse.append(mean_squared_error(train_y,model.predict(train_x),squared = 1))\n",
        "        model_mse.append(mean_squared_error(test_y,model.predict(test_x),squared = 1))\n",
        "        train_mae.append(mean_absolute_error(train_y, model.predict(train_x)))\n",
        "        model_mae.append(mean_absolute_error(test_y, model.predict(test_x)))\n",
        "        train_error.append(error(train_y,model.predict(train_x)))\n",
        "        test_error.append(error(test_y,model.predict(test_x)))\n",
        "    result = pd.DataFrame({'Name':model_names, 'Train_R^2': train_score, 'Test_R^2':model_score, 'Train_RMSE':train_mse,\n",
        "                           'Test_RMSE':model_mse, 'Train_MAE':train_mae, 'Test_MAE':model_mae, 'Train_ERR':train_error,\n",
        "                          'Test_ERR':test_error})\n",
        "    return result"
      ],
      "execution_count": 56,
      "outputs": []
    },
    {
      "cell_type": "markdown",
      "metadata": {
        "id": "wnn1nKRpbAjR"
      },
      "source": [
        "# Split dataset"
      ]
    },
    {
      "cell_type": "code",
      "metadata": {
        "id": "xWC3UNIMbAjR"
      },
      "source": [
        "X = df2.iloc[:, 1:]\n",
        "Y = df2.iloc[:, 0:1]"
      ],
      "execution_count": 57,
      "outputs": []
    },
    {
      "cell_type": "code",
      "metadata": {
        "id": "CNqN3LXebAjR"
      },
      "source": [
        "from sklearn.model_selection import train_test_split\n",
        "X_train, X_test, y_train, y_test = train_test_split(X, Y, test_size = 0.2, random_state = 2021)"
      ],
      "execution_count": 58,
      "outputs": []
    },
    {
      "cell_type": "markdown",
      "metadata": {
        "id": "fnDMyXF2bAjR"
      },
      "source": [
        "# Model selection"
      ]
    },
    {
      "cell_type": "code",
      "metadata": {
        "id": "Zqt4TVzZbAjR"
      },
      "source": [
        "#def grid_search(x, y, model, parameters, cv):\n",
        "#    x = np.array(x)\n",
        "#    y = np.array(y)\n",
        "#    \n",
        "#    search_rf = GridSearchCV(estimator = model,\n",
        "#                             param_grid = parameters, \n",
        "#                             cv = cv,\n",
        "#                             n_jobs = -1,\n",
        "#                             verbose = 2)\n",
        "#    search_rf.fit(x, y)\n",
        "#    grid_result = search_rf.best_params_\n",
        "#    return  grid_result  "
      ],
      "execution_count": 59,
      "outputs": []
    },
    {
      "cell_type": "code",
      "metadata": {
        "id": "orHusa4abAjR"
      },
      "source": [
        "# build model with the best parameters\n",
        "model_lr = LinearRegression()\n",
        "model_ridge = Ridge(solver = 'sparse_cg')\n",
        "model_xgb = XGBRegressor(booster = 'gbtree', n_estimators= 6, max_depth = 4, random_state = 2021)\n",
        "model_lasso = Lasso(random_state = 2021)\n",
        "model_en = ElasticNet()\n",
        "model_rf = RandomForestRegressor(n_estimators = 100, max_features = 2, random_state = 2021)"
      ],
      "execution_count": 60,
      "outputs": []
    },
    {
      "cell_type": "code",
      "metadata": {
        "id": "DvLUQ5sAbAjR"
      },
      "source": [
        "# grid search for xgb\n",
        "#grid_xgb = {\n",
        "#    'booster':['gbtree'],\n",
        "#    'n_estimators':[3, 5, 7],\n",
        "#    'objective':['reg:linear'],\n",
        "#    'learning_rate': [.01, .03, .05, .07], \n",
        "#    'max_depth': [3, 5, 7],\n",
        "#    'min_child_weight': [1,3,5],\n",
        "#    'verbosity': [0],\n",
        "#    'subsample': [0.7,0.8],\n",
        "#    'colsample_bytree': [0.8],\n",
        "#    'random_state':[2021]\n",
        "#}\n",
        "\n",
        "#best_xgb = grid_search(X_train, y_train, model_xgb, grid_xgb, cv= 5)"
      ],
      "execution_count": 61,
      "outputs": []
    },
    {
      "cell_type": "code",
      "metadata": {
        "id": "UpIg-fPWbAjS"
      },
      "source": [
        "#grid search for randomforest\n",
        "#grid_rf = {\n",
        "#    'n_estimators': [50,100,200,500],\n",
        "#    'min_samples_split':[2,4,6,8],\n",
        "#    'min_samples_leaf': [2,4,6],\n",
        "#    'max_depth': [1,3,5],\n",
        "#    'max_features': [2,3,4],\n",
        "#    'random_state': [9527]\n",
        "#}\n",
        "\n",
        "# best_rf = grid_search(X_train, y_train, model_rf, grid_rf, cv= 5)"
      ],
      "execution_count": 62,
      "outputs": []
    },
    {
      "cell_type": "code",
      "metadata": {
        "id": "qBkZEaZ9bAjS"
      },
      "source": [
        "# build model with the best parameter\n",
        "# model_xgb = XGBRegressor(**best_xgb)\n",
        "# model_rf = RandomForestRegressor(**best_rf)"
      ],
      "execution_count": 63,
      "outputs": []
    },
    {
      "cell_type": "code",
      "metadata": {
        "colab": {
          "base_uri": "https://localhost:8080/",
          "height": 289
        },
        "id": "Jf0LlDWWbAjS",
        "outputId": "84144b80-931d-4341-c177-9813661ce602"
      },
      "source": [
        "model_list = [model_lr, model_ridge, model_xgb, model_lasso, model_en, model_rf]\n",
        "scores(model_list, X_train, y_train, X_test, y_test)"
      ],
      "execution_count": 64,
      "outputs": [
        {
          "output_type": "stream",
          "text": [
            "[01:37:10] WARNING: /workspace/src/objective/regression_obj.cu:152: reg:linear is now deprecated in favor of reg:squarederror.\n"
          ],
          "name": "stdout"
        },
        {
          "output_type": "stream",
          "text": [
            "/usr/local/lib/python3.7/dist-packages/ipykernel_launcher.py:17: DataConversionWarning: A column-vector y was passed when a 1d array was expected. Please change the shape of y to (n_samples,), for example using ravel().\n"
          ],
          "name": "stderr"
        },
        {
          "output_type": "execute_result",
          "data": {
            "text/html": [
              "<div>\n",
              "<style scoped>\n",
              "    .dataframe tbody tr th:only-of-type {\n",
              "        vertical-align: middle;\n",
              "    }\n",
              "\n",
              "    .dataframe tbody tr th {\n",
              "        vertical-align: top;\n",
              "    }\n",
              "\n",
              "    .dataframe thead th {\n",
              "        text-align: right;\n",
              "    }\n",
              "</style>\n",
              "<table border=\"1\" class=\"dataframe\">\n",
              "  <thead>\n",
              "    <tr style=\"text-align: right;\">\n",
              "      <th></th>\n",
              "      <th>Name</th>\n",
              "      <th>Train_R^2</th>\n",
              "      <th>Test_R^2</th>\n",
              "      <th>Train_RMSE</th>\n",
              "      <th>Test_RMSE</th>\n",
              "      <th>Train_MAE</th>\n",
              "      <th>Test_MAE</th>\n",
              "      <th>Train_ERR</th>\n",
              "      <th>Test_ERR</th>\n",
              "    </tr>\n",
              "  </thead>\n",
              "  <tbody>\n",
              "    <tr>\n",
              "      <th>0</th>\n",
              "      <td>LinearRegression(copy_X=True, fit_intercept=Tr...</td>\n",
              "      <td>0.682437</td>\n",
              "      <td>0.725427</td>\n",
              "      <td>27503.347728</td>\n",
              "      <td>29635.057273</td>\n",
              "      <td>72.200319</td>\n",
              "      <td>72.745904</td>\n",
              "      <td>3.756851</td>\n",
              "      <td>6.940515</td>\n",
              "    </tr>\n",
              "    <tr>\n",
              "      <th>1</th>\n",
              "      <td>Ridge(alpha=1.0, copy_X=True, fit_intercept=Tr...</td>\n",
              "      <td>0.672655</td>\n",
              "      <td>0.709816</td>\n",
              "      <td>28350.532605</td>\n",
              "      <td>31319.936121</td>\n",
              "      <td>65.161201</td>\n",
              "      <td>65.530896</td>\n",
              "      <td>3.814273</td>\n",
              "      <td>7.135087</td>\n",
              "    </tr>\n",
              "    <tr>\n",
              "      <th>2</th>\n",
              "      <td>XGBRegressor(base_score=0.5, booster='gbtree',...</td>\n",
              "      <td>0.597034</td>\n",
              "      <td>0.573137</td>\n",
              "      <td>34899.855366</td>\n",
              "      <td>46071.936049</td>\n",
              "      <td>77.991697</td>\n",
              "      <td>97.520855</td>\n",
              "      <td>4.231974</td>\n",
              "      <td>8.653804</td>\n",
              "    </tr>\n",
              "    <tr>\n",
              "      <th>3</th>\n",
              "      <td>Lasso(alpha=1.0, copy_X=True, fit_intercept=Tr...</td>\n",
              "      <td>0.682430</td>\n",
              "      <td>0.725408</td>\n",
              "      <td>27503.945854</td>\n",
              "      <td>29637.044159</td>\n",
              "      <td>72.119468</td>\n",
              "      <td>72.480423</td>\n",
              "      <td>3.756892</td>\n",
              "      <td>6.940748</td>\n",
              "    </tr>\n",
              "    <tr>\n",
              "      <th>4</th>\n",
              "      <td>ElasticNet(alpha=1.0, copy_X=True, fit_interce...</td>\n",
              "      <td>0.682421</td>\n",
              "      <td>0.725246</td>\n",
              "      <td>27504.702295</td>\n",
              "      <td>29654.536473</td>\n",
              "      <td>71.870573</td>\n",
              "      <td>72.211405</td>\n",
              "      <td>3.756943</td>\n",
              "      <td>6.942796</td>\n",
              "    </tr>\n",
              "    <tr>\n",
              "      <th>5</th>\n",
              "      <td>(DecisionTreeRegressor(ccp_alpha=0.0, criterio...</td>\n",
              "      <td>0.980826</td>\n",
              "      <td>0.933764</td>\n",
              "      <td>1660.588200</td>\n",
              "      <td>7148.950359</td>\n",
              "      <td>15.225692</td>\n",
              "      <td>34.674191</td>\n",
              "      <td>0.923128</td>\n",
              "      <td>3.408866</td>\n",
              "    </tr>\n",
              "  </tbody>\n",
              "</table>\n",
              "</div>"
            ],
            "text/plain": [
              "                                                Name  ...  Test_ERR\n",
              "0  LinearRegression(copy_X=True, fit_intercept=Tr...  ...  6.940515\n",
              "1  Ridge(alpha=1.0, copy_X=True, fit_intercept=Tr...  ...  7.135087\n",
              "2  XGBRegressor(base_score=0.5, booster='gbtree',...  ...  8.653804\n",
              "3  Lasso(alpha=1.0, copy_X=True, fit_intercept=Tr...  ...  6.940748\n",
              "4  ElasticNet(alpha=1.0, copy_X=True, fit_interce...  ...  6.942796\n",
              "5  (DecisionTreeRegressor(ccp_alpha=0.0, criterio...  ...  3.408866\n",
              "\n",
              "[6 rows x 9 columns]"
            ]
          },
          "metadata": {
            "tags": []
          },
          "execution_count": 64
        }
      ]
    },
    {
      "cell_type": "code",
      "metadata": {
        "colab": {
          "base_uri": "https://localhost:8080/"
        },
        "id": "feIRx-PWbAjS",
        "outputId": "127c7c15-9134-4288-dae8-1205fdc3176f"
      },
      "source": [
        "train_x = np.array(X_train)\n",
        "train_y = np.array(y_train)\n",
        "model = model_rf.fit(train_x, train_y)"
      ],
      "execution_count": 65,
      "outputs": [
        {
          "output_type": "stream",
          "text": [
            "/usr/local/lib/python3.7/dist-packages/ipykernel_launcher.py:3: DataConversionWarning: A column-vector y was passed when a 1d array was expected. Please change the shape of y to (n_samples,), for example using ravel().\n",
            "  This is separate from the ipykernel package so we can avoid doing imports until\n"
          ],
          "name": "stderr"
        }
      ]
    },
    {
      "cell_type": "code",
      "metadata": {
        "colab": {
          "base_uri": "https://localhost:8080/",
          "height": 266
        },
        "id": "KL8-NzqSbAjS",
        "outputId": "dcde7b49-fb50-42c7-92e8-07c09839689d"
      },
      "source": [
        "pd.DataFrame({\n",
        "    'features': X.columns,\n",
        "    'importance': model.feature_importances_\n",
        "}).sort_values(by=['importance'],ascending=False).reset_index(drop = True)"
      ],
      "execution_count": 66,
      "outputs": [
        {
          "output_type": "execute_result",
          "data": {
            "text/html": [
              "<div>\n",
              "<style scoped>\n",
              "    .dataframe tbody tr th:only-of-type {\n",
              "        vertical-align: middle;\n",
              "    }\n",
              "\n",
              "    .dataframe tbody tr th {\n",
              "        vertical-align: top;\n",
              "    }\n",
              "\n",
              "    .dataframe thead th {\n",
              "        text-align: right;\n",
              "    }\n",
              "</style>\n",
              "<table border=\"1\" class=\"dataframe\">\n",
              "  <thead>\n",
              "    <tr style=\"text-align: right;\">\n",
              "      <th></th>\n",
              "      <th>features</th>\n",
              "      <th>importance</th>\n",
              "    </tr>\n",
              "  </thead>\n",
              "  <tbody>\n",
              "    <tr>\n",
              "      <th>0</th>\n",
              "      <td>Current Employees</td>\n",
              "      <td>0.427904</td>\n",
              "    </tr>\n",
              "    <tr>\n",
              "      <th>1</th>\n",
              "      <td>Raised to Date</td>\n",
              "      <td>0.356034</td>\n",
              "    </tr>\n",
              "    <tr>\n",
              "      <th>2</th>\n",
              "      <td>Last VC Deal Type</td>\n",
              "      <td>0.109248</td>\n",
              "    </tr>\n",
              "    <tr>\n",
              "      <th>3</th>\n",
              "      <td>CompanyAge</td>\n",
              "      <td>0.092217</td>\n",
              "    </tr>\n",
              "    <tr>\n",
              "      <th>4</th>\n",
              "      <td>Country</td>\n",
              "      <td>0.011615</td>\n",
              "    </tr>\n",
              "    <tr>\n",
              "      <th>5</th>\n",
              "      <td>Primary Industry Group</td>\n",
              "      <td>0.002796</td>\n",
              "    </tr>\n",
              "    <tr>\n",
              "      <th>6</th>\n",
              "      <td>Primary Industry Sector</td>\n",
              "      <td>0.000185</td>\n",
              "    </tr>\n",
              "  </tbody>\n",
              "</table>\n",
              "</div>"
            ],
            "text/plain": [
              "                  features  importance\n",
              "0        Current Employees    0.427904\n",
              "1           Raised to Date    0.356034\n",
              "2        Last VC Deal Type    0.109248\n",
              "3               CompanyAge    0.092217\n",
              "4                  Country    0.011615\n",
              "5   Primary Industry Group    0.002796\n",
              "6  Primary Industry Sector    0.000185"
            ]
          },
          "metadata": {
            "tags": []
          },
          "execution_count": 66
        }
      ]
    },
    {
      "cell_type": "code",
      "metadata": {
        "id": "NUmSck2TbAjS"
      },
      "source": [
        ""
      ],
      "execution_count": 66,
      "outputs": []
    }
  ]
}
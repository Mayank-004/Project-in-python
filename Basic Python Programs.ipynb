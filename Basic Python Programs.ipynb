{
  "nbformat": 4,
  "nbformat_minor": 0,
  "metadata": {
    "kernelspec": {
      "display_name": "Python 3",
      "language": "python",
      "name": "python3"
    },
    "language_info": {
      "codemirror_mode": {
        "name": "ipython",
        "version": 3
      },
      "file_extension": ".py",
      "mimetype": "text/x-python",
      "name": "python",
      "nbconvert_exporter": "python",
      "pygments_lexer": "ipython3",
      "version": "3.7.6"
    },
    "colab": {
      "name": "Week_1_Assignment (1).ipynb",
      "provenance": [],
      "include_colab_link": true
    }
  },
  "cells": [
    {
      "cell_type": "markdown",
      "metadata": {
        "id": "view-in-github",
        "colab_type": "text"
      },
      "source": [
        "<a href=\"https://colab.research.google.com/github/Mayank-004/Project-in-python/blob/main/Basic%20Python%20Programs.ipynb\" target=\"_parent\"><img src=\"https://colab.research.google.com/assets/colab-badge.svg\" alt=\"Open In Colab\"/></a>"
      ]
    },
    {
      "cell_type": "markdown",
      "metadata": {
        "id": "-U4RMO2AnHZh"
      },
      "source": [
        "# Week 1 Assignment\n",
        "* Download the \"Week_1_Assignment.ipynb\" notebook \n",
        "* Fill in the code in the cells marked with `# YOUR ANSWER HERE:` by answering the question/task defined in the cell above it starting with `GRADED:`\n",
        "* Code cells outside of `# YOUR ANSWER HERE:` will not be considered for grading. \n",
        "  * Feel free to write outside of it for debugging\n",
        "* Submit the updated notebook\n",
        "  * Make sure to save your changes before submitting it!"
      ]
    },
    {
      "cell_type": "code",
      "metadata": {
        "id": "R-T55PTYnHZk"
      },
      "source": [
        "#Import necessary libraries\n",
        "import pandas as pd\n",
        "import numpy as np"
      ],
      "execution_count": 1,
      "outputs": []
    },
    {
      "cell_type": "markdown",
      "metadata": {
        "id": "WyilS-icnHZk"
      },
      "source": [
        "`GRADED [1]`: Provided below are functions that are:\n",
        "- completely defined: `add_numbers`;\n",
        "- partially defined: `max_number`; _and_\n",
        "- not defined at all: `sqrt_exp_number`\n",
        "\n",
        " 1. Complete `max_number` so that it returns the maximum of two numbers\n",
        " 2. Write a function called `sqrt_calc` to calculate the square root of (a given number divided by (1 - the same given number))"
      ]
    },
    {
      "cell_type": "code",
      "metadata": {
        "colab": {
          "base_uri": "https://localhost:8080/"
        },
        "id": "pOoaaTPenHZk",
        "outputId": "2f785e9c-4bc3-4735-caa9-5a2826079177"
      },
      "source": [
        "# YOUR ANSWER HERE:\n",
        "\n",
        "def add_numbers(a, b):\n",
        "    result = a + b\n",
        "    return result\n",
        "\n",
        "def max_number(a, b):\n",
        "    # Write code to return the max of a and b\n",
        "    if a>b:\n",
        "      result=a\n",
        "    else:\n",
        "      result=b\n",
        "\n",
        "     # Replace None with your code\n",
        "    return result\n",
        "\n",
        "def  sqrt_calc(a):\n",
        "     rr=(a/(1-a))**(1/2)\n",
        "     return rr\n",
        "\n"
      ],
      "execution_count": 36,
      "outputs": [
        {
          "output_type": "stream",
          "text": [
            "3.0\n"
          ],
          "name": "stdout"
        }
      ]
    },
    {
      "cell_type": "markdown",
      "metadata": {
        "id": "iK1HFmHfnHZk"
      },
      "source": [
        "`GRADED [2]`: Write a function called `show_info` that takes a name, height in centimeters, and a home state (a total of 3 arguments) and returns a full sentence string with the following content and format: `Your name is [name] and you are [cm] tall and live in the state of [state].` Please make sure that you follow the format and grammar of the sentence exactly as defined and that you properly capitalize and format the two letter abbreviation of the home state.\n",
        "_Hint: Your string shold follow the Python f-strings formatting functionality. https://realpython.com/python-f-strings/"
      ]
    },
    {
      "cell_type": "code",
      "metadata": {
        "id": "V50Gnj21nHZk"
      },
      "source": [
        "# YOUR ANSER HERE\n",
        "\n",
        "def show_info(Name,Height_cm,Home_state):\n",
        "   \n",
        "    print(f\"Your name is {Name} and you are {Height_cm} centimetres tall and live in the state of {Home_state}\")\n",
        "\n",
        "\n"
      ],
      "execution_count": 71,
      "outputs": []
    },
    {
      "cell_type": "code",
      "metadata": {
        "colab": {
          "base_uri": "https://localhost:8080/"
        },
        "id": "4PLHF_csnHZl",
        "outputId": "796804f0-61a9-4deb-9ebb-06a7e00406e2"
      },
      "source": [
        "show_info('Jane Austen', 160, 'Massachusetts')  # please do not modify this cell"
      ],
      "execution_count": 72,
      "outputs": [
        {
          "output_type": "stream",
          "text": [
            "Your name is Jane Austen and you are 160 centimetres tall and live in the state of Massachusetts\n"
          ],
          "name": "stdout"
        }
      ]
    },
    {
      "cell_type": "markdown",
      "metadata": {
        "id": "cVaoF5d1nHZl"
      },
      "source": [
        "`GRADED [3]`: Using a `for` loop, iterate through the sequential list of __all__ integers from `20` to `53` (__`inclusive`__) and print each integer in that range that is divisible by (`3` __OR__ `12`) __AND__ (is `not` an odd number)."
      ]
    },
    {
      "cell_type": "code",
      "metadata": {
        "colab": {
          "base_uri": "https://localhost:8080/"
        },
        "id": "DyHX4BXCnHZl",
        "outputId": "72c11331-34fd-4e5c-fa24-27909b767c89"
      },
      "source": [
        "# YOUR ANSER HERE:\n",
        "\n",
        "for i in range(20,54):\n",
        "  if (i%3 ==0 or i%12==0) and (i%2==0):\n",
        "    print(i)\n"
      ],
      "execution_count": 66,
      "outputs": [
        {
          "output_type": "stream",
          "text": [
            "24\n",
            "30\n",
            "36\n",
            "42\n",
            "48\n"
          ],
          "name": "stdout"
        }
      ]
    },
    {
      "cell_type": "markdown",
      "metadata": {
        "collapsed": true,
        "id": "-Pmx8WIZnHZl"
      },
      "source": [
        "`GRADED [4]`: Using a `while` loop: loop over every sequential even number between `501` and `642` (__`inclusive`__); in the same `while` loop print __`only`__ every 10th sequential even number you have encountered in the loop."
      ]
    },
    {
      "cell_type": "code",
      "metadata": {
        "id": "Z6xlOclYnHZl"
      },
      "source": [
        "# YOUR ANSER HERE:"
      ],
      "execution_count": null,
      "outputs": []
    },
    {
      "cell_type": "code",
      "metadata": {
        "colab": {
          "base_uri": "https://localhost:8080/"
        },
        "id": "MuX51uxJPO2p",
        "outputId": "40dd8e03-6f9b-42d5-97b8-7ad9f234b220"
      },
      "source": [
        "i=501\n",
        "num=0\n",
        "while i <= 642:\n",
        "    if(i%2==0):\n",
        "        num=num+1\n",
        "        if(num%10==0):\n",
        "            print(f\"Printing  {i}\" )\n",
        "\n",
        "    #print(f\"num: {num}\")\n",
        "    #print(f\"i: {i}\")\n",
        "    i = i+1"
      ],
      "execution_count": 14,
      "outputs": [
        {
          "output_type": "stream",
          "text": [
            "Printing  520\n",
            "Printing  540\n",
            "Printing  560\n",
            "Printing  580\n",
            "Printing  600\n",
            "Printing  620\n",
            "Printing  640\n"
          ],
          "name": "stdout"
        }
      ]
    },
    {
      "cell_type": "markdown",
      "metadata": {
        "id": "r3xsvzNFnHZl"
      },
      "source": [
        "`GRADED [5]`: Using a `for` loop, iterate over the dictionary defined below and, for each, key-value pair in the dictionary, print a single string of the form; `The CEO of [company] is [CEO name].` where `[company]` and `[CEO name]` are the corresponding values."
      ]
    },
    {
      "cell_type": "code",
      "metadata": {
        "colab": {
          "base_uri": "https://localhost:8080/"
        },
        "id": "md86U7N0nHZl",
        "outputId": "f9eb7f74-276e-4800-e969-767678cfb7c9"
      },
      "source": [
        "# YOUR ANSER HERE:\n",
        "company_dict = {\n",
        "    'Satya Nadella': 'Microsoft',\n",
        "    'Jeff Bezos': 'Amazon',\n",
        "    'Tim Cook': 'Apple'\n",
        "}\n",
        "\n",
        "for key in company_dict:\n",
        "    print(f\"The ceo of the company {company_dict[key]} is {key} \")"
      ],
      "execution_count": 18,
      "outputs": [
        {
          "output_type": "stream",
          "text": [
            "The ceo of the company Microsoft is Satya Nadella \n",
            "The ceo of the company Amazon is Jeff Bezos \n",
            "The ceo of the company Apple is Tim Cook \n"
          ],
          "name": "stdout"
        }
      ]
    },
    {
      "cell_type": "markdown",
      "metadata": {
        "id": "rpXbGjiwnHZl"
      },
      "source": [
        "`GRADED [6]`: Define a function called `time_converter` that takes as an argument an elapsed amount of time in `seconds` and prints the elapsed time converted to `hours, minutes, seconds` using the following sentence: `Original elapsed time was [..] seconds, which equals [..] hours, [..] minutes and [..] seconds.`"
      ]
    },
    {
      "cell_type": "code",
      "metadata": {
        "id": "JjoxQBUYnHZl"
      },
      "source": [
        "# YOUR ANSWER HERE:\n",
        "\n",
        "def time_converter(elapsed_time):\n",
        "    temp = elapsed_time \n",
        "    hours = temp//3600\n",
        "    temp = temp - 3600*hours\n",
        "    minutes = temp//60\n",
        "    temp = temp - 60*minutes\n",
        "    seconds= temp//60\n",
        "    print(f'Original elapsed time was {elapsed_time} seconds, which equals {hours} hours, {minutes} minutes and {seconds} seconds.')\n",
        "\n"
      ],
      "execution_count": 33,
      "outputs": []
    },
    {
      "cell_type": "code",
      "metadata": {
        "colab": {
          "base_uri": "https://localhost:8080/"
        },
        "id": "YPNdRS1P36N7",
        "outputId": "e9426a04-da8a-43ce-b40f-87f74ea9d24e"
      },
      "source": [
        "    time_converter(37899)"
      ],
      "execution_count": 35,
      "outputs": [
        {
          "output_type": "stream",
          "text": [
            "Original elapsed time was 37899 seconds, which equals 10 hours, 31 minutes and 0 seconds.\n"
          ],
          "name": "stdout"
        }
      ]
    }
  ]
}